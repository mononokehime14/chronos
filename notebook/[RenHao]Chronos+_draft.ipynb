{
 "cells": [
  {
   "cell_type": "markdown",
   "id": "ebe90dea",
   "metadata": {},
   "source": [
    "# Introduction\n",
    "\n",
    "This notebook duplicates the data preprocessing and modelling that Chronos+ does, with all the database and job queue code stripped out. As far as possible, the duplication is verbatim to facilitate the transfer of any changes made in this notebook back into Chronos+. All current data rejection points are also documented.\n",
    "\n",
    "## Imports"
   ]
  },
  {
   "cell_type": "code",
   "execution_count": 1,
   "id": "584e9515",
   "metadata": {},
   "outputs": [
    {
     "name": "stderr",
     "output_type": "stream",
     "text": [
      "Using TensorFlow backend.\n",
      "/Users/preh0405/opt/anaconda3/envs/chrono/lib/python3.7/site-packages/tensorflow/python/framework/dtypes.py:516: FutureWarning: Passing (type, 1) or '1type' as a synonym of type is deprecated; in a future version of numpy, it will be understood as (type, (1,)) / '(1,)type'.\n",
      "  _np_qint8 = np.dtype([(\"qint8\", np.int8, 1)])\n",
      "/Users/preh0405/opt/anaconda3/envs/chrono/lib/python3.7/site-packages/tensorflow/python/framework/dtypes.py:517: FutureWarning: Passing (type, 1) or '1type' as a synonym of type is deprecated; in a future version of numpy, it will be understood as (type, (1,)) / '(1,)type'.\n",
      "  _np_quint8 = np.dtype([(\"quint8\", np.uint8, 1)])\n",
      "/Users/preh0405/opt/anaconda3/envs/chrono/lib/python3.7/site-packages/tensorflow/python/framework/dtypes.py:518: FutureWarning: Passing (type, 1) or '1type' as a synonym of type is deprecated; in a future version of numpy, it will be understood as (type, (1,)) / '(1,)type'.\n",
      "  _np_qint16 = np.dtype([(\"qint16\", np.int16, 1)])\n",
      "/Users/preh0405/opt/anaconda3/envs/chrono/lib/python3.7/site-packages/tensorflow/python/framework/dtypes.py:519: FutureWarning: Passing (type, 1) or '1type' as a synonym of type is deprecated; in a future version of numpy, it will be understood as (type, (1,)) / '(1,)type'.\n",
      "  _np_quint16 = np.dtype([(\"quint16\", np.uint16, 1)])\n",
      "/Users/preh0405/opt/anaconda3/envs/chrono/lib/python3.7/site-packages/tensorflow/python/framework/dtypes.py:520: FutureWarning: Passing (type, 1) or '1type' as a synonym of type is deprecated; in a future version of numpy, it will be understood as (type, (1,)) / '(1,)type'.\n",
      "  _np_qint32 = np.dtype([(\"qint32\", np.int32, 1)])\n",
      "/Users/preh0405/opt/anaconda3/envs/chrono/lib/python3.7/site-packages/tensorflow/python/framework/dtypes.py:525: FutureWarning: Passing (type, 1) or '1type' as a synonym of type is deprecated; in a future version of numpy, it will be understood as (type, (1,)) / '(1,)type'.\n",
      "  np_resource = np.dtype([(\"resource\", np.ubyte, 1)])\n"
     ]
    }
   ],
   "source": [
    "import logging\n",
    "import math\n",
    "import time\n",
    "import numpy as np\n",
    "import pandas as pd\n",
    "import statsmodels.tsa.stattools as sts\n",
    "from scipy.signal import argrelextrema\n",
    "import glob\n",
    "import zipfile\n",
    "import datetime\n",
    "\n",
    "from keras.callbacks import Callback\n",
    "from keras.models import Sequential\n",
    "from keras.layers import Dense\n",
    "from keras import backend as K\n",
    "from sklearn.model_selection import train_test_split\n",
    "\n",
    "%load_ext autoreload\n",
    "# %autoreload 2\n",
    "%reload_ext autoreload\n",
    "\n",
    "\n",
    "%matplotlib inline\n",
    "logging.getLogger().setLevel(logging.INFO)"
   ]
  },
  {
   "cell_type": "markdown",
   "id": "e2ec0107",
   "metadata": {},
   "source": [
    "## Define CSV filename, datetime and value columns\n",
    "\n",
    "To test the modelling and scoring process on your own data, just change the following variables.\n",
    "\n",
    "1. `datecol` --> the name of the column in the CSV file we wish to use as the time series index.\n",
    "2. `ycols` --> the list of names of the value columns we wish to train and score on.\n",
    "3. `fname` --> name of csv file."
   ]
  },
  {
   "cell_type": "code",
   "execution_count": 2,
   "id": "f7530d3f",
   "metadata": {},
   "outputs": [],
   "source": [
    "# dscol = \"Time\"\n",
    "# ycols = [\"SA1900282\"] # there can be more than one\n",
    "# fname = \"data/giordano-oct-nov.csv\"  # [ANDY] what's the prerequisite format of ts df (sample multivariate ts data)? can accommodate for ts1 = [0,30,60,90] and ts = [1,16,31,46]?"
   ]
  },
  {
   "cell_type": "markdown",
   "id": "1e8fcc7f",
   "metadata": {},
   "source": [
    "## Ingesting the data\n",
    "\n",
    "1. `datecol` must exist in the CSV or we raise an exception\n",
    "2. `ycols` must contain the name of at least one column or we raise an exception\n",
    "3. every column in `ycols` must exist in the CSV or we raise an exception\n",
    "4. if we cannot parse a value in the datetime column as a datetime, we discard the whole row\n",
    "5. every value in the columns denoted by `ycols` is parsed as a float or set to np.nan\n",
    "6. we set the `datecol` column as the index of the dataframe\n",
    "7. we sort the dataframe by the index\n",
    "7. we drop any columns not listed in `ycols` and return the result"
   ]
  },
  {
   "cell_type": "code",
   "execution_count": 3,
   "id": "7390c054",
   "metadata": {},
   "outputs": [],
   "source": [
    "class MissingColumnError(Exception):\n",
    "    def __init__(self, col, *args, **kwargs):\n",
    "        self.column = col\n",
    "        Exception.__init__(self, *args, **kwargs)\n",
    "\n",
    "def separate_weekends(df):\n",
    "    list_weekday = []\n",
    "    list_weekends = []\n",
    "    for idx, row in df.iterrows():\n",
    "        weekno = row[dscol].weekday()      \n",
    "        if weekno < 5:\n",
    "            list_weekday.append(row.tolist())\n",
    "        else:\n",
    "            list_weekends.append(row.tolist())\n",
    "    _ycols = ycols.copy()\n",
    "    _ycols.insert(0,dscol)\n",
    "    df_weekday = pd.DataFrame(list_weekday, columns = _ycols)\n",
    "    df_weekends = pd.DataFrame(list_weekends, columns = _ycols)\n",
    "    return df_weekday, df_weekends\n",
    "\n",
    "def ingest(csv, dscol, ycols):\n",
    "    \"\"\" ingests a timeseries csv. Does not throw an error if datetime format is not followed (will always try to interpret) or if value column contains non-int or non-floats.\n",
    "\n",
    "    1) renames the datetime column to 'ds'\n",
    "\n",
    "    2) indexes the 'ds' column\n",
    "\n",
    "    3) sorts by ds column\n",
    "    \n",
    "    Parameters\n",
    "    ----------\n",
    "    csv : str \n",
    "         path to csv with header and format `datetime,value`.\n",
    "         datetime: {%Y-%m-%d (e.g. 2017-12-01), \n",
    "                    %Y-%m-%d (e.g. 2017-12-1), \n",
    "                    %Y-%b-%d (e.g. 2017-Dec-01), \n",
    "                    %d-%b-%Y (e.g. 1-Dec-2017), \n",
    "                    %Y-%m-%d %H:%M:%S (e.g. 2017-12-01 00:00:00)}\n",
    "                 * note all represent 1st December 2017\n",
    "         value: {float, int}\n",
    "\n",
    "    dscol : str\n",
    "                    the header name for the datetime column in the csv\n",
    "    ycols: list of str\n",
    "                    the names of the value columns\n",
    "    \n",
    "    Returns\n",
    "    -------\n",
    "    pandas.DataFrame\n",
    "\n",
    "    \"\"\"\n",
    "    df = pd.read_csv(csv)\n",
    "\n",
    "    if dscol not in df:\n",
    "        raise MissingColumnError(dscol)\n",
    "\n",
    "    if not ycols:\n",
    "        raise ValueError(f\"ycols is empty: {ycols}\")\n",
    "\n",
    "    for ycol in ycols:\n",
    "        if ycol not in df:\n",
    "            raise MissingColumnError(ycol)\n",
    "\n",
    "    # if the date column is not parseable as a date, then we should discard the row\n",
    "    df[dscol] = pd.to_datetime(df[dscol], errors=\"coerce\")\n",
    "    df = df[~df[dscol].isnull()]\n",
    "\n",
    "    # parse value column as float. no exceptions\n",
    "    for ycol in ycols:\n",
    "        df[ycol] = pd.to_numeric(df[ycol], errors='coerce')  # [ANDY] can use pd.to_numeric(df[ycol], errors='coerce')\n",
    "    df_weekdays, df_weekends = separate_weekends(df)\n",
    "    df_weekdays = df_weekdays.set_index(dscol).sort_index()[ycols]\n",
    "    df_weekends = df_weekends.set_index(dscol).sort_index()[ycols]\n",
    "    #df = df.set_index(dscol).sort_index()[ycols]\n",
    "    return df_weekdays, df_weekends  # [ANDY] redundant sort_index()?\n",
    "\n",
    "def __float_or_nan(o):\n",
    "    try:\n",
    "        return np.float(o)\n",
    "    except:\n",
    "        return np.nan"
   ]
  },
  {
   "cell_type": "code",
   "execution_count": 4,
   "id": "8fca4a26",
   "metadata": {},
   "outputs": [],
   "source": [
    "def ingest_from_zip(filename,dscol, ycols):\n",
    "    for zip_file in glob.glob(filename):\n",
    "        zf = zipfile.ZipFile(zip_file)\n",
    "        dfs = []\n",
    "        df_test = pd.DataFrame()\n",
    "        for f in zf.namelist():\n",
    "            _ = pd.read_csv(zf.open(f))\n",
    "            \n",
    "#             if f == '210226-210304_weekly.csv':\n",
    "#                 replace = []\n",
    "#                 for idx,row in _.iterrows():\n",
    "#                     temp = row['time'].split(\" \")\n",
    "#                     if temp[0] == '2021-02-03':\n",
    "#                         replace.append('2021-03-02 ' + temp[1])\n",
    "#                     elif temp[0] == '2021-01-03':\n",
    "#                         replace.append('2021-03-01 ' + temp[1])\n",
    "#                     elif temp[0] == '2021-04-03':\n",
    "#                         replace.append('2021-03-04 ' + temp[1])\n",
    "#                     else:\n",
    "#                         replace.append(row['time'])\n",
    "#                 _['time'] = pd.Series(replace)\n",
    "#                 _.to_csv('210226-210304_weekly.csv',index = False)\n",
    "#             elif f == '210305-210311_weekly.csv':\n",
    "#                 replace = []\n",
    "#                 for idx,row in _.iterrows():\n",
    "#                     temp = row['time'].split(\" \")[0].split(\"-\")\n",
    "#                     month = temp[2]\n",
    "#                     day = temp[1]\n",
    "#                     year = temp[0]\n",
    "#                     replace.append(year + '-' + month + '-' + day + ' ' + row['time'].split(\" \")[1])\n",
    "#                 _['time'] = pd.Series(replace)\n",
    "#                 _.to_csv('210305-210311_weekly.csv',index = False)\n",
    "#             elif f == '210312-210318_weekly.csv':\n",
    "#                 replace = []\n",
    "#                 for idx,row in _.iterrows():\n",
    "#                     temp = row['time'].split(\" \")\n",
    "#                     if temp[0] == '2021-12-03':\n",
    "#                         replace.append('2021-03-12 ' + temp[1])\n",
    "#                     else:\n",
    "#                         replace.append(row['time'])\n",
    "#                 _['time'] = pd.Series(replace)\n",
    "#                 _.to_csv('210312-210318_weekly.csv',index = False)\n",
    "                \n",
    "            dfs.append(_)\n",
    "        df = pd.concat(dfs,ignore_index=True)\n",
    "        \n",
    "    if dscol not in df:\n",
    "        raise MissingColumnError(dscol)\n",
    "\n",
    "    if not ycols:\n",
    "        raise ValueError(f\"ycols is empty: {ycols}\")\n",
    "\n",
    "    for ycol in ycols:\n",
    "        if ycol not in df:\n",
    "            raise MissingColumnError(ycol)\n",
    "\n",
    "    # if the date column is not parseable as a date, then we should discard the row\n",
    "    df[dscol] = pd.to_datetime(df[dscol], errors=\"coerce\")\n",
    "    df = df[~df[dscol].isnull()]\n",
    "\n",
    "    # parse value column as float. no exceptions\n",
    "    for ycol in ycols:\n",
    "        df[ycol] = pd.to_numeric(df[ycol], errors='coerce')  # [ANDY] can use pd.to_numeric(df[ycol], errors='coerce')\n",
    "    \n",
    "    df_weekdays, df_weekends = separate_weekends(df)\n",
    "    df_weekdays = df_weekdays.set_index(dscol).sort_index()[ycols]\n",
    "    df_weekends = df_weekends.set_index(dscol).sort_index()[ycols]\n",
    "    #df = df.set_index(dscol).sort_index()[ycols]\n",
    "\n",
    "    return df_weekdays, df_weekends"
   ]
  },
  {
   "cell_type": "code",
   "execution_count": 5,
   "id": "b59e107a",
   "metadata": {},
   "outputs": [],
   "source": [
    "#df = ingest(fname, dscol, ycols)  # [ANDY] drop rows with unparseable ts but keep rows with NaN in ycols"
   ]
  },
  {
   "cell_type": "code",
   "execution_count": 6,
   "id": "79676b58",
   "metadata": {},
   "outputs": [],
   "source": [
    "fname = \"data/gt-weekly.zip\"\n",
    "dscol = 'time'\n",
    "ycols = ['i1','i2','i3','i4','i5','i6','i7','i8','i9','i10']\n",
    "df_weekdays, df_weekends = ingest_from_zip(fname,dscol, ycols)"
   ]
  },
  {
   "cell_type": "code",
   "execution_count": 7,
   "id": "d7bcb8b3",
   "metadata": {},
   "outputs": [
    {
     "data": {
      "application/vnd.jupyter.widget-view+json": {
       "model_id": "d5b1713acb7c473b949aa3d23f75a838",
       "version_major": 2,
       "version_minor": 0
      },
      "text/plain": [
       "Finding frequency:   0%|          | 0/2 [00:00<?, ?it/s]"
      ]
     },
     "metadata": {},
     "output_type": "display_data"
    },
    {
     "name": "stdout",
     "output_type": "stream",
     "text": [
      "(25200, 10)\n",
      "(10080, 10)\n",
      "dict_keys(['ycols', 'dscol', 'weekdays', 'weekends', 'orient'])\n",
      "dict_keys(['minfreq', 'colfreqs'])\n",
      "dict_keys(['minfreq', 'colfreqs'])\n"
     ]
    },
    {
     "data": {
      "application/vnd.jupyter.widget-view+json": {
       "model_id": "04bd64f2c06c480cbeb7e11332644cf6",
       "version_major": 2,
       "version_minor": 0
      },
      "text/plain": [
       "Detecting Period:   0%|          | 0/2 [00:00<?, ?it/s]"
      ]
     },
     "metadata": {},
     "output_type": "display_data"
    },
    {
     "name": "stderr",
     "output_type": "stream",
     "text": [
      "/Users/preh0405/opt/anaconda3/envs/chrono/lib/python3.7/site-packages/statsmodels/tsa/stattools.py:541: FutureWarning: fft=True will become the default in a future version of statsmodels. To suppress this warning, explicitly set fft=False.\n",
      "  warnings.warn(msg, FutureWarning)\n"
     ]
    },
    {
     "name": "stdout",
     "output_type": "stream",
     "text": [
      "(25200, 10)\n",
      "(10080, 10)\n",
      "dict_keys(['ycols', 'dscol', 'weekdays', 'weekends', 'orient'])\n",
      "dict_keys(['minfreq', 'colfreqs', 'period'])\n",
      "dict_keys(['minfreq', 'colfreqs', 'period'])\n"
     ]
    },
    {
     "data": {
      "application/vnd.jupyter.widget-view+json": {
       "model_id": "21897f4f35364638b5036c97fb71cb96",
       "version_major": 2,
       "version_minor": 0
      },
      "text/plain": [
       "Aligning data:   0%|          | 0/2 [00:00<?, ?it/s]"
      ]
     },
     "metadata": {},
     "output_type": "display_data"
    },
    {
     "name": "stdout",
     "output_type": "stream",
     "text": [
      "(35279, 10)\n",
      "(31679, 10)\n",
      "dict_keys(['ycols', 'dscol', 'weekdays', 'weekends', 'orient'])\n",
      "dict_keys(['minfreq', 'colfreqs', 'period', 'anchors', 'zeropoint'])\n",
      "dict_keys(['minfreq', 'colfreqs', 'period', 'anchors', 'zeropoint'])\n"
     ]
    },
    {
     "data": {
      "application/vnd.jupyter.widget-view+json": {
       "model_id": "14dc643d21ba4955a2d52f11524bf1a8",
       "version_major": 2,
       "version_minor": 0
      },
      "text/plain": [
       "Dropping Extrema:   0%|          | 0/2 [00:00<?, ?it/s]"
      ]
     },
     "metadata": {},
     "output_type": "display_data"
    },
    {
     "name": "stdout",
     "output_type": "stream",
     "text": [
      "(35279, 10)\n",
      "(31679, 10)\n",
      "dict_keys(['ycols', 'dscol', 'weekdays', 'weekends', 'orient'])\n",
      "dict_keys(['minfreq', 'colfreqs', 'period', 'anchors', 'zeropoint'])\n",
      "dict_keys(['minfreq', 'colfreqs', 'period', 'anchors', 'zeropoint'])\n"
     ]
    },
    {
     "data": {
      "application/vnd.jupyter.widget-view+json": {
       "model_id": "6cd12815e30e457c8392fcaee97d328d",
       "version_major": 2,
       "version_minor": 0
      },
      "text/plain": [
       "Normalising:   0%|          | 0/2 [00:00<?, ?it/s]"
      ]
     },
     "metadata": {},
     "output_type": "display_data"
    },
    {
     "name": "stdout",
     "output_type": "stream",
     "text": [
      "(35279, 11)\n",
      "(31679, 11)\n",
      "dict_keys(['ycols', 'dscol', 'weekdays', 'weekends', 'orient'])\n",
      "dict_keys(['minfreq', 'colfreqs', 'period', 'anchors', 'zeropoint', 'modnorms'])\n",
      "dict_keys(['minfreq', 'colfreqs', 'period', 'anchors', 'zeropoint', 'modnorms'])\n"
     ]
    },
    {
     "data": {
      "application/vnd.jupyter.widget-view+json": {
       "model_id": "6a496076de434636853bf85e16223765",
       "version_major": 2,
       "version_minor": 0
      },
      "text/plain": [
       "Filling gap:   0%|          | 0/2 [00:00<?, ?it/s]"
      ]
     },
     "metadata": {},
     "output_type": "display_data"
    },
    {
     "name": "stdout",
     "output_type": "stream",
     "text": [
      "ok10\n",
      "ok20\n",
      "ok11\n",
      "ok21\n",
      "(35279, 11)\n",
      "(31679, 11)\n",
      "dict_keys(['ycols', 'dscol', 'weekdays', 'weekends', 'orient'])\n",
      "dict_keys(['minfreq', 'colfreqs', 'period', 'anchors', 'zeropoint', 'modnorms', 'profile', 'time_index'])\n",
      "dict_keys(['minfreq', 'colfreqs', 'period', 'anchors', 'zeropoint', 'modnorms', 'profile', 'time_index'])\n",
      "(35279, 11)\n",
      "(31679, 11)\n",
      "dict_keys(['ycols', 'dscol', 'weekdays', 'weekends', 'orient'])\n",
      "dict_keys(['minfreq', 'colfreqs', 'period', 'anchors', 'zeropoint', 'modnorms', 'profile', 'time_index'])\n",
      "dict_keys(['minfreq', 'colfreqs', 'period', 'anchors', 'zeropoint', 'modnorms', 'profile', 'time_index'])\n"
     ]
    },
    {
     "data": {
      "application/vnd.jupyter.widget-view+json": {
       "model_id": "d99b44d4b06442efb1d79a9ecbd6c00e",
       "version_major": 2,
       "version_minor": 0
      },
      "text/plain": [
       "Generating Input:   0%|          | 0/2 [00:00<?, ?it/s]"
      ]
     },
     "metadata": {},
     "output_type": "display_data"
    }
   ],
   "source": [
    "from preprocessing.preprocessor import LoadData, FindFrequency, PeriodDetect, AlignData, DropExtrema, Normalizer, FillGap, GenerateInput\n",
    "from pipeline import Pipeline\n",
    "\n",
    "test_task_list = [\n",
    "    LoadData(fname, dscol, ycols),\n",
    "    FindFrequency(),\n",
    "    PeriodDetect(),\n",
    "    AlignData(),\n",
    "    DropExtrema(),\n",
    "    Normalizer(),\n",
    "    FillGap(),\n",
    "    GenerateInput()\n",
    "]\n",
    "test_pipeline = Pipeline(test_task_list)\n",
    "dats, params = test_pipeline.fit_transform()"
   ]
  },
  {
   "cell_type": "markdown",
   "id": "4409e08e",
   "metadata": {},
   "source": [
    "## Autoencoder preprocessing\n",
    "\n",
    "This is code that needs to be run regardless of whether we are preprocessing data for training or scoring. That is why it has been refactored into its own function.\n",
    "\n",
    "1. remove duplicate rows (identical datetime and values)\n",
    "2. if we find rows with identical datetime but different values, we raise an exception because it is impossible for us to decide which row contains the correct value.\n",
    "  1. the other option is to delete all such rows, but for now we have elected to reject the entire CSV\n",
    "3. we try to detect the sampling frequency of each value column\n",
    "  1. we take the mode of the time differences between successive values for each column\n",
    "  2. if there is no mode for any of the columns we reject the whole CSV\n",
    "4. we return the resulting dataframe, along with the sampling frequencies for each column, as well as the minimum sampling frequency"
   ]
  },
  {
   "cell_type": "code",
   "execution_count": 8,
   "id": "7fe65e95",
   "metadata": {},
   "outputs": [],
   "source": [
    "def ae_preproc(df, ycols):\n",
    "    \"\"\"takes df, ycols and returns preprocessed df, freq\"\"\"\n",
    "    df = remove_duplicate_rows(df)\n",
    "\n",
    "    #dupe_ds = list(df[df.index.duplicated()].index.drop_duplicates())  # [Andy] can use sum(df.index.duplicated())\n",
    "    # we also reject if we have duplicate datetimes that are not duplicate rows\n",
    "    if sum(df.index.duplicated()):\n",
    "        raise Exception(\"rows with duplicate datetimes detected\")\n",
    "\n",
    "    colfreqs = {}\n",
    "    for y in ycols:\n",
    "        currdf = df[[y]].dropna()\n",
    "        freqs = detect_ds_frequency(currdf)\n",
    "        if len(freqs)!=1:\n",
    "            # we reject if we have no modal sampling frequency\n",
    "            raise Exception(\"more than one sampling frequency was detected\")\n",
    "\n",
    "        colfreqs[y] = freqs.index[0]\n",
    "\n",
    "    minfreq = min(colfreqs.values())\n",
    "\n",
    "    return df, colfreqs, minfreq\n",
    "\n",
    "def remove_duplicate_rows(df):\n",
    "    \"\"\"returns df with duplicates removed \n",
    "    \"\"\"    \n",
    "    idx_name = df.index.name  # [ANDY] this is the same as dscol\n",
    "    return df.reset_index().drop_duplicates().set_index(idx_name)\n",
    "\n",
    "def detect_ds_frequency(df):\n",
    "    \"\"\"detects the frequency of datetime in df.\n",
    "    \n",
    "    1) subtract all the datetime in ds by its next datetime to retrieve the deltas\n",
    "    \n",
    "    2) count the number of occurrences for each delta\n",
    "    \n",
    "    Parameters\n",
    "    ----------\n",
    "    df : pandas.DataFrame \n",
    "         The dataframe to detect the datetime frequency, needs to have a sorted datetime index\n",
    "    Returns\n",
    "    -------\n",
    "    freq : pd.Series of size 1 whose index is the modal timedelta and value is the number of times it appeared if there is one mode\n",
    "    and it appeared > 50% of the time\n",
    "           else pd.Series of max size 10 sorted by ascending order of modal timedeltas\n",
    "    \"\"\"\n",
    "    #deltas = pd.Series(df.index[1:] - df.index[:-1])  # [ANDY] deltas = df.reset_index()[dscol].diff()\n",
    "    deltas = df.reset_index()[dscol].diff()\n",
    "    threshold = len(deltas)/2\n",
    "    delta_counts = deltas.value_counts()\n",
    "    #modal_delta = delta_counts.idxmax()  # [ANDY] modal_delta = delta_counts.index[0]\n",
    "    modal_delta = delta_counts.index[0]\n",
    "    #mdcount = delta_counts[modal_delta]  # mdcount = delta_counts.iloc[0]\n",
    "    mdcount = delta_counts.iloc[0]\n",
    "\n",
    "    if mdcount > threshold:\n",
    "        return delta_counts.head(1)\n",
    "\n",
    "    dc = [item for item in delta_counts.iteritems()]\n",
    "    # sort by ascending order of timedelta\n",
    "    dc.sort(key=lambda e:e[0])\n",
    "    # sort by descending order of occurrences\n",
    "    dc.sort(key=lambda e:e[1], reverse=True)\n",
    "    dc = dc[:50]\n",
    "\n",
    "    return pd.Series(data=[e[1] for e in dc], index=[e[0] for e in dc])"
   ]
  },
  {
   "cell_type": "code",
   "execution_count": 9,
   "id": "422e9263",
   "metadata": {},
   "outputs": [],
   "source": [
    "df_weekdays, colfreqs_weekdays, minfreq_weekdays = ae_preproc(df_weekdays, ycols)  # [ANDY] df with no duplicated rows, no duplicated ts, with only one modal frequency for each column and with NaN\n",
    "df_weekends, colfreqs_weekends, minfreq_weekends = ae_preproc(df_weekends, ycols)"
   ]
  },
  {
   "cell_type": "markdown",
   "id": "748f3411",
   "metadata": {},
   "source": [
    "## Check for sparse columns\n",
    "\n",
    "Given a duration _d_ and a time series with a sampling frequency _f_, the expected number of values it should have over _d_ is \n",
    "\n",
    "_e_ = _d_/_f_\n",
    "\n",
    "We define a sparse column as a column within the dataframe where given its sampling frequency and the duration of the whole dataframe, it has less than 75% the number of expected values. We raise an exception if any column is sparse."
   ]
  },
  {
   "cell_type": "code",
   "execution_count": 10,
   "id": "3c7a65e2",
   "metadata": {},
   "outputs": [],
   "source": [
    "class SparseColumnError(Exception):\n",
    "    pass\n",
    "\n",
    "def check_sparse_cols(df, colfreqs):\n",
    "    totalduration = df.index[-1] - df.index[0]\n",
    "    for y, freq in colfreqs.items():\n",
    "        numpoints = len(df[[y]].dropna())\n",
    "        # every column must cover 75% of the duration\n",
    "        expected = totalduration // freq * 0.75\n",
    "        if numpoints < expected:\n",
    "            raise SparseColumnError(f\"column {y} has frequency {freq} and {numpoints} points, but duration of dataset is {totalduration}\")"
   ]
  },
  {
   "cell_type": "code",
   "execution_count": 11,
   "id": "0e079cc9",
   "metadata": {},
   "outputs": [],
   "source": [
    "# check_sparse_cols(df_weekdays, colfreqs_weekdays)\n",
    "# check_sparse_cols(df_weekends, colfreqs_weekends)"
   ]
  },
  {
   "cell_type": "markdown",
   "id": "974742fd",
   "metadata": {},
   "source": [
    "## Get period\n",
    "\n",
    "We try to calculate the period of the data, but in order to keep things simple, we also require that the sampling frequencies of all the time series in the data (i.e. everything in `colfreqs`) be multiples of the minimum sampling frequency `minfreq`.\n",
    "\n",
    "The method of detecting the period was deviced by Yiqun, and my understanding of it is not very firm. Nevertheless, I will try to explain the gist of what I know. Details will be skipped over in favour of conveying the overall idea because the details are in the code below.\n",
    "\n",
    "First, we calculate the autocorrelation function for each time series in the data. We then add them all up and store them in `acfs`, aligning them using `minfreq`.\n",
    "\n",
    "To illustrate, if we are given signals _a_ and _b_, with sampling frequencies 5 minutes and 10 minutes respectively, `minfreq` would be 5 minutes. Suppose we calculate the autocorrelation functions for each signal and the value at lag 2 for _b_ is `0.3` while the value at lag 4 for _a_ is `0.5`. `acfs[4]` would hence hold the value `0.8`.\n",
    "\n",
    "After calculating `acfs` in this manner, we next obtain the indices of the local maxima within `acfs` and store it in `max_corr_points`. Then we take the absolute differences between every possible pair of indices in `max_corr_points`. Thus, we obtain a list of index differences between lags exhibiting high autocorrelation. The idea is that if the time series is periodic over _n_ time steps, then the autocorrelation will be high for lag _n_, _2n_, _3n_, ...\n",
    "\n",
    "If we cannot find a period, we reject the data."
   ]
  },
  {
   "cell_type": "code",
   "execution_count": 12,
   "id": "ed0cf7d2",
   "metadata": {},
   "outputs": [],
   "source": [
    "class NoPeriodError(Exception):\n",
    "    pass\n",
    "\n",
    "def get_period(df, colfreqs, minfreq):\n",
    "    # check that all sampling frequencies are multiples of the smallest sampling frequency\n",
    "    notime = pd.Timedelta(0)\n",
    "    for f in colfreqs.values():\n",
    "        if f % minfreq != notime:\n",
    "            raise ValueError(\"detected sampling frequency that is not a multiple of the minimum sampling frequency\")\n",
    "\n",
    "    # there is no point calculating autocorrelation for lags greater than n/2\n",
    "    nlags = len(df)//2  # [ANDY] assuming df covers at least two periods ? Why?\n",
    "    acfs = np.zeros((nlags+1,))\n",
    "    for y in colfreqs:\n",
    "        yvals = df[y].dropna()\n",
    "        yacfs = sts.acf(yvals, nlags=len(yvals)//2)\n",
    "        step_size = colfreqs[y]//minfreq\n",
    "        yacfs_idx = range(0, len(acfs), step_size)\n",
    "        # we simplify by cropping because if len(df) % len(yvals) != step_size we get tedious off-by-one errors\n",
    "        yacfs = yacfs[:len(yacfs_idx)]\n",
    "        # if y has missing values, yacfs can be shorter than yacfs_idx -_-\n",
    "        yacfs_idx = yacfs_idx[:len(yacfs)]\n",
    "        acfs[yacfs_idx] += yacfs\n",
    "\n",
    "    max_corr_points = argrelextrema(acfs, np.greater, order=max(len(df)//1000, 2))  # [ANDY] why max(len(df)//1000, 2))?\n",
    "    max_corr_points = max_corr_points[0]\n",
    "    max_corr_points = max_corr_points[acfs[max_corr_points]>0.2]  # [ANDY] why 0.2?\n",
    "    max_corr_points = np.insert(max_corr_points, 0, 0, axis=0)\n",
    "    max_cor_diff = []\n",
    "    for point_1 in max_corr_points:\n",
    "        for point_2 in max_corr_points:\n",
    "            if point_1==point_2: continue\n",
    "            max_cor_diff.append(abs(point_1-point_2))\n",
    "    max_cor_diff = np.array(max_cor_diff)\n",
    "    unique_vals, counts = np.unique(max_cor_diff, return_counts=True)\n",
    "    adjust_counts = []\n",
    "    for idx in range(len(unique_vals)):\n",
    "        adjust_counts.append(np.sum(counts[np.where(unique_vals%unique_vals[idx]==0)]))\n",
    "    if(np.max(adjust_counts)>5):  # [ANDY] why 5?\n",
    "        return unique_vals[np.argmax(adjust_counts)]\n",
    "    raise NoPeriodError(\"no period detected\")"
   ]
  },
  {
   "cell_type": "code",
   "execution_count": 13,
   "id": "48336e09",
   "metadata": {},
   "outputs": [],
   "source": [
    "period_weekdays = get_period(df_weekdays, colfreqs_weekdays, minfreq_weekdays)\n",
    "period_weekends = get_period(df_weekends, colfreqs_weekends, minfreq_weekends)"
   ]
  },
  {
   "cell_type": "code",
   "execution_count": 14,
   "id": "b139e422",
   "metadata": {},
   "outputs": [
    {
     "data": {
      "text/plain": [
       "720"
      ]
     },
     "execution_count": 14,
     "metadata": {},
     "output_type": "execute_result"
    }
   ],
   "source": [
    "period_weekdays"
   ]
  },
  {
   "cell_type": "code",
   "execution_count": 15,
   "id": "6744e484",
   "metadata": {},
   "outputs": [
    {
     "data": {
      "text/plain": [
       "720"
      ]
     },
     "execution_count": 15,
     "metadata": {},
     "output_type": "execute_result"
    }
   ],
   "source": [
    "period_weekends"
   ]
  },
  {
   "cell_type": "markdown",
   "id": "aeaa216b",
   "metadata": {},
   "source": [
    "## Align data\n",
    "\n",
    "This step tries to calculate the alignments for each column, in case there are misaligned values. The basic idea is as follows. Given a time series that starts at _t_ with sampling frequency _f_, you would expect there all the data to have a time index of _t + nf_, where _n_ is some positive integer. Any sequence of values that instead fall on _t + i + nf_, where _i_ is a non-zero value, is misaligned. \n",
    "\n",
    "Our approach is to first find groups of contiguous samples where _t + nf_ is true if we take the first time index in the group as _t_. Then we merge the non-contiguous groups based on whether they are aligned with each other. We assume that the largest such merged group is the one with the correct alignment and force every other group to align with it.\n",
    "\n",
    "We then returned the aligned data as well as `zeropoint`, which is first time point of the aligned data, as well as `anchors`, which is the first time point of each column after alignment. The `anchor` and `zeropoint` values allow us to check if future CSVs belonging to the same time series are consistent with the training data. For scoring, we `align_data()` rejects the data if it is inconsistent with `anchors` after alignment."
   ]
  },
  {
   "cell_type": "code",
   "execution_count": 16,
   "id": "da5b04a4",
   "metadata": {},
   "outputs": [],
   "source": [
    "class MisalignedColumnsError(Exception):\n",
    "    pass\n",
    "\n",
    "def align_data(df, colfreqs, minfreq, anchors=None, zeropoint=None):\n",
    "    \"\"\"aligns data according to sampling frequencies\"\"\"\n",
    "    aligned_df = {}\n",
    "    for y, freq in colfreqs.items():\n",
    "        col_df = df[y].dropna()\n",
    "        index_diff = col_df.index[1:]-col_df.index[:-1]\n",
    "        sampling_groups = []\n",
    "        cur_group = [col_df.index[0]]\n",
    "        for idx in range(len(index_diff)):\n",
    "            if (index_diff[idx]==freq):\n",
    "                cur_group.append(col_df.index[idx+1])\n",
    "            else:\n",
    "                if (len(cur_group)>0):\n",
    "                    sampling_groups.append(cur_group)\n",
    "                cur_group = [col_df.index[idx+1]]\n",
    "\n",
    "        if (len(cur_group)>0):\n",
    "            sampling_groups.append(cur_group)\n",
    "            \n",
    "        merged_sampling_group = []\n",
    "        while len(sampling_groups)>0:\n",
    "            cur_group = sampling_groups.pop(0)\n",
    "            merged_idx = []\n",
    "            for gidx, group in enumerate(sampling_groups):\n",
    "                if ((group[0]-cur_group[-1])%freq==0):  # [ANDY] (group[0]-cur_group[-1])%freq == pd.Timedelta(0)?\n",
    "                    cur_group.extend(group)\n",
    "                    merged_idx.append(gidx)\n",
    "        \n",
    "            for m_idx in sorted(merged_idx, reverse=True):\n",
    "                del sampling_groups[m_idx]\n",
    "            \n",
    "            merged_sampling_group.append(cur_group)\n",
    "            \n",
    "        merged_group_lens = [len(group) for group in merged_sampling_group]\n",
    "        dominant_group_idx = np.argmax(merged_group_lens)\n",
    "        init_group = merged_sampling_group[dominant_group_idx]\n",
    "        \n",
    "        n_samplings_before = round((init_group[0]-df.index[0])/freq)+1\n",
    "        n_samplings_after = round((df.index[-1] - init_group[0])/freq)  # [ANDY] should +1?\n",
    "        index_before = pd.date_range(end=init_group[0], periods = n_samplings_before, freq = freq, closed = 'left')\n",
    "        index_after = pd.date_range(start=init_group[0], periods = n_samplings_after, freq = freq)\n",
    "        aligned_index = index_before.append(index_after)\n",
    "        \n",
    "        # need to understand the mechanism of reindex on how it fill the NA value\n",
    "        aligned_col_df = col_df.reindex(index=aligned_index, method='nearest', limit=1)\n",
    "        aligned_df[y] = aligned_col_df\n",
    "        \n",
    "    aligned_df = pd.DataFrame(aligned_df)\n",
    "\n",
    "    if anchors is None:\n",
    "        anchors = {y:aligned_df[[y]].dropna().index[0] for y in colfreqs}\n",
    "        #NOTE: the zeropoint value is necessary for building the time_index column, which fill_gaps does\n",
    "        zeropoint = aligned_df.index[0]\n",
    "    #if anchors is passed in, do a sanity check on alignment\n",
    "    else:\n",
    "        notime = pd.Timedelta(seconds=0)\n",
    "        for y, yfreq in colfreqs.items():\n",
    "            thisorigin = aligned_df[[y]].dropna().index[0]\n",
    "            if (thisorigin - anchors[y]) % yfreq != notime:\n",
    "                raise MisalignedColumnsError(f\"after aligning the data, column {y}'s zero point {thisorigin} is not aligned with the recorded anchor point {anchors[y]} with sampling frequency {yfreq}\")\n",
    "\n",
    "    return aligned_df, anchors, zeropoint"
   ]
  },
  {
   "cell_type": "code",
   "execution_count": 17,
   "id": "cfb08d1a",
   "metadata": {},
   "outputs": [],
   "source": [
    "df_weekdays, anchors_weekdays, zeropoint_weekdays = align_data(df_weekdays, colfreqs_weekdays, minfreq_weekdays)\n",
    "df_weekends, anchors_weekends, zeropoint_weekends = align_data(df_weekends, colfreqs_weekends, minfreq_weekends)"
   ]
  },
  {
   "cell_type": "markdown",
   "id": "18e068a9",
   "metadata": {},
   "source": [
    "## Drop extremes\n",
    "\n",
    "Note that the period returned by `get_period()` is a positive integer. The actual period of the data in units of time is `period * minfreq`. For training, want to drop outlier values. Implementation details are in the code, but the basic idea is we label every row in `df` as a value within `range(0, period)`. Then for each column and each such label value, we calculate the mean and standard deviation of all the rows with that label, and those rows with values that exceed 2 standard deviations from the mean for that label are set to null.\n",
    "\n",
    "### Example\n",
    "\n",
    "Dataframe (period is _3_, sampling frequency is _f_, v is just a placeholder):\n",
    "\n",
    "| time | value |\n",
    "| --- | --- |\n",
    "| _t_ | _v_ |\n",
    "| _t+f_ | _v_ |\n",
    "| t+2f | _v_ |\n",
    "| _t+3f_ | _v_ |\n",
    "| _t+4f_ | _v_ |\n",
    "| t+5f | _v_ |\n",
    "\n",
    "Dataframe with time index:\n",
    "\n",
    "| time | value | time_index |\n",
    "| --- | --- | --- |\n",
    "| _t_ | _v_ | 0 |\n",
    "| _t+f_ | _v_ | 1 |\n",
    "| t+2f | _v_ | 2 |\n",
    "| _t+3f_ | _v_ | 0 |\n",
    "| _t+4f_ | _v_ | 1 |\n",
    "| t+5f | _v_ | 2 |\n",
    "\n",
    "In the example above, when deciding whether to set _v_ to null for _t+f_, we would consider the mean and standard deviation for the rows _t+f_ and _t+4f_."
   ]
  },
  {
   "cell_type": "code",
   "execution_count": 18,
   "id": "c5013720",
   "metadata": {},
   "outputs": [],
   "source": [
    "def drop_extremes(df, freq, period, ycols):  # [ANDY] confirmed ts has been aligned, no need to fill ts gaps in this func again\n",
    "    \"\"\"drop values beyond 2 standard deviations from the mean\"\"\"\n",
    "    # calculate the points where the gap is more than n_max_fill*interval\n",
    "    time_between_points = df.index.to_series().diff()\n",
    "    gaps = time_between_points[(time_between_points>=2*freq)]\n",
    "\n",
    "    index_all = df.index\n",
    "    for gidx, gap in gaps.iteritems():\n",
    "        gap_length = math.ceil(gap/freq)\n",
    "        padding = pd.date_range(end = gidx, periods = gap_length, freq = freq, closed = 'left')\n",
    "        index_all = index_all.append(padding)\n",
    "\n",
    "    index_all = index_all.sort_values()\n",
    "    df = df.reindex(index_all)  # [ANDY] df is already aligned in last step, why there are still ts gaps to be filled?\n",
    "\n",
    "    time_index = [i for i in range(0, period)]\n",
    "    data_time_index = np.array([i % period for i in range(0, len(df))])\n",
    "    data_time_index_series = pd.Series(index=index_all, data=data_time_index)\n",
    "\n",
    "    n_std = 2\n",
    "\n",
    "    for y in ycols:\n",
    "        for period_idx in time_index:\n",
    "            lbound = df[y][data_time_index_series==period_idx].mean()-n_std*df[y][data_time_index_series==period_idx].std()\n",
    "            ubound = df[y][data_time_index_series==period_idx].mean()+n_std*df[y][data_time_index_series==period_idx].std()\n",
    "        \n",
    "            sub_data = df[y][data_time_index_series==period_idx]\n",
    "            if (len(sub_data[(sub_data<lbound) | (sub_data>ubound)].index)>0):\n",
    "                df.loc[sub_data[(sub_data<lbound) | (sub_data>ubound)].index, y] = None\n",
    "    return df"
   ]
  },
  {
   "cell_type": "code",
   "execution_count": 19,
   "id": "42657eca",
   "metadata": {},
   "outputs": [],
   "source": [
    "df_weekdays = drop_extremes(df_weekdays, minfreq_weekdays, period_weekdays, ycols)\n",
    "df_weekends = drop_extremes(df_weekends, minfreq_weekends, period_weekends, ycols)"
   ]
  },
  {
   "cell_type": "markdown",
   "id": "00fef4bf",
   "metadata": {},
   "source": [
    "## Normalisation parameters\n",
    "\n",
    "We did not previously normalise the data, but we noticed that columns with a larger range of values had a greater effect on anomaly scores, so we decided to make sure the values in every column fall between 0 and 1. Hence, we record the minimum and maximum values of the training data for each column. We reuse these mininum and maximum values when normalising future batches of data for scoring, because it is fine for scoring data to exceed these bounds so long as they are normalised with the same parameters.\n",
    "\n",
    "Here we also add a `time_index` column to the dataframe."
   ]
  },
  {
   "cell_type": "code",
   "execution_count": 20,
   "id": "b7221b17",
   "metadata": {},
   "outputs": [],
   "source": [
    "# model normalisation params\n",
    "modnorms_weekdays = {y:( df_weekdays[y].min(), df_weekdays[y].max() ) for y in ycols}\n",
    "df_weekdays['time_index'] = [((t-zeropoint_weekdays)//minfreq_weekdays)%period_weekdays for t in df_weekdays.index]  # [ANDY] period is matched to minfreq? "
   ]
  },
  {
   "cell_type": "code",
   "execution_count": 21,
   "id": "b82a7d3d",
   "metadata": {},
   "outputs": [],
   "source": [
    "# model normalisation params\n",
    "modnorms_weekends = {y:( df_weekends[y].min(), df_weekends[y].max() ) for y in ycols}\n",
    "df_weekends['time_index'] = [((t-zeropoint_weekends)//minfreq_weekends)%period_weekends for t in df_weekends.index]  # [ANDY] period is matched to minfreq? "
   ]
  },
  {
   "cell_type": "markdown",
   "id": "90c000fb",
   "metadata": {},
   "source": [
    "## Get median profiles\n",
    "\n",
    "We calculate and store the median values for each column and time index. This information is used for filling gaps and also when scoring. This time index thing is calculated multiple times in different places. Sorry about that. -_-"
   ]
  },
  {
   "cell_type": "code",
   "execution_count": 22,
   "id": "e46d40d2",
   "metadata": {},
   "outputs": [],
   "source": [
    "def get_median_profiles(df, ycols, period):  # [ANDY] get median profiles after dropping extreme values?\n",
    "    time_index = list(range(period))\n",
    "\n",
    "    median_profiles = pd.DataFrame(index=time_index)\n",
    "\n",
    "    for y in ycols:\n",
    "        median_profiles[y] = [df[df['time_index']==t][y].median() for t in time_index]\n",
    "\n",
    "    return median_profiles, time_index"
   ]
  },
  {
   "cell_type": "code",
   "execution_count": 23,
   "id": "24a8380d",
   "metadata": {},
   "outputs": [],
   "source": [
    "median_profiles_weekdays, time_index_weekdays = get_median_profiles(df_weekdays, ycols, period_weekdays)\n",
    "median_profiles_weekends, time_index_weekends = get_median_profiles(df_weekends, ycols, period_weekends)"
   ]
  },
  {
   "cell_type": "markdown",
   "id": "957146ed",
   "metadata": {},
   "source": [
    "## Fill gaps\n",
    "\n",
    "Since the input for the autoencoder has to be of fixed dimensions, we need to fill all the gaps in the data. We do this column by column. For small gaps, we do linear interpolation. For larger gaps, we use the median profiles."
   ]
  },
  {
   "cell_type": "code",
   "execution_count": 24,
   "id": "2b6c2192",
   "metadata": {},
   "outputs": [],
   "source": [
    "def fill_gaps(df, colfreqs, minfreq, period, median_profiles, zeropoint):\n",
    "    df = df.copy()\n",
    "\n",
    "    firstts = df.index[0]\n",
    "    lastts = df.index[-1]\n",
    "    for y, yfreq in colfreqs.items():\n",
    "        yfactor = yfreq//minfreq\n",
    "        yperiod = period//yfactor\n",
    "        ydf = df[[y]].dropna()  # [ANDY] df already aligned.. if don't dropna, df[[y]] is already alighed with correct ts, just need to fill value gaps instead of ts gaps\n",
    "        ydf, gaps = gap_reindex(ydf, yfreq, firstts, lastts)  # [ANDY] why still need to fill index(ts) gaps?\n",
    "        ydf['time_index'] = [((t-zeropoint)//minfreq)%period for t in ydf.index]\n",
    "        ydf = fill_gaps_col(ydf, y, gaps, yfreq, yperiod, median_profiles)\n",
    "        newindex = ydf.index.union(df.index).sort_values()  # [ANDY] redundant, index is already aligned\n",
    "        df = df.reindex(newindex)  # [ANDY] redundant, index is already aligned\n",
    "        df[y] = ydf[y]\n",
    "\n",
    "    df['time_index'] = [((t-zeropoint)//minfreq)%period for t in df.index]\n",
    "    return df\n",
    "\n",
    "def gap_reindex(df, freq, firstts, lastts):\n",
    "    # calculate the points where the gap is more than n_max_fill*freq\n",
    "    # these points don't want to interpolate\n",
    "    time_between_points = df.index.to_series().diff()\n",
    "\n",
    "    # if first timestamp for this column is not equal to first timestamp for all columns, we need to fill\n",
    "    yfirstts = df.index[0]\n",
    "    if yfirstts!=firstts:\n",
    "        time_between_points.at[yfirstts] = yfirstts - firstts + freq\n",
    "\n",
    "    # if last timestamp for this column is not equal to last timestamp for all columns, we need to fill\n",
    "    ylastts = df.index[-1]\n",
    "    if ylastts!=lastts:\n",
    "        time_between_points.at[lastts+freq] = lastts - ylastts + freq\n",
    "\n",
    "    gaps = time_between_points[(time_between_points>=2*freq)]\n",
    "\n",
    "    index_all = df.index\n",
    "    padded_indices = pd.date_range(end = min(index_all), periods = 0, freq = freq, closed = 'left')  # [ANDY] why this?\n",
    "    # create index positions for gaps\n",
    "    for gidx, gap in gaps.iteritems():\n",
    "        gap_length = math.ceil(gap/freq)\n",
    "        padding = pd.date_range(end = gidx, periods = gap_length, freq = freq, closed = 'left')\n",
    "        padded_indices = padded_indices.union(padding)  # [ANDY] why this?\n",
    "        index_all = index_all.append(padding)\n",
    "\n",
    "    index_all = index_all.sort_values()\n",
    "\n",
    "    df = df.reindex(index_all)\n",
    "    return df, gaps\n",
    "\n",
    "def fill_gaps_col(df, y, gaps, freq, period, median_profiles):\n",
    "    # interpolate large gaps using median values\n",
    "    max_miss_length = period//10\n",
    "    for gidx, gap in gaps.iteritems():\n",
    "        if (gap>max_miss_length*freq):\n",
    "            gap_length = math.ceil(gap/freq)\n",
    "            n_periods = 2\n",
    "            while (n_periods<=gap_length):\n",
    "                pre_index = pd.date_range(end = gidx, periods = n_periods, freq = freq, closed = 'left')\n",
    "                pre_index = pre_index[0]\n",
    "\n",
    "                df.loc[pre_index, y] = median_profiles.loc[df.loc[pre_index, \"time_index\"], y]\n",
    "\n",
    "                n_periods = n_periods+1\n",
    "\n",
    "    # small gaps interpolated linearly\n",
    "    return df.interpolate(method='linear', limit_direction=\"both\")"
   ]
  },
  {
   "cell_type": "code",
   "execution_count": 25,
   "id": "3807dc22",
   "metadata": {},
   "outputs": [],
   "source": [
    "df_weekdays = fill_gaps(df_weekdays, colfreqs_weekdays, minfreq_weekdays, period_weekdays, median_profiles_weekdays, zeropoint_weekdays)\n",
    "df_weekends = fill_gaps(df_weekends, colfreqs_weekends, minfreq_weekends, period_weekends, median_profiles_weekends, zeropoint_weekends)"
   ]
  },
  {
   "cell_type": "markdown",
   "id": "e14e9016",
   "metadata": {},
   "source": [
    "## Model metadata\n",
    "\n",
    "This part is a bit of engineering detail. It is used for persisting some of the metadata required to create the model. Some names are weird because of the legacy of having to train multiple autoencoders previously."
   ]
  },
  {
   "cell_type": "code",
   "execution_count": 26,
   "id": "ea20ec77",
   "metadata": {},
   "outputs": [],
   "source": [
    "t_weekdays = time_index_weekdays[-1]\n",
    "t_weekends = time_index_weekends[-1]\n",
    "#t_to_fname = {t_weekdays: f\"model-params-weekdays.h5\",t_weekends: f\"model-params-weekends.h5\"}\n",
    "\n",
    "inputsize_weekdays = sum(period_weekdays//(freq//minfreq_weekdays) for freq in colfreqs_weekdays.values())\n",
    "modelmeta_weekdays = {\"median_profiles\": median_profiles_weekdays, \"input_size\":inputsize_weekdays, \"t_to_fname\": f\"model-params-weekdays.h5\", \"modnorms\": modnorms_weekdays}\n",
    "modfname_weekdays = modelmeta_weekdays['t_to_fname']\n",
    "\n",
    "inputsize_weekends = sum(period_weekends//(freq//minfreq_weekends) for freq in colfreqs_weekends.values())\n",
    "modelmeta_weekends = {\"median_profiles\": median_profiles_weekends, \"input_size\":inputsize_weekends, \"t_to_fname\": f\"model-params-weekends.h5\", \"modnorms\": modnorms_weekends}\n",
    "modfname_weekends = modelmeta_weekends['t_to_fname']"
   ]
  },
  {
   "cell_type": "markdown",
   "id": "1a2f355b",
   "metadata": {},
   "source": [
    "## Get full periods of data for training"
   ]
  },
  {
   "cell_type": "code",
   "execution_count": 27,
   "id": "a918629c",
   "metadata": {},
   "outputs": [],
   "source": [
    "# get times within df corresponding to t in period that can yield a full period of training data\n",
    "# i.e. time - period >= df.index[0]\n",
    "fullperiods_weekdays = df_weekdays.iloc[period_weekdays-1:]  # [ANDY] why? should be period-1\n",
    "times_weekdays = fullperiods_weekdays[fullperiods_weekdays['time_index']==t_weekdays].index\n",
    "fullperiods_weekends = df_weekends.iloc[period_weekends-1:]  # [ANDY] why? should be period-1\n",
    "times_weekends = fullperiods_weekends[fullperiods_weekends['time_index']==t_weekends].index"
   ]
  },
  {
   "cell_type": "markdown",
   "id": "ae025bf3",
   "metadata": {},
   "source": [
    "## Generate model input\n",
    "\n",
    "We use the same function to generate model inputs for both training and scoring.\n",
    "\n",
    "### Shifting the data\n",
    "\n",
    "Originally, we used to train `period` number of autoencoders for each set of data, because we thought we needed to remember `period` number of patterns. Basically, if the period is 3, then every point in the data is labelled [0, 1, 2, 0, 1, 2, ...]. Hence there are 3 different patterns we needed to remember. The one with all the windows of data from [0,1,2], the one with all the windows of data from [1,2,0], and the one with all the windows of data from [2,0,1]. Later, we realised that we were actually training a bunch of different models that remember the same pattern, just at different phases of the period. So we started to train only one model that remembered the pattern of data for the window from [0,1,2]. When we needed to score data for a [2,0,1] window, we just left shifted it by one position before sending it to the autoencoder. To see how we do this, see how `startpos` is calculated and used in the code below.\n",
    "\n",
    "### Normalise the data\n",
    "\n",
    "This is fairly straightforward.\n",
    "\n",
    "### Handling multiple columns\n",
    "\n",
    "To handle multiple columns with a single autoencoder, we just concatenate all the columns. As long as the relative positions of the columns are preserved and the input dataframe has already been aligned, we can always unpack the autoencoder output in the same way. The autoencoder has no concept of different columns in any case.\n",
    "\n",
    "### Differences between training and scoring\n",
    "\n",
    "We train the model with the data in `df` as is.\n",
    "\n",
    "For scoring, we pass in `median_values`, which is the `median_profiles` we calculated earlier. Supposing the period and therefore width of the input to the model is 100, we basically only pass the last 10 points of real data into the model and replace the rest of the window with the median values for each point in the period. Hence when we generate the anomaly scores for the window ending at point _t_, we are basically asking the model the following question.\n",
    "\n",
    "Given the assumption that points _t-99 - t-10_ are normal, what is the chance that _t-9 - t_ is abnormal?"
   ]
  },
  {
   "cell_type": "code",
   "execution_count": 28,
   "id": "1b4ca2bf",
   "metadata": {},
   "outputs": [],
   "source": [
    "def normdf(df, modnorms):\n",
    "    normed = df.copy()\n",
    "    for y, ( ymin, ymax ) in modnorms.items():\n",
    "        mmdiff = ymax - ymin\n",
    "        normed[y] = (normed[y]-ymin)/mmdiff\n",
    "    return normed\n",
    "\n",
    "def generate_model_input(df, ycols, times, period, modnorms, offset=None, median_values=None):\n",
    "    \"\"\"\n",
    "generate model input for windows ending at timestamps in the times arguments\n",
    "\n",
    "Assumptions:\n",
    "    1. times all have the same time index relative to period\n",
    "    2. sampling intervals for each column are regular\n",
    "    \"\"\"\n",
    "    offset = period-1 if offset is None else offset\n",
    "    window_size = 10\n",
    "    rows = []\n",
    "    for t in times:\n",
    "        idx = df.index.get_loc(t)+1\n",
    "        rowdf = df.iloc[idx-period:idx].copy()\n",
    "        if median_values is not None and window_size<period:\n",
    "            replaceidx = rowdf.iloc[:len(rowdf)-window_size].index\n",
    "            rowdf.loc[replaceidx, ycols] = median_values.loc[rowdf.loc[replaceidx, \"time_index\"], ycols].to_numpy()\n",
    "        # normalize training/scoring data\n",
    "        rowdf = normdf(rowdf, modnorms)\n",
    "        startpos = period-1-offset\n",
    "        rowdf = rowdf.iloc[startpos:].append(rowdf.iloc[:startpos])  # [ANDY] why?\n",
    "        row = np.concatenate([rowdf[y].dropna() for y in ycols])\n",
    "        rows.append(row)\n",
    "\n",
    "    collens = set(len(r) for r in rows)\n",
    "    if len(collens)!=1:\n",
    "        logging.error(f\"detected row lengths: {collens}\")\n",
    "        raise MisalignedColumnsError(\"unable to create input data because dimensions don't match\")\n",
    "\n",
    "    numcols = collens.pop()\n",
    "\n",
    "    return np.concatenate(rows).reshape(( -1, numcols ))"
   ]
  },
  {
   "cell_type": "code",
   "execution_count": 29,
   "id": "f8cd5ac9",
   "metadata": {},
   "outputs": [
    {
     "name": "stdout",
     "output_type": "stream",
     "text": [
      "(48, 7200)\n",
      "345600\n"
     ]
    }
   ],
   "source": [
    "dat_weekdays = generate_model_input(df_weekdays, ycols, times_weekdays, period_weekdays, modnorms_weekdays)\n",
    "print(dat_weekdays.shape)\n",
    "print(dat_weekdays.size)"
   ]
  },
  {
   "cell_type": "code",
   "execution_count": 30,
   "id": "ab41c0b2",
   "metadata": {},
   "outputs": [
    {
     "name": "stdout",
     "output_type": "stream",
     "text": [
      "(43, 7200)\n",
      "309600\n"
     ]
    }
   ],
   "source": [
    "dat_weekends = generate_model_input(df_weekends, ycols, times_weekends, period_weekends, modnorms_weekends)\n",
    "print(dat_weekends.shape)\n",
    "print(dat_weekends.size)"
   ]
  },
  {
   "cell_type": "code",
   "execution_count": 31,
   "id": "d47bd7e3",
   "metadata": {},
   "outputs": [
    {
     "name": "stdout",
     "output_type": "stream",
     "text": [
      "(48, 7200)\n",
      "(43, 7200)\n"
     ]
    }
   ],
   "source": [
    "print(dats[0].shape)\n",
    "print(dats[1].shape)"
   ]
  },
  {
   "cell_type": "markdown",
   "id": "60611e73",
   "metadata": {},
   "source": [
    "## Test for pipeline\n",
    "Call a pipeline class to execute preprocessing functions one by one.\n"
   ]
  },
  {
   "cell_type": "code",
   "execution_count": 32,
   "id": "2b2377f8",
   "metadata": {
    "tags": []
   },
   "outputs": [],
   "source": [
    "#test for pipeline\n",
    "assert (dat_weekdays == dats[0]).all(), 'dat_weekdays are different'\n",
    "assert (dat_weekends == dats[1]).all(), 'dat_weekends are different'\n",
    "assert params['weekdays']['colfreqs'] == colfreqs_weekdays\n",
    "assert params['weekends']['colfreqs'] == colfreqs_weekends\n",
    "assert minfreq_weekdays == params['weekdays']['minfreq']\n",
    "assert minfreq_weekends == params['weekends']['minfreq']\n",
    "assert period_weekdays == params['weekdays']['period']\n",
    "assert period_weekends == params['weekends']['period']\n",
    "assert zeropoint_weekdays == params['weekdays']['zeropoint']\n",
    "assert anchors_weekdays == params['weekdays']['anchors']\n",
    "assert modnorms_weekdays == params['weekdays']['modnorms']\n",
    "assert zeropoint_weekends == params['weekends']['zeropoint']\n",
    "assert anchors_weekends == params['weekends']['anchors']\n",
    "assert modnorms_weekends == params['weekends']['modnorms']\n",
    "assert ycols == params['ycols']\n",
    "assert dscol == params['dscol']"
   ]
  },
  {
   "cell_type": "markdown",
   "id": "4e6cdf47",
   "metadata": {},
   "source": [
    "## Training the model\n",
    "\n",
    "I am assuming the person who reads this will be more familiar with this part than I am, so I am not going to say much here. It is a just a basic autoencoder."
   ]
  },
  {
   "cell_type": "code",
   "execution_count": null,
   "id": "9a94d11b",
   "metadata": {},
   "outputs": [],
   "source": [
    "def train_model(data, weight_filename):\n",
    "    timelimit = 5400 # 1.5 hours\n",
    "    starttime = time.time()\n",
    "\n",
    "    not_overtime = lambda t: t-starttime<timelimit\n",
    "\n",
    "    logend_cb = LogEndCallback()\n",
    "    n_inputs = data.shape[1]\n",
    "\n",
    "    # we record 30 errors for averaging. if average of 30 errors is not decreasing,\n",
    "    # we stop training\n",
    "    ave_step = 30\n",
    "    past_err_store = np.array([0.0 for i in range(ave_step)])\n",
    "    nextpos = logend_cb.runs % ave_step\n",
    "    prev_average_err = None\n",
    "\n",
    "    model = construct_ae_model(n_inputs)\n",
    "    model = learn_ae_model(model, data, logend_cb)\n",
    "    \n",
    "    test_error = np.sum(np.square(data - model.predict(data)))\n",
    "    sumsquare = np.sum(np.square(data))\n",
    "\n",
    "    while (test_error/sumsquare>0.001) and not_overtime(time.time()):  # [ANDY] why 0.001? not consistent with the scale factor used in defining early stoppping baseline\n",
    "        print(logend_cb.runs)\n",
    "        nextpos = logend_cb.runs % ave_step\n",
    "        model = learn_ae_model(model, data, logend_cb)\n",
    "        \n",
    "        test_error = np.sum(np.square(data - model.predict(data)))\n",
    "        if logend_cb.runs % 10 == 0:\n",
    "            logging.info(f\"runs = {logend_cb.runs}, sumsquare = {sumsquare}, test_error = {test_error} for {weight_filename}.\")\n",
    "\n",
    "        past_err_store[nextpos] = test_error\n",
    "        if nextpos == ave_step-1:\n",
    "            average_err = past_err_store.mean()\n",
    "            if prev_average_err is not None and average_err>=prev_average_err: \n",
    "                logging.info(f\"stopping because previous average error {prev_average_err} is smaller than current average error {average_err}\")\n",
    "                break\n",
    "            if prev_average_err is not None:\n",
    "                logging.info(f\"training {weight_filename} errs: {past_err_store}\\naverage of old errors: {prev_average_err}. average of new errors: {average_err}\")\n",
    "            prev_average_err = average_err\n",
    "\n",
    "    logging.info(\"saving {}\".format(weight_filename))\n",
    "    model.save_weights(weight_filename)\n",
    "    K.clear_session()\n",
    "\n",
    "class LogEndCallback(Callback):\n",
    "    def __init__(self):\n",
    "        self.runs = 0\n",
    "\n",
    "    def on_train_end(self, logs=None):\n",
    "        self.runs += 1\n",
    "        \n",
    "class EarlyStoppingByLossVal(Callback):\n",
    "    def __init__(self, monitor='val_loss', value=0.00001, verbose=0):\n",
    "        super(Callback, self).__init__()\n",
    "        self.monitor = monitor\n",
    "        self.value = value\n",
    "        self.verbose = verbose\n",
    "\n",
    "    def on_epoch_end(self, epoch, logs={}):\n",
    "        current = logs.get(self.monitor)\n",
    "        if current is None:\n",
    "            warnings.warn(\"Early stopping requires %s available!\" % self.monitor, RuntimeWarning)\n",
    "\n",
    "        if current < self.value:\n",
    "            if self.verbose > 0:\n",
    "                logging.debug(\"Epoch %05d: early stopping THR\" % epoch)\n",
    "            self.model.stop_training = True\n",
    "\n",
    "def construct_ae_model(n_inputs):\n",
    "    n_units_1 = math.floor(n_inputs/2)#max(math.floor(n_inputs/4), 30)\n",
    "    n_units_2 = math.floor(n_units_1/2)#max(math.floor(n_units_1/4), 15)\n",
    "    # define model\n",
    "    ae_model = Sequential()\n",
    "    ae_model.add(Dense(n_units_1, activation='relu', input_shape=(n_inputs,)))\n",
    "    ae_model.add(Dense(n_units_2, activation='relu', input_shape=(n_units_1,)))\n",
    "    ae_model.add(Dense(n_units_1, activation='relu', input_shape=(n_units_2,)))\n",
    "    ae_model.add(Dense(n_inputs, activation='linear'))\n",
    "    ae_model.compile(optimizer='adam', loss='mse', metrics=['mse'])\n",
    "    \n",
    "    return ae_model\n",
    "\n",
    "def learn_ae_model(ae_model, data, logend_cb):\n",
    "    batch_size = 32\n",
    "    #mean_norm = np.mean(np.square(data.values.reshape(data.shape[0], -1)))\n",
    "    mean_norm = np.mean(np.square(data))\n",
    "    baseline = mean_norm/10000.0\n",
    "    logging.debug('baseline=' + str(baseline))\n",
    "    \n",
    "    # fit model\n",
    "    loss_cb = EarlyStoppingByLossVal(monitor='val_loss', value=baseline)\n",
    "    ae_model.fit(data, data, validation_data=(data, data), epochs=200, callbacks=[loss_cb, logend_cb], batch_size=batch_size, shuffle=True, verbose=0)\n",
    "    \n",
    "    return ae_model"
   ]
  },
  {
   "cell_type": "code",
   "execution_count": null,
   "id": "97273eba",
   "metadata": {},
   "outputs": [],
   "source": [
    "train_model(dat_weekdays, modfname_weekdays)\n",
    "train_model(dat_weekends, modfname_weekends)"
   ]
  },
  {
   "cell_type": "markdown",
   "id": "59188d3b",
   "metadata": {},
   "source": [
    "## New training model using PyTorch"
   ]
  },
  {
   "cell_type": "code",
   "execution_count": null,
   "id": "75c3ccb0",
   "metadata": {
    "tags": []
   },
   "outputs": [],
   "source": [
    "import time\n",
    "import random\n",
    "\n",
    "import torch\n",
    "from torch import nn, optim\n",
    "from torch.utils.data import DataLoader, Dataset\n",
    "from torch.autograd import Variable\n",
    "from torchvision import transforms, datasets, models\n",
    "from torch.utils.tensorboard import SummaryWriter\n",
    "from torch.utils.data.dataset import random_split"
   ]
  },
  {
   "cell_type": "code",
   "execution_count": null,
   "id": "d2aa17f3",
   "metadata": {},
   "outputs": [],
   "source": [
    "#AE structure\n",
    "class AutoEncoder(nn.Module):\n",
    "    def __init__(self, first_layer, layer_1, layer_2):\n",
    "        super(AutoEncoder, self).__init__()\n",
    "\n",
    "        self.encoder = nn.Sequential(\n",
    "            nn.Linear(first_layer, layer_1),\n",
    "            nn.ReLU(),\n",
    "            \n",
    "            nn.Linear(layer_1,layer_2),\n",
    "            nn.ReLU()\n",
    "        )\n",
    "        self.decoder = nn.Sequential(\n",
    "            nn.Linear(layer_2, layer_1),\n",
    "            nn.ReLU(),\n",
    "            \n",
    "            nn.Linear(layer_1, first_layer)            \n",
    "        )\n",
    "\n",
    "    def forward(self, x):\n",
    "        \n",
    "        x_encoder = self.encoder(x)\n",
    "        x_decoder = self.decoder(x_encoder)\n",
    "\n",
    "        return x_encoder,x_decoder\n",
    "    \n",
    "#custom dataset\n",
    "class ChronosDataset(Dataset):\n",
    "    def __init__(self,dat):\n",
    "        self.dat = dat\n",
    "        \n",
    "    def __len__(self):\n",
    "        return len(self.dat)\n",
    "    \n",
    "    def __getitem__(self,idx):\n",
    "        return self.dat[idx]\n",
    "\n",
    "#Trainning function\n",
    "def _fit(ae, train_loader, val_loader, epochs, batch_size, tolerence, optimizer, lr, scheduler, loss_f, writer):\n",
    "    best_loss = 0.0\n",
    "    #patience_level = 0\n",
    "#     timelimit = 600 # 10 mins maximum for each tolerence level\n",
    "#     starttime = time.time()\n",
    "\n",
    "#     not_overtime = lambda t: t-starttime<timelimit\n",
    " \n",
    "#     epoch = 0\n",
    "#     while not_overtime(time.time()):\n",
    "    for epoch in range(epochs):\n",
    "        average_loss = 0.0\n",
    "        for batchidx, x in enumerate(train_loader):\n",
    "            x = Variable(x.float())\n",
    "            _x_encoded, _x_decoded = ae(x.float())\n",
    "            loss = loss_f(_x_decoded,x)\n",
    "            writer.add_scalar(f'loss/loss_{tolerence}_{epochs}_{lr}',loss, epoch * batch_size + batchidx)\n",
    "            average_loss += loss.item()\n",
    "            optimizer.zero_grad()\n",
    "            loss.backward()\n",
    "            optimizer.step()\n",
    "        average_loss = average_loss / batch_size\n",
    "        \n",
    "        #Validation\n",
    "        with torch.no_grad():\n",
    "            current_loss = 0.0\n",
    "            for batchidx, x in enumerate(val_loader):\n",
    "                ae.eval()\n",
    "                _x_encoded, _x_decoded = ae(x.float())\n",
    "                val_loss = loss_f(_x_decoded,x)\n",
    "                current_loss += val_loss.item()\n",
    "                writer.add_scalar(f'val_loss/val_loss_{tolerence}_{epochs}_{lr}',val_loss, epoch * batch_size + batchidx)\n",
    "            current_loss = current_loss / batch_size\n",
    "#             if epoch == 0:\n",
    "#                 best_loss = current_loss        \n",
    "#             elif current_loss < best_loss:\n",
    "#                 patience_level = 0\n",
    "#                 best_model = ae\n",
    "#                 best_loss = current_loss\n",
    "#             else:\n",
    "#                 patience_level += 1\n",
    "        \n",
    "        if epoch % 10000 == 0:\n",
    "            print(f'epoch number:{epoch} train_loss: {average_loss} val_loss: {current_loss}')\n",
    "        scheduler.step(average_loss)\n",
    "         \n",
    "        # Early Stopping: Measure how much greater is current validation loss to best validation loss so far\n",
    "        # (in percentage), if greater than tolerence than stop.\n",
    "        # method comes from Early Stopping – But When? by Lutz Prechelt\n",
    "        if epoch == 0:\n",
    "            best_loss = current_loss \n",
    "        elif epoch > 0:\n",
    "            generalization_loss = 100 * ((current_loss / best_loss) - 1)\n",
    "            if generalization_loss > tolerence:\n",
    "                logging.info(f\"Early stopping is triggered because {generalization_loss}, current best loss: {best_loss}\")\n",
    "                break\n",
    "            \n",
    "        if current_loss < best_loss:\n",
    "            best_loss = current_loss\n",
    "        \n",
    "        #commented because following code is used for another method of early stopping\n",
    "#         if patience_level >= tolerence:\n",
    "#             logging.info(f\"Early stopping is triggered because {patience_level}, current best loss: {best_loss}\")\n",
    "#             break\n",
    "            \n",
    "        #epoch += 1\n",
    "#     torch.save({'epoch': epoch, 'state_dict': best_model.state_dict(), 'best_loss': best_loss,\n",
    "#                             'optimizer': optimizer.state_dict()},\n",
    "#                            f'temperary_model/temp_model_{tolerence}.pth.tar') \n",
    "    logging.info(f\"Training finished, epoch runned: {epoch}, current best loss: {best_loss}\")\n",
    "    return ae, best_loss, epoch\n",
    "\n",
    "# def load_checkpoint(model, checkpoint_PATH, optimizer):\n",
    "#     if checkpoint != None:\n",
    "#         model_CKPT = torch.load(checkpoint_PATH)\n",
    "#         model.load_state_dict(model_CKPT['state_dict'])\n",
    "#         print('loading checkpoint!')\n",
    "#         optimizer.load_state_dict(model_CKPT['optimizer'])\n",
    "#     return model, optimizer"
   ]
  },
  {
   "cell_type": "code",
   "execution_count": null,
   "id": "7d37ea16",
   "metadata": {},
   "outputs": [],
   "source": [
    "# epochs_pool = [random.randint(3,6) for i in range(20)]\n",
    "# lr_pool = [random.randint(-6,-3) for i in range(20)]\n",
    "# tolerence_pool = [random.randint(1,20) for i in range(20)]\n",
    "\n",
    "# for i in range(20):\n",
    "#     epochs_pool[i] = 10 ** epochs_pool[i]\n",
    "#     lr_pool[i] = 10 ** lr_pool[i]\n",
    "\n",
    "# print(lr_pool)\n",
    "# print(tolerence_pool)\n",
    "# print(epochs_pool)"
   ]
  },
  {
   "cell_type": "code",
   "execution_count": null,
   "id": "99a49e6e",
   "metadata": {},
   "outputs": [],
   "source": [
    "def train_model_pytorch(dat):\n",
    "    from tqdm.notebook import trange, tqdm\n",
    "    #trainning process\n",
    "    BATCH_SIZE = 32\n",
    "    LR = 0.0001\n",
    "    EPOCHS = 100000\n",
    "\n",
    "    #prepare data\n",
    "    train_len = int(len(dat) * 0.8)\n",
    "    val_len = len(dat) - train_len\n",
    "    train_dat, val_dat = random_split(dat, [train_len, val_len])\n",
    "    writer = SummaryWriter()\n",
    "    train_loader = DataLoader(ChronosDataset(train_dat), BATCH_SIZE, True)\n",
    "    val_loader = DataLoader(ChronosDataset(val_dat), BATCH_SIZE, True)\n",
    "    first_layer = dat.shape[1]\n",
    "    layer_1 = max(math.floor(first_layer/4),30) #max(math.floor(n_inputs/4), 30)\n",
    "    layer_2 = max(math.floor(layer_1/4),15) #max(math.floor(n_units_1/4), 15)\n",
    "\n",
    "    model_candidates = []\n",
    "    loss_list = []\n",
    "    hyperparameter_list = []\n",
    "    file_order = 0\n",
    "\n",
    "    for tolerence in trange(1,6,1):\n",
    "        for lr in tqdm([0.001,0.0001,0.00001]):\n",
    "            for epochs in tqdm([100, 1000]):\n",
    "            #     tolerence_percentage = (i + 1) / 10.0\n",
    "            #     tolerence = EPOCHS * tolerence_percentage\n",
    "\n",
    "                ae = AutoEncoder(first_layer, layer_1, layer_2)\n",
    "                optimizer = torch.optim.Adam(ae.parameters(), lr=lr)\n",
    "                scheduler = torch.optim.lr_scheduler.ReduceLROnPlateau(optimizer,factor=0.5, patience=125, verbose=True)\n",
    "                loss_f = nn.MSELoss()\n",
    "\n",
    "                best_ae, best_loss, epoch = _fit(ae, train_loader, val_loader, epochs, BATCH_SIZE, tolerence, optimizer, lr, scheduler, loss_f, writer)\n",
    "                filename = f\"temperary_model/temp_model_{file_order}\"\n",
    "\n",
    "                model_candidates.append(filename)\n",
    "                loss_list.append(best_loss)\n",
    "                hyperparameter_list.append((lr,epochs,tolerence))\n",
    "\n",
    "                try:\n",
    "                    torch.save(best_ae,filename)\n",
    "                except Exception as e:\n",
    "                    raise ValueError(e)\n",
    "\n",
    "                file_order += 1\n",
    "                                \n",
    "    losses = np.array(loss_list)\n",
    "    min_loss = losses.argmin()\n",
    "    ae = torch.load(model_candidates[min_loss])\n",
    "    ae.eval()\n",
    "\n",
    "    print(loss_list[min_loss])\n",
    "    print(hyperparameter_list[min_loss])\n",
    "    print(ae.state_dict())\n",
    "    return ae"
   ]
  },
  {
   "cell_type": "code",
   "execution_count": null,
   "id": "cf6db255",
   "metadata": {},
   "outputs": [],
   "source": [
    "ae_weekdays = train_model_pytorch(dat_weekdays)\n",
    "ae_weekends = train_model_pytorch(dat_weekends)"
   ]
  },
  {
   "cell_type": "markdown",
   "id": "f579644a",
   "metadata": {
    "tags": []
   },
   "source": [
    "## Ingest and preprocess data for scoring\n",
    "\n",
    "A lot of this is similar to preparing the training data, the main differences are that\n",
    "\n",
    "1. We do not remove outliers.\n",
    "2. We need to leftpad the data with the median_profiles so that we can generate scores for the first time point in the actual data.\n",
    "\n",
    "Note that some of the following cells overwrite existing variable names, so rerunning preceding cells will yield inconsistent results.\n",
    "\n",
    "To score other files, simply change the value of `scorefname` below."
   ]
  },
  {
   "cell_type": "code",
   "execution_count": null,
   "id": "4fdebc43",
   "metadata": {},
   "outputs": [],
   "source": [
    "def leftpad(df, ycols, minfreq, period, profile):\n",
    "    \"\"\"leftpads dataframe by period-1 points with median values for each column\"\"\"\n",
    "    df = df.copy()\n",
    "\n",
    "    firstindex = df['time_index'][0]\n",
    "    leftpad_index = [i%period for i in range(firstindex - (period - 1), firstindex)]\n",
    "    dat = {y:[profile.loc[i][y] for i in leftpad_index] for y in ycols}\n",
    "    dat['time_index'] = leftpad_index\n",
    "    leftdf = pd.DataFrame(\n",
    "        data = dat,\n",
    "        index = pd.date_range(end=df.index[0], periods=period, freq=minfreq, closed='left'))\n",
    "    df = leftdf.append(df)\n",
    "\n",
    "    return df"
   ]
  },
  {
   "cell_type": "code",
   "execution_count": null,
   "id": "24f8e148",
   "metadata": {},
   "outputs": [],
   "source": [
    "scorefname = 'data/210129-210204_weekly.csv' # substitute to score different data\n",
    "df_test_weekdays, df_test_weekends = ingest(scorefname, dscol, ycols)\n",
    "\n",
    "df_test_weekdays, _, _ = ae_preproc(df_test_weekdays, ycols)\n",
    "original_data = df_test_weekdays.copy() # saved because we might need it later\n",
    "\n",
    "aligned_weekdays, _, _ = align_data(original_data, colfreqs_weekdays, minfreq_weekdays, anchors_weekdays, zeropoint_weekdays)\n",
    "aligned_weekdays['time_index'] = [((t-zeropoint_weekdays)//minfreq_weekdays)%period_weekdays for t in aligned_weekdays.index]\n",
    "df_test_weekdays = leftpad(aligned_weekdays, ycols, minfreq_weekdays, period_weekdays, median_profiles_weekdays)\n",
    "df_test_weekdays = fill_gaps(df_test_weekdays, colfreqs_weekdays, minfreq_weekdays, period_weekdays, median_profiles_weekdays, zeropoint_weekdays)\n",
    "test_seq_weekdays = aligned_weekdays.copy()\n",
    "nona_weekdays = test_seq_weekdays.dropna(how=\"all\")\n",
    "\n",
    "df_test_weekends, _, _ = ae_preproc(df_test_weekends, ycols)\n",
    "original_data_weekends = df_test_weekends.copy() # saved because we might need it later\n",
    "\n",
    "aligned_weekends, _, _ = align_data(original_data_weekends, colfreqs_weekends, minfreq_weekends, anchors_weekends, zeropoint_weekends)\n",
    "aligned_weekends['time_index'] = [((t-zeropoint_weekends)//minfreq_weekends)%period_weekends for t in aligned_weekends.index]\n",
    "df_test_weekends = leftpad(aligned_weekends, ycols, minfreq_weekends, period_weekends, median_profiles_weekends)\n",
    "df_test_weekends = fill_gaps(df_test_weekends, colfreqs_weekends, minfreq_weekends, period_weekends, median_profiles_weekends, zeropoint_weekends)\n",
    "test_seq_weekends = aligned_weekends.copy()\n",
    "nona_weekends = test_seq_weekends.dropna(how=\"all\")"
   ]
  },
  {
   "cell_type": "code",
   "execution_count": null,
   "id": "a7170dd9",
   "metadata": {},
   "outputs": [],
   "source": [
    "df_test_weekends"
   ]
  },
  {
   "cell_type": "markdown",
   "id": "5629eead",
   "metadata": {},
   "source": [
    "## Load model for scoring"
   ]
  },
  {
   "cell_type": "code",
   "execution_count": null,
   "id": "ba02e256",
   "metadata": {},
   "outputs": [],
   "source": [
    "model_weekdays = construct_ae_model(modelmeta_weekdays['input_size'])\n",
    "model_weekdays.load_weights(modfname_weekdays)\n",
    "\n"
   ]
  },
  {
   "cell_type": "markdown",
   "id": "826dfa01",
   "metadata": {},
   "source": [
    "## Actual scoring\n",
    "\n",
    "Here we score the data in batches. Each batch is all the windows from one phase in the period."
   ]
  },
  {
   "cell_type": "code",
   "execution_count": null,
   "id": "4668095d",
   "metadata": {},
   "outputs": [],
   "source": [
    "for t in time_index_weekdays:\n",
    "    times = nona_weekdays[nona_weekdays['time_index']==t].index\n",
    "    signals = generate_model_input(df_test_weekdays, ycols, times, period_weekdays, modnorms_weekdays, offset=t, median_values=median_profiles_weekdays)\n",
    "    preds = model_weekdays.predict(signals.reshape([signals.shape[0], -1]))\n",
    "    errors = np.sum(np.square(signals-preds), axis=1)\n",
    "    test_seq_weekdays.loc[times, 'model_1_score'] = errors\n",
    "    signals = torch.from_numpy(signals)\n",
    "    signals = Variable(signals.float())\n",
    "    code,preds = ae_weekdays(signals)\n",
    "    errors = np.sum(np.square((signals-preds).detach().numpy()), axis=1)\n",
    "    test_seq_weekdays.loc[times, 'model_2_score'] = errors\n",
    "    #logging.info(f\"finished scoring window {t}\")\n",
    "\n",
    "K.clear_session()\n",
    "\n",
    "test_seq_weekdays[['model_1_score','model_2_score']].plot(figsize=[16,8])"
   ]
  },
  {
   "cell_type": "code",
   "execution_count": null,
   "id": "ebac7c90",
   "metadata": {},
   "outputs": [],
   "source": [
    "model_weekends = construct_ae_model(modelmeta_weekends['input_size'])\n",
    "model_weekends.load_weights(modfname_weekends)\n",
    "for t in time_index_weekends:\n",
    "    times = nona_weekends[nona_weekends['time_index']==t].index\n",
    "    signals = generate_model_input(df_test_weekends, ycols, times, period_weekends, modnorms_weekends, offset=t, median_values=median_profiles_weekends)\n",
    "    preds = model_weekends.predict(signals.reshape([signals.shape[0], -1]))\n",
    "    errors = np.sum(np.square(signals-preds), axis=1)\n",
    "    test_seq_weekends.loc[times, 'model_1_score'] = errors\n",
    "    #logging.info(f\"finished scoring window {t}\")\n",
    "    signals = torch.from_numpy(signals)\n",
    "    signals = Variable(signals.float())\n",
    "    code,preds = ae_weekends(signals)\n",
    "    errors = np.sum(np.square((signals-preds).detach().numpy()), axis=1)\n",
    "    test_seq_weekends.loc[times, 'model_2_score'] = errors\n",
    "\n",
    "K.clear_session()\n",
    "\n",
    "test_seq_weekends[['model_1_score','model_2_score']].plot(figsize=[16,8])"
   ]
  },
  {
   "cell_type": "code",
   "execution_count": null,
   "id": "466f9dfc",
   "metadata": {},
   "outputs": [],
   "source": [
    "for t in time_index_weekdays:\n",
    "    times = nona_weekdays[nona_weekdays['time_index']==t].index\n",
    "    signals = generate_model_input(df_test_weekdays, ycols, times, period_weekdays, modnorms_weekdays, offset=t, median_values=median_profiles_weekdays)\n",
    "    _signals = signals.reshape([signals.shape[0], -1])\n",
    "\n",
    "    _signals = torch.from_numpy(signals)\n",
    "    signals = Variable(_signals.float())\n",
    "    code,preds = ae_weekdays(signals)\n",
    "    errors = np.sum(np.square((signals-preds).detach().numpy()), axis=1)\n",
    "    test_seq_weekdays.loc[times, 'score'] = errors\n",
    "    #logging.info(f\"finished scoring window {t}\")\n",
    "\n",
    "K.clear_session()\n",
    "\n",
    "test_seq_weekdays[['score']].plot(figsize=[16,8])"
   ]
  },
  {
   "cell_type": "code",
   "execution_count": null,
   "id": "1d763b63",
   "metadata": {},
   "outputs": [],
   "source": [
    "for t in time_index_weekends:\n",
    "    times = nona_weekends[nona_weekends['time_index']==t].index\n",
    "    signals = generate_model_input(df_test_weekends, ycols, times, period_weekends, modnorms_weekends, offset=t, median_values=median_profiles_weekends)\n",
    "    _signals = signals.reshape([signals.shape[0], -1])\n",
    "\n",
    "    _signals = torch.from_numpy(signals)\n",
    "    signals = Variable(_signals.float())\n",
    "    code,preds = ae_weekends(signals)\n",
    "    errors = np.sum(np.square((signals-preds).detach().numpy()), axis=1)\n",
    "    test_seq_weekends.loc[times, 'score'] = errors\n",
    "    #logging.info(f\"finished scoring window {t}\")\n",
    "\n",
    "K.clear_session()\n",
    "\n",
    "test_seq_weekends[['score']].plot(figsize=[16,8])"
   ]
  },
  {
   "cell_type": "markdown",
   "id": "50fb0ee2",
   "metadata": {},
   "source": [
    "## Zoomed in views\n",
    "\n",
    "This has nothing to do with modelling, really. In actual deployment, we allow the users to pick a point _t_ in time and look at the actual data and the values reconstructed by the autoencoder so that they can decide whether or not it was an anomaly. There are two parts to this.\n",
    "\n",
    "1. Run the model on the window of 1 period ending at _t_ to generate the outputs. This is mostly the same process as in scoring.\n",
    "2. Reconstruct the autoencoder output (basically a vector) into the columns. This is the reverse process of `generate_model_input()`.\n",
    "\n",
    "To generate views for different csvs and times, just change `zoomfname` and `ts` below."
   ]
  },
  {
   "cell_type": "code",
   "execution_count": null,
   "id": "a158c549",
   "metadata": {},
   "outputs": [],
   "source": [
    "def denormdf(normed, modnorms):\n",
    "    df = normed.copy()\n",
    "    for y, ( ymin, ymax ) in modnorms.items():\n",
    "        mmdiff = ymax - ymin\n",
    "        df[y] = df[y]*mmdiff + ymin\n",
    "    return df\n",
    "\n",
    "def unpack_pred_row(df, ycols, t, period, preds, offset):\n",
    "    \"\"\"\n",
    "unpacks the predicted values numpy array into their respective columns\n",
    "\n",
    "these values are placed in their proper rows in df as \"{y}_pred\"\n",
    "    \"\"\"\n",
    "    idx = df.index.get_loc(t)+1\n",
    "    rowdf = df.iloc[idx-period:idx].copy()\n",
    "    original = rowdf.copy()\n",
    "    startidx = 0\n",
    "    for y in ycols:\n",
    "        ynona = rowdf[[y]].dropna()\n",
    "        ylen = len(ynona)\n",
    "        ypreds = preds[startidx:startidx+ylen]\n",
    "        rowdf.loc[ynona.index, f'{y}_preds'] = ypreds\n",
    "        startidx = startidx + ylen\n",
    "    startpos = 1+offset\n",
    "    rowdf = rowdf.iloc[startpos:].append(rowdf.iloc[:startpos])\n",
    "    rowdf = rowdf.reset_index(drop=True).set_index(original.index)\n",
    "    for y in ycols:\n",
    "        rowdf[y] = original[y]\n",
    "    return rowdf"
   ]
  },
  {
   "cell_type": "code",
   "execution_count": null,
   "id": "7a0fbe1a",
   "metadata": {},
   "outputs": [],
   "source": [
    "zoomfname = 'data/210129-210204_weekly.csv'\n",
    "#ts = \"2019-10-28T15:30\"\n",
    "ts = '2021-01-30T23:58'\n",
    "\n",
    "df_test = ingest(zoomfname, dscol, ycols)\n",
    "df_test_2, _, _ = ae_preproc(df_test, ycols)\n",
    "original_data = df_test_2.copy() # saved because we might need it later\n",
    "\n",
    "\n",
    "aligned, _, _ = align_data(original_data, colfreqs, minfreq, anchors, zeropoint)\n",
    "aligned['time_index'] = [((t-zeropoint)//minfreq)%period for t in aligned.index]\n",
    "df_test_2 = leftpad(aligned, ycols, minfreq, period, median_profiles)\n",
    "df_test_2 = fill_gaps(df_test_2, colfreqs, minfreq, period, median_profiles, zeropoint)\n",
    "\n",
    "\n",
    "model = construct_ae_model(modelmeta['input_size'])\n",
    "model.load_weights(modfname)"
   ]
  },
  {
   "cell_type": "code",
   "execution_count": null,
   "id": "62973f9a",
   "metadata": {},
   "outputs": [],
   "source": [
    "idx = pd.Timestamp(ts)\n",
    "modt = time_index[-1]\n",
    "t = df_test_2.loc[idx, 'time_index']\n",
    "\n",
    "prednorms = {f\"{y}_preds\": modnorms[y] for y in modnorms}\n",
    "vals = generate_model_input(df_test_2, ycols, [idx], period, modnorms, offset=t, median_values=median_profiles)\n",
    "preds = model.predict(vals)\n",
    "rowdf = unpack_pred_row(df_test_2, ycols, idx, period, preds[0], t)\n",
    "# denormalize data\n",
    "rowdf = denormdf(rowdf, prednorms)\n",
    "K.clear_session()"
   ]
  },
  {
   "cell_type": "code",
   "execution_count": null,
   "id": "bf78e0d0",
   "metadata": {},
   "outputs": [],
   "source": [
    "# zoomed view for new PyTorch model\n",
    "idx = pd.Timestamp(ts)\n",
    "modt = time_index[-1]\n",
    "t = df_test_2.loc[idx, 'time_index']\n",
    "\n",
    "prednorms = {f\"{y}_preds\": modnorms[y] for y in modnorms}\n",
    "vals = generate_model_input(df_test_2, ycols, [idx], period, modnorms, offset=t, median_values=median_profiles)\n",
    "_vals = torch.from_numpy(vals)\n",
    "_vals = Variable(_vals.float())\n",
    "code,preds_pt = ae(_vals)\n",
    "rowdf_pt = unpack_pred_row(df_test_2, ycols, idx, period, preds_pt.detach().numpy()[0], t)\n",
    "# denormalize data\n",
    "rowdf_pt = denormdf(rowdf_pt, prednorms)\n",
    "K.clear_session()\n"
   ]
  },
  {
   "cell_type": "code",
   "execution_count": null,
   "id": "50ec8a3e",
   "metadata": {},
   "outputs": [],
   "source": [
    "for y in ycols:\n",
    "    rowdf[f'{y}_new_preds'] = rowdf_pt[f\"{y}_preds\"]\n",
    "    \n",
    "for y in ycols:\n",
    "    rowdf[[y, f\"{y}_preds\",f'{y}_new_preds']].plot(figsize=[16,8])"
   ]
  }
 ],
 "metadata": {
  "kernelspec": {
   "display_name": "Python 3",
   "language": "python",
   "name": "python3"
  },
  "language_info": {
   "codemirror_mode": {
    "name": "ipython",
    "version": 3
   },
   "file_extension": ".py",
   "mimetype": "text/x-python",
   "name": "python",
   "nbconvert_exporter": "python",
   "pygments_lexer": "ipython3",
   "version": "3.7.4"
  }
 },
 "nbformat": 4,
 "nbformat_minor": 5
}
