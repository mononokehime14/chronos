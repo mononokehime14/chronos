{
 "cells": [
  {
   "cell_type": "markdown",
   "id": "antique-chorus",
   "metadata": {},
   "source": [
    "# Introduction\n",
    "\n",
    "This notebook duplicates the data preprocessing and modelling that Chronos+ does, with all the database and job queue code stripped out. As far as possible, the duplication is verbatim to facilitate the transfer of any changes made in this notebook back into Chronos+. All current data rejection points are also documented.\n",
    "test with git\n",
    "\n",
    "## Imports"
   ]
  },
  {
   "cell_type": "code",
   "execution_count": 3,
   "id": "intensive-xerox",
   "metadata": {},
   "outputs": [
    {
     "name": "stdout",
     "output_type": "stream",
     "text": [
      "The autoreload extension is already loaded. To reload it, use:\n",
      "  %reload_ext autoreload\n"
     ]
    }
   ],
   "source": [
    "import logging\n",
    "import math\n",
    "import time\n",
    "import numpy as np\n",
    "import pandas as pd\n",
    "import statsmodels.tsa.stattools as sts\n",
    "from scipy.signal import argrelextrema\n",
    "\n",
    "from keras.callbacks import Callback\n",
    "from keras.models import Sequential\n",
    "from keras.layers import Dense\n",
    "from keras import backend as K\n",
    "\n",
    "%load_ext autoreload\n",
    "%autoreload 2\n",
    "\n",
    "\n",
    "%matplotlib inline\n",
    "logging.getLogger().setLevel(logging.INFO)"
   ]
  },
  {
   "cell_type": "markdown",
   "id": "accessory-syndicate",
   "metadata": {},
   "source": [
    "## Define CSV filename, datetime and value columns\n",
    "\n",
    "To test the modelling and scoring process on your own data, just change the following variables.\n",
    "\n",
    "1. `datecol` --> the name of the column in the CSV file we wish to use as the time series index.\n",
    "2. `ycols` --> the list of names of the value columns we wish to train and score on.\n",
    "3. `fname` --> name of csv file."
   ]
  },
  {
   "cell_type": "code",
   "execution_count": 4,
   "id": "tight-posting",
   "metadata": {},
   "outputs": [],
   "source": [
    "datecol = \"Time\"\n",
    "ycols = [\"SA1900282\"] # there can be more than one\n",
    "fname = \"data/giordano-oct-nov.csv\"  # [ANDY] what's the prerequisite format of ts df (sample multivariate ts data)? can accommodate for ts1 = [0,30,60,90] and ts = [1,16,31,46]?"
   ]
  },
  {
   "cell_type": "markdown",
   "id": "broad-slovak",
   "metadata": {},
   "source": [
    "## Ingesting the data\n",
    "\n",
    "1. `datecol` must exist in the CSV or we raise an exception\n",
    "2. `ycols` must contain the name of at least one column or we raise an exception\n",
    "3. every column in `ycols` must exist in the CSV or we raise an exception\n",
    "4. if we cannot parse a value in the datetime column as a datetime, we discard the whole row\n",
    "5. every value in the columns denoted by `ycols` is parsed as a float or set to np.nan\n",
    "6. we set the `datecol` column as the index of the dataframe\n",
    "7. we sort the dataframe by the index\n",
    "7. we drop any columns not listed in `ycols` and return the result"
   ]
  },
  {
   "cell_type": "code",
   "execution_count": 5,
   "id": "indirect-seventh",
   "metadata": {},
   "outputs": [],
   "source": [
    "class MissingColumnError(Exception):\n",
    "    def __init__(self, col, *args, **kwargs):\n",
    "        self.column = col\n",
    "        Exception.__init__(self, *args, **kwargs)\n",
    "        \n",
    "def ingest(csv, dscol, ycols):\n",
    "    \"\"\" ingests a timeseries csv. Does not throw an error if datetime format is not followed (will always try to interpret) or if value column contains non-int or non-floats.\n",
    "\n",
    "    1) renames the datetime column to 'ds'\n",
    "\n",
    "    2) indexes the 'ds' column\n",
    "\n",
    "    3) sorts by ds column\n",
    "    \n",
    "    Parameters\n",
    "    ----------\n",
    "    csv : str \n",
    "         path to csv with header and format `datetime,value`.\n",
    "         datetime: {%Y-%m-%d (e.g. 2017-12-01), \n",
    "                    %Y-%m-%d (e.g. 2017-12-1), \n",
    "                    %Y-%b-%d (e.g. 2017-Dec-01), \n",
    "                    %d-%b-%Y (e.g. 1-Dec-2017), \n",
    "                    %Y-%m-%d %H:%M:%S (e.g. 2017-12-01 00:00:00)}\n",
    "                 * note all represent 1st December 2017\n",
    "         value: {float, int}\n",
    "\n",
    "    dscol : str\n",
    "                    the header name for the datetime column in the csv\n",
    "    ycols: list of str\n",
    "                    the names of the value columns\n",
    "    \n",
    "    Returns\n",
    "    -------\n",
    "    pandas.DataFrame\n",
    "\n",
    "    \"\"\"\n",
    "    df = pd.read_csv(csv)\n",
    "\n",
    "    if dscol not in df:\n",
    "        raise MissingColumnError(dscol)\n",
    "\n",
    "    if not ycols:\n",
    "        raise ValueError(f\"ycols is empty: {ycols}\")\n",
    "\n",
    "    for ycol in ycols:\n",
    "        if ycol not in df:\n",
    "            raise MissingColumnError(ycol)\n",
    "\n",
    "    # if the date column is not parseable as a date, then we should discard the row\n",
    "    df[dscol] = pd.to_datetime(df[dscol], errors=\"coerce\")\n",
    "    df = df[~df[dscol].isnull()]\n",
    "\n",
    "    # parse value column as float. no exceptions\n",
    "    for ycol in ycols:\n",
    "        df[ycol] = df[ycol].apply(__float_or_nan)  # [ANDY] can use pd.to_numeric(df[ycol], errors='coerce')\n",
    "\n",
    "    df = df.set_index(dscol).sort_index()[ycols]\n",
    "    return df.sort_index()  # [ANDY] redundant sort_index()?\n",
    "\n",
    "def __float_or_nan(o):\n",
    "    try:\n",
    "        return np.float(o)\n",
    "    except:\n",
    "        return np.nan"
   ]
  },
  {
   "cell_type": "code",
   "execution_count": 6,
   "id": "eastern-emperor",
   "metadata": {},
   "outputs": [],
   "source": [
    "df = ingest(fname, datecol, ycols)  # [ANDY] drop rows with unparseable ts but keep rows with NaN in ycols"
   ]
  },
  {
   "cell_type": "markdown",
   "id": "municipal-trail",
   "metadata": {},
   "source": [
    "## Autoencoder preprocessing\n",
    "\n",
    "This is code that needs to be run regardless of whether we are preprocessing data for training or scoring. That is why it has been refactored into its own function.\n",
    "\n",
    "1. remove duplicate rows (identical datetime and values)\n",
    "2. if we find rows with identical datetime but different values, we raise an exception because it is impossible for us to decide which row contains the correct value.\n",
    "  1. the other option is to delete all such rows, but for now we have elected to reject the entire CSV\n",
    "3. we try to detect the sampling frequency of each value column\n",
    "  1. we take the mode of the time differences between successive values for each column\n",
    "  2. if there is no mode for any of the columns we reject the whole CSV\n",
    "4. we return the resulting dataframe, along with the sampling frequencies for each column, as well as the minimum sampling frequency"
   ]
  },
  {
   "cell_type": "code",
   "execution_count": 7,
   "id": "normal-aberdeen",
   "metadata": {},
   "outputs": [],
   "source": [
    "def ae_preproc(df, ycols):\n",
    "    \"\"\"takes df, ycols and returns preprocessed df, freq\"\"\"\n",
    "    df = remove_duplicate_rows(df)\n",
    "\n",
    "    dupe_ds = list(df[df.index.duplicated()].index.drop_duplicates())  # [Andy] can use sum(df.index.duplicated())\n",
    "    # we also reject if we have duplicate datetimes that are not duplicate rows\n",
    "    if len(dupe_ds)!=0:\n",
    "        raise Exception(\"rows with duplicate datetimes detected\")\n",
    "\n",
    "    colfreqs = {}\n",
    "    for y in ycols:\n",
    "        currdf = df[[y]].dropna()\n",
    "        freqs = detect_ds_frequency(currdf)\n",
    "        if len(freqs)!=1:\n",
    "            # we reject if we have no modal sampling frequency\n",
    "            raise Exception(\"more than one sampling frequency was detected\")\n",
    "\n",
    "        colfreqs[y] = freqs.index[0]\n",
    "\n",
    "    minfreq = min(colfreqs.values())\n",
    "\n",
    "    return df, colfreqs, minfreq\n",
    "\n",
    "def remove_duplicate_rows(df):\n",
    "    \"\"\"returns df with duplicates removed \n",
    "    \"\"\"    \n",
    "    idx_name = df.index.name  # [ANDY] this is the same as dscol\n",
    "    return df.reset_index().drop_duplicates().set_index(idx_name)\n",
    "\n",
    "def detect_ds_frequency(df):\n",
    "    \"\"\"detects the frequency of datetime in df.\n",
    "    \n",
    "    1) subtract all the datetime in ds by its next datetime to retrieve the deltas\n",
    "    \n",
    "    2) count the number of occurrences for each delta\n",
    "    \n",
    "    Parameters\n",
    "    ----------\n",
    "    df : pandas.DataFrame \n",
    "         The dataframe to detect the datetime frequency, needs to have a sorted datetime index\n",
    "    Returns\n",
    "    -------\n",
    "    freq : pd.Series of size 1 whose index is the modal timedelta and value is the number of times it appeared if there is one mode\n",
    "    and it appeared > 50% of the time\n",
    "           else pd.Series of max size 10 sorted by ascending order of modal timedeltas\n",
    "    \"\"\"\n",
    "    deltas = pd.Series(df.index[1:] - df.index[:-1])  # [ANDY] deltas = df.reset_index()[dscol].diff()\n",
    "    threshold = len(deltas)/2\n",
    "    delta_counts = deltas.value_counts()\n",
    "    modal_delta = delta_counts.idxmax()  # [ANDY] modal_delta = delta_counts.index[0]\n",
    "    mdcount = delta_counts[modal_delta]  # mdcount = delta_counts.iloc[0]\n",
    "\n",
    "    if mdcount > threshold:\n",
    "        return delta_counts.head(1)\n",
    "\n",
    "    dc = [item for item in delta_counts.iteritems()]\n",
    "    # sort by ascending order of timedelta\n",
    "    dc.sort(key=lambda e:e[0])\n",
    "    # sort by descending order of occurrences\n",
    "    dc.sort(key=lambda e:e[1], reverse=True)\n",
    "    dc = dc[:50]\n",
    "\n",
    "    return pd.Series(data=[e[1] for e in dc], index=[e[0] for e in dc])"
   ]
  },
  {
   "cell_type": "code",
   "execution_count": 8,
   "id": "trying-amino",
   "metadata": {},
   "outputs": [],
   "source": [
    "df, colfreqs, minfreq = ae_preproc(df, ycols)  # [ANDY] df with no duplicated rows, no duplicated ts, with only one modal frequency for each column and with NaN"
   ]
  },
  {
   "cell_type": "markdown",
   "id": "catholic-advice",
   "metadata": {},
   "source": [
    "## Check for sparse columns\n",
    "\n",
    "Given a duration _d_ and a time series with a sampling frequency _f_, the expected number of values it should have over _d_ is \n",
    "\n",
    "_e_ = _d_/_f_\n",
    "\n",
    "We define a sparse column as a column within the dataframe where given its sampling frequency and the duration of the whole dataframe, it has less than 75% the number of expected values. We raise an exception if any column is sparse."
   ]
  },
  {
   "cell_type": "code",
   "execution_count": 9,
   "id": "tracked-happening",
   "metadata": {},
   "outputs": [],
   "source": [
    "class SparseColumnError(Exception):\n",
    "    pass\n",
    "\n",
    "def check_sparse_cols(df, colfreqs):\n",
    "    totalduration = df.index[-1] - df.index[0]\n",
    "    for y, freq in colfreqs.items():\n",
    "        numpoints = len(df[[y]].dropna())\n",
    "        # every column must cover 75% of the duration\n",
    "        expected = totalduration // freq * 0.75\n",
    "        if numpoints < expected:\n",
    "            raise SparseColumnError(f\"column {y} has frequency {freq} and {numpoints} points, but duration of dataset is {totalduration}\")"
   ]
  },
  {
   "cell_type": "code",
   "execution_count": 10,
   "id": "alleged-certification",
   "metadata": {},
   "outputs": [],
   "source": [
    "check_sparse_cols(df, colfreqs)"
   ]
  },
  {
   "cell_type": "markdown",
   "id": "attempted-catering",
   "metadata": {},
   "source": [
    "## Get period\n",
    "\n",
    "We try to calculate the period of the data, but in order to keep things simple, we also require that the sampling frequencies of all the time series in the data (i.e. everything in `colfreqs`) be multiples of the minimum sampling frequency `minfreq`.\n",
    "\n",
    "The method of detecting the period was deviced by Yiqun, and my understanding of it is not very firm. Nevertheless, I will try to explain the gist of what I know. Details will be skipped over in favour of conveying the overall idea because the details are in the code below.\n",
    "\n",
    "First, we calculate the autocorrelation function for each time series in the data. We then add them all up and store them in `acfs`, aligning them using `minfreq`.\n",
    "\n",
    "To illustrate, if we are given signals _a_ and _b_, with sampling frequencies 5 minutes and 10 minutes respectively, `minfreq` would be 5 minutes. Suppose we calculate the autocorrelation functions for each signal and the value at lag 2 for _b_ is `0.3` while the value at lag 4 for _a_ is `0.5`. `acfs[4]` would hence hold the value `0.8`.\n",
    "\n",
    "After calculating `acfs` in this manner, we next obtain the indices of the local maxima within `acfs` and store it in `max_corr_points`. Then we take the absolute differences between every possible pair of indices in `max_corr_points`. Thus, we obtain a list of index differences between lags exhibiting high autocorrelation. The idea is that if the time series is periodic over _n_ time steps, then the autocorrelation will be high for lag _n_, _2n_, _3n_, ...\n",
    "\n",
    "If we cannot find a period, we reject the data."
   ]
  },
  {
   "cell_type": "code",
   "execution_count": 11,
   "id": "distinct-aerospace",
   "metadata": {},
   "outputs": [],
   "source": [
    "class NoPeriodError(Exception):\n",
    "    pass\n",
    "\n",
    "def get_period(df, colfreqs, minfreq):\n",
    "    # check that all sampling frequencies are multiples of the smallest sampling frequency\n",
    "    notime = pd.Timedelta(0)\n",
    "    for f in colfreqs.values():\n",
    "        if f % minfreq != notime:\n",
    "            raise ValueError(\"detected sampling frequency that is not a multiple of the minimum sampling frequency\")\n",
    "\n",
    "    # there is no point calculating autocorrelation for lags greater than n/2\n",
    "    nlags = len(df)//2  # [ANDY] assuming df covers at least two periods ? Why?\n",
    "    acfs = np.zeros((nlags+1,))\n",
    "    for y in colfreqs:\n",
    "        yvals = df[y].dropna()\n",
    "        yacfs = sts.acf(yvals, nlags=len(yvals)//2)\n",
    "        step_size = colfreqs[y]//minfreq\n",
    "        yacfs_idx = range(0, len(acfs), step_size)\n",
    "        # we simplify by cropping because if len(df) % len(yvals) != step_size we get tedious off-by-one errors\n",
    "        yacfs = yacfs[:len(yacfs_idx)]\n",
    "        # if y has missing values, yacfs can be shorter than yacfs_idx -_-\n",
    "        yacfs_idx = yacfs_idx[:len(yacfs)]\n",
    "        acfs[yacfs_idx] += yacfs\n",
    "\n",
    "    max_corr_points = argrelextrema(acfs, np.greater, order=max(len(df)//1000, 2))  # [ANDY] why max(len(df)//1000, 2))?\n",
    "    max_corr_points = max_corr_points[0]\n",
    "    max_corr_points = max_corr_points[acfs[max_corr_points]>0.2]  # [ANDY] why 0.2?\n",
    "    max_corr_points = np.insert(max_corr_points, 0, 0, axis=0)\n",
    "    max_cor_diff = []\n",
    "    for point_1 in max_corr_points:\n",
    "        for point_2 in max_corr_points:\n",
    "            if point_1==point_2: continue\n",
    "            max_cor_diff.append(abs(point_1-point_2))\n",
    "    max_cor_diff = np.array(max_cor_diff)\n",
    "    unique_vals, counts = np.unique(max_cor_diff, return_counts=True)\n",
    "    adjust_counts = []\n",
    "    for idx in range(len(unique_vals)):\n",
    "        adjust_counts.append(np.sum(counts[np.where(unique_vals%unique_vals[idx]==0)]))\n",
    "    if(np.max(adjust_counts)>5):  # [ANDY] why 5?\n",
    "        return unique_vals[np.argmax(adjust_counts)]\n",
    "    raise NoPeriodError(\"no period detected\")"
   ]
  },
  {
   "cell_type": "code",
   "execution_count": 12,
   "id": "governmental-factor",
   "metadata": {},
   "outputs": [
    {
     "name": "stderr",
     "output_type": "stream",
     "text": [
      "/Users/andywang/Work/GitHub/chronos-plus-handover-notebook/myvenv/lib/python3.7/site-packages/statsmodels/tsa/stattools.py:541: FutureWarning: fft=True will become the default in a future version of statsmodels. To suppress this warning, explicitly set fft=False.\n",
      "  warnings.warn(msg, FutureWarning)\n"
     ]
    }
   ],
   "source": [
    "period = get_period(df, colfreqs, minfreq)"
   ]
  },
  {
   "cell_type": "markdown",
   "id": "understanding-example",
   "metadata": {},
   "source": [
    "## Align data\n",
    "\n",
    "This step tries to calculate the alignments for each column, in case there are misaligned values. The basic idea is as follows. Given a time series that starts at _t_ with sampling frequency _f_, you would expect there all the data to have a time index of _t + nf_, where _n_ is some positive integer. Any sequence of values that instead fall on _t + i + nf_, where _i_ is a non-zero value, is misaligned. \n",
    "\n",
    "Our approach is to first find groups of contiguous samples where _t + nf_ is true if we take the first time index in the group as _t_. Then we merge the non-contiguous groups based on whether they are aligned with each other. We assume that the largest such merged group is the one with the correct alignment and force every other group to align with it.\n",
    "\n",
    "We then returned the aligned data as well as `zeropoint`, which is first time point of the aligned data, as well as `anchors`, which is the first time point of each column after alignment. The `anchor` and `zeropoint` values allow us to check if future CSVs belonging to the same time series are consistent with the training data. For scoring, we `align_data()` rejects the data if it is inconsistent with `anchors` after alignment."
   ]
  },
  {
   "cell_type": "code",
   "execution_count": 13,
   "id": "hollywood-italic",
   "metadata": {},
   "outputs": [],
   "source": [
    "class MisalignedColumnsError(Exception):\n",
    "    pass\n",
    "\n",
    "def align_data(df, colfreqs, minfreq, anchors=None, zeropoint=None):\n",
    "    \"\"\"aligns data according to sampling frequencies\"\"\"\n",
    "    aligned_df = {}\n",
    "    for y, freq in colfreqs.items():\n",
    "        col_df = df[y].dropna()\n",
    "        index_diff = col_df.index[1:]-col_df.index[:-1]\n",
    "        sampling_groups = []\n",
    "        cur_group = [col_df.index[0]]\n",
    "        for idx in range(len(index_diff)):\n",
    "            if (index_diff[idx]==freq):\n",
    "                cur_group.append(col_df.index[idx+1])\n",
    "            else:\n",
    "                if (len(cur_group)>0):\n",
    "                    sampling_groups.append(cur_group)\n",
    "                cur_group = [cpdol_df.index[idx+1]]\n",
    "\n",
    "        if (len(cur_group)>0):\n",
    "            sampling_groups.append(cur_group)\n",
    "            \n",
    "        merged_sampling_group = []\n",
    "        while len(sampling_groups)>0:\n",
    "            cur_group = sampling_groups.pop(0)\n",
    "            merged_idx = []\n",
    "            for gidx, group in enumerate(sampling_groups):\n",
    "                if ((group[0]-cur_group[-1])%freq==0):  # [ANDY] (group[0]-cur_group[-1])%freq == pd.Timedelta(0)?\n",
    "                    cur_group.extend(group)\n",
    "                    merged_idx.append(gidx)\n",
    "        \n",
    "            for m_idx in sorted(merged_idx, reverse=True):\n",
    "                del sampling_groups[m_idx]\n",
    "            \n",
    "            merged_sampling_group.append(cur_group)\n",
    "            \n",
    "        merged_group_lens = [len(group) for group in merged_sampling_group]\n",
    "        dominant_group_idx = np.argmax(merged_group_lens)\n",
    "        init_group = merged_sampling_group[dominant_group_idx]\n",
    "        \n",
    "        n_samplings_before = round((init_group[0]-df.index[0])/freq)+1\n",
    "        n_samplings_after = round((df.index[-1] - init_group[0])/freq)  # [ANDY] should +1?\n",
    "        index_before = pd.date_range(end=init_group[0], periods = n_samplings_before, freq = freq, closed = 'left')\n",
    "        index_after = pd.date_range(start=init_group[0], periods = n_samplings_after, freq = freq)\n",
    "        aligned_index = index_before.append(index_after)\n",
    "        \n",
    "        # need to understand the mechanism of reindex on how it fill the NA value\n",
    "        aligned_col_df = col_df.reindex(index=aligned_index, method='nearest', limit=1)\n",
    "        aligned_df[y] = aligned_col_df\n",
    "        \n",
    "    aligned_df = pd.DataFrame(aligned_df)\n",
    "\n",
    "    if anchors is None:\n",
    "        anchors = {y:aligned_df[[y]].dropna().index[0] for y in colfreqs}\n",
    "        #NOTE: the zeropoint value is necessary for building the time_index column, which fill_gaps does\n",
    "        zeropoint = aligned_df.index[0]\n",
    "    #if anchors is passed in, do a sanity check on alignment\n",
    "    else:\n",
    "        notime = pd.Timedelta(seconds=0)\n",
    "        for y, yfreq in colfreqs.items():\n",
    "            thisorigin = aligned_df[[y]].dropna().index[0]\n",
    "            if (thisorigin - anchors[y]) % yfreq != notime:\n",
    "                raise MisalignedColumnsError(f\"after aligning the data, column {y}'s zero point {thisorigin} is not aligned with the recorded anchor point {anchors[y]} with sampling frequency {yfreq}\")\n",
    "\n",
    "    return aligned_df, anchors, zeropoint"
   ]
  },
  {
   "cell_type": "code",
   "execution_count": 14,
   "id": "german-turkish",
   "metadata": {},
   "outputs": [],
   "source": [
    "df, anchors, zeropoint = align_data(df, colfreqs, minfreq)"
   ]
  },
  {
   "cell_type": "markdown",
   "id": "color-novel",
   "metadata": {},
   "source": [
    "## Drop extremes\n",
    "\n",
    "Note that the period returned by `get_period()` is a positive integer. The actual period of the data in units of time is `period * minfreq`. For training, want to drop outlier values. Implementation details are in the code, but the basic idea is we label every row in `df` as a value within `range(0, period)`. Then for each column and each such label value, we calculate the mean and standard deviation of all the rows with that label, and those rows with values that exceed 2 standard deviations from the mean for that label are set to null.\n",
    "\n",
    "### Example\n",
    "\n",
    "Dataframe (period is _3_, sampling frequency is _f_, v is just a placeholder):\n",
    "\n",
    "| time | value |\n",
    "| --- | --- |\n",
    "| _t_ | _v_ |\n",
    "| _t+f_ | _v_ |\n",
    "| t+2f | _v_ |\n",
    "| _t+3f_ | _v_ |\n",
    "| _t+4f_ | _v_ |\n",
    "| t+5f | _v_ |\n",
    "\n",
    "Dataframe with time index:\n",
    "\n",
    "| time | value | time_index |\n",
    "| --- | --- | --- |\n",
    "| _t_ | _v_ | 0 |\n",
    "| _t+f_ | _v_ | 1 |\n",
    "| t+2f | _v_ | 2 |\n",
    "| _t+3f_ | _v_ | 0 |\n",
    "| _t+4f_ | _v_ | 1 |\n",
    "| t+5f | _v_ | 2 |\n",
    "\n",
    "In the example above, when deciding whether to set _v_ to null for _t+f_, we would consider the mean and standard deviation for the rows _t+f_ and _t+4f_."
   ]
  },
  {
   "cell_type": "code",
   "execution_count": 15,
   "id": "mounted-humanitarian",
   "metadata": {},
   "outputs": [],
   "source": [
    "def drop_extremes(df, freq, period, ycols):  # [ANDY] confirmed ts has been aligned, no need to fill ts gaps in this func again\n",
    "    \"\"\"drop values beyond 2 standard deviations from the mean\"\"\"\n",
    "    # calculate the points where the gap is more than n_max_fill*interval\n",
    "    time_between_points = df.index.to_series().diff()\n",
    "    gaps = time_between_points[(time_between_points>=2*freq)]\n",
    "\n",
    "    index_all = df.index\n",
    "    for gidx, gap in gaps.iteritems():\n",
    "        gap_length = math.ceil(gap/freq)\n",
    "        padding = pd.date_range(end = gidx, periods = gap_length, freq = freq, closed = 'left')\n",
    "        index_all = index_all.append(padding)\n",
    "\n",
    "    index_all = index_all.sort_values()\n",
    "    df = df.reindex(index_all)  # [ANDY] df is already aligned in last step, why there are still ts gaps to be filled?\n",
    "\n",
    "    time_index = [i for i in range(0, period)]\n",
    "    data_time_index = np.array([i % period for i in range(0, len(df))])\n",
    "    data_time_index_series = pd.Series(index=index_all, data=data_time_index)\n",
    "\n",
    "    n_std = 2\n",
    "\n",
    "    for y in ycols:\n",
    "        for period_idx in time_index:\n",
    "            lbound = df[y][data_time_index_series==period_idx].mean()-n_std*df[y][data_time_index_series==period_idx].std()\n",
    "            ubound = df[y][data_time_index_series==period_idx].mean()+n_std*df[y][data_time_index_series==period_idx].std()\n",
    "        \n",
    "            sub_data = df[y][data_time_index_series==period_idx]\n",
    "            if (len(sub_data[(sub_data<lbound) | (sub_data>ubound)].index)>0):\n",
    "                df.loc[sub_data[(sub_data<lbound) | (sub_data>ubound)].index, y] = None\n",
    "    return df"
   ]
  },
  {
   "cell_type": "code",
   "execution_count": 16,
   "id": "extensive-flexibility",
   "metadata": {},
   "outputs": [],
   "source": [
    "df = drop_extremes(df, minfreq, period, ycols)"
   ]
  },
  {
   "cell_type": "markdown",
   "id": "assumed-architecture",
   "metadata": {},
   "source": [
    "## Normalisation parameters\n",
    "\n",
    "We did not previously normalise the data, but we noticed that columns with a larger range of values had a greater effect on anomaly scores, so we decided to make sure the values in every column fall between 0 and 1. Hence, we record the minimum and maximum values of the training data for each column. We reuse these mininum and maximum values when normalising future batches of data for scoring, because it is fine for scoring data to exceed these bounds so long as they are normalised with the same parameters.\n",
    "\n",
    "Here we also add a `time_index` column to the dataframe."
   ]
  },
  {
   "cell_type": "code",
   "execution_count": 17,
   "id": "biological-limitation",
   "metadata": {},
   "outputs": [],
   "source": [
    "# model normalisation params\n",
    "modnorms = {y:( df[y].min(), df[y].max() ) for y in ycols}\n",
    "df['time_index'] = [((t-zeropoint)//minfreq)%period for t in df.index]  # [ANDY] period is matched to minfreq? "
   ]
  },
  {
   "cell_type": "markdown",
   "id": "religious-accordance",
   "metadata": {},
   "source": [
    "## Get median profiles\n",
    "\n",
    "We calculate and store the median values for each column and time index. This information is used for filling gaps and also when scoring. This time index thing is calculated multiple times in different places. Sorry about that. -_-"
   ]
  },
  {
   "cell_type": "code",
   "execution_count": 18,
   "id": "dramatic-newsletter",
   "metadata": {},
   "outputs": [],
   "source": [
    "def get_median_profiles(df, ycols, period):  # [ANDY] get median profiles after dropping extreme values?\n",
    "    time_index = list(range(period))\n",
    "\n",
    "    median_profiles = pd.DataFrame(index=time_index)\n",
    "\n",
    "    for y in ycols:\n",
    "        median_profiles[y] = [df[df['time_index']==t][y].median() for t in time_index]\n",
    "\n",
    "    return median_profiles, time_index"
   ]
  },
  {
   "cell_type": "code",
   "execution_count": 19,
   "id": "planned-calculation",
   "metadata": {},
   "outputs": [],
   "source": [
    "median_profiles, time_index = get_median_profiles(df, ycols, period)"
   ]
  },
  {
   "cell_type": "markdown",
   "id": "christian-upgrade",
   "metadata": {},
   "source": [
    "## Fill gaps\n",
    "\n",
    "Since the input for the autoencoder has to be of fixed dimensions, we need to fill all the gaps in the data. We do this column by column. For small gaps, we do linear interpolation. For larger gaps, we use the median profiles."
   ]
  },
  {
   "cell_type": "code",
   "execution_count": 20,
   "id": "minor-exchange",
   "metadata": {},
   "outputs": [],
   "source": [
    "def fill_gaps(df, colfreqs, minfreq, period, median_profiles, zeropoint):\n",
    "    df = df.copy()\n",
    "\n",
    "    firstts = df.index[0]\n",
    "    lastts = df.index[-1]\n",
    "    for y, yfreq in colfreqs.items():\n",
    "        yfactor = yfreq//minfreq\n",
    "        yperiod = period//yfactor\n",
    "        ydf = df[[y]].dropna()  # [ANDY] df already aligned.. if don't dropna, df[[y]] is already alighed with correct ts, just need to fill value gaps instead of ts gaps\n",
    "        ydf, gaps = gap_reindex(ydf, yfreq, firstts, lastts)  # [ANDY] why still need to fill index(ts) gaps?\n",
    "        ydf['time_index'] = [((t-zeropoint)//minfreq)%period for t in ydf.index]\n",
    "        ydf = fill_gaps_col(ydf, y, gaps, yfreq, yperiod, median_profiles)\n",
    "        newindex = ydf.index.union(df.index).sort_values()  # [ANDY] redundant, index is already aligned\n",
    "        df = df.reindex(newindex)  # [ANDY] redundant, index is already aligned\n",
    "        df[y] = ydf[y]\n",
    "\n",
    "    df['time_index'] = [((t-zeropoint)//minfreq)%period for t in df.index]\n",
    "    return df\n",
    "\n",
    "def gap_reindex(df, freq, firstts, lastts):\n",
    "    # calculate the points where the gap is more than n_max_fill*freq\n",
    "    # these points don't want to interpolate\n",
    "    time_between_points = df.index.to_series().diff()\n",
    "\n",
    "    # if first timestamp for this column is not equal to first timestamp for all columns, we need to fill\n",
    "    yfirstts = df.index[0]\n",
    "    if yfirstts!=firstts:\n",
    "        time_between_points.at[yfirstts] = yfirstts - firstts + freq\n",
    "\n",
    "    # if last timestamp for this column is not equal to last timestamp for all columns, we need to fill\n",
    "    ylastts = df.index[-1]\n",
    "    if ylastts!=lastts:\n",
    "        time_between_points.at[lastts+freq] = lastts - ylastts + freq\n",
    "\n",
    "    gaps = time_between_points[(time_between_points>=2*freq)]\n",
    "\n",
    "    index_all = df.index\n",
    "    padded_indices = pd.date_range(end = min(index_all), periods = 0, freq = freq, closed = 'left')  # [ANDY] why this?\n",
    "    # create index positions for gaps\n",
    "    for gidx, gap in gaps.iteritems():\n",
    "        gap_length = math.ceil(gap/freq)\n",
    "        padding = pd.date_range(end = gidx, periods = gap_length, freq = freq, closed = 'left')\n",
    "        padded_indices = padded_indices.union(padding)  # [ANDY] why this?\n",
    "        index_all = index_all.append(padding)\n",
    "\n",
    "    index_all = index_all.sort_values()\n",
    "\n",
    "    df = df.reindex(index_all)\n",
    "    return df, gaps\n",
    "\n",
    "def fill_gaps_col(df, y, gaps, freq, period, median_profiles):\n",
    "    # interpolate large gaps using median values\n",
    "    max_miss_length = period//10\n",
    "    for gidx, gap in gaps.iteritems():\n",
    "        if (gap>max_miss_length*freq):\n",
    "            gap_length = math.ceil(gap/freq)\n",
    "            n_periods = 2\n",
    "            while (n_periods<=gap_length):\n",
    "                pre_index = pd.date_range(end = gidx, periods = n_periods, freq = freq, closed = 'left')\n",
    "                pre_index = pre_index[0]\n",
    "\n",
    "                df.loc[pre_index, y] = median_profiles.loc[df.loc[pre_index, \"time_index\"], y]\n",
    "\n",
    "                n_periods = n_periods+1\n",
    "\n",
    "    # small gaps interpolated linearly\n",
    "    return df.interpolate(method='linear', limit_direction=\"both\")"
   ]
  },
  {
   "cell_type": "code",
   "execution_count": 21,
   "id": "sexual-elephant",
   "metadata": {},
   "outputs": [],
   "source": [
    "df = fill_gaps(df, colfreqs, minfreq, period, median_profiles, zeropoint)"
   ]
  },
  {
   "cell_type": "markdown",
   "id": "exact-despite",
   "metadata": {},
   "source": [
    "## Model metadata\n",
    "\n",
    "This part is a bit of engineering detail. It is used for persisting some of the metadata required to create the model. Some names are weird because of the legacy of having to train multiple autoencoders previously."
   ]
  },
  {
   "cell_type": "code",
   "execution_count": 20,
   "id": "celtic-attempt",
   "metadata": {},
   "outputs": [],
   "source": [
    "t = time_index[-1]\n",
    "t_to_fname = {t: f\"model-params.h5\"}\n",
    "inputsize = sum(period//(freq//minfreq) for freq in colfreqs.values())\n",
    "modelmeta = {\"median_profiles\": median_profiles, \"input_size\":inputsize, \"t_to_fname\": t_to_fname, \"modnorms\": modnorms}\n",
    "modfname = t_to_fname[t]"
   ]
  },
  {
   "cell_type": "markdown",
   "id": "informed-google",
   "metadata": {},
   "source": [
    "## Get full periods of data for training"
   ]
  },
  {
   "cell_type": "code",
   "execution_count": 21,
   "id": "academic-mechanics",
   "metadata": {},
   "outputs": [],
   "source": [
    "# get times within df corresponding to t in period that can yield a full period of training data\n",
    "# i.e. time - period >= df.index[0]\n",
    "fullperiods = df.iloc[period:]  # [ANDY] why? should be period-1\n",
    "times = fullperiods[fullperiods['time_index']==t].index"
   ]
  },
  {
   "cell_type": "markdown",
   "id": "cross-yahoo",
   "metadata": {},
   "source": [
    "## Generate model input\n",
    "\n",
    "We use the same function to generate model inputs for both training and scoring.\n",
    "\n",
    "### Shifting the data\n",
    "\n",
    "Originally, we used to train `period` number of autoencoders for each set of data, because we thought we needed to remember `period` number of patterns. Basically, if the period is 3, then every point in the data is labelled [0, 1, 2, 0, 1, 2, ...]. Hence there are 3 different patterns we needed to remember. The one with all the windows of data from [0,1,2], the one with all the windows of data from [1,2,0], and the one with all the windows of data from [2,0,1]. Later, we realised that we were actually training a bunch of different models that remember the same pattern, just at different phases of the period. So we started to train only one model that remembered the pattern of data for the window from [0,1,2]. When we needed to score data for a [2,0,1] window, we just left shifted it by one position before sending it to the autoencoder. To see how we do this, see how `startpos` is calculated and used in the code below.\n",
    "\n",
    "### Normalise the data\n",
    "\n",
    "This is fairly straightforward.\n",
    "\n",
    "### Handling multiple columns\n",
    "\n",
    "To handle multiple columns with a single autoencoder, we just concatenate all the columns. As long as the relative positions of the columns are preserved and the input dataframe has already been aligned, we can always unpack the autoencoder output in the same way. The autoencoder has no concept of different columns in any case.\n",
    "\n",
    "### Differences between training and scoring\n",
    "\n",
    "We train the model with the data in `df` as is.\n",
    "\n",
    "For scoring, we pass in `median_values`, which is the `median_profiles` we calculated earlier. Supposing the period and therefore width of the input to the model is 100, we basically only pass the last 10 points of real data into the model and replace the rest of the window with the median values for each point in the period. Hence when we generate the anomaly scores for the window ending at point _t_, we are basically asking the model the following question.\n",
    "\n",
    "Given the assumption that points _t-99 - t-10_ are normal, what is the chance that _t-9 - t_ is abnormal?"
   ]
  },
  {
   "cell_type": "code",
   "execution_count": 22,
   "id": "internal-palmer",
   "metadata": {},
   "outputs": [],
   "source": [
    "def normdf(df, modnorms):\n",
    "    normed = df.copy()\n",
    "    for y, ( ymin, ymax ) in modnorms.items():\n",
    "        mmdiff = ymax - ymin\n",
    "        normed[y] = (normed[y]-ymin)/mmdiff\n",
    "    return normed\n",
    "\n",
    "def generate_model_input(df, ycols, times, period, modnorms, offset=None, median_values=None):\n",
    "    \"\"\"\n",
    "generate model input for windows ending at timestamps in the times arguments\n",
    "\n",
    "Assumptions:\n",
    "    1. times all have the same time index relative to period\n",
    "    2. sampling intervals for each column are regular\n",
    "    \"\"\"\n",
    "    offset = period-1 if offset is None else offset\n",
    "    window_size = 10\n",
    "    rows = []\n",
    "    for t in times:\n",
    "        idx = df.index.get_loc(t)+1\n",
    "        rowdf = df.iloc[idx-period:idx].copy()\n",
    "        if median_values is not None and window_size<period:\n",
    "            replaceidx = rowdf.iloc[:len(rowdf)-window_size].index\n",
    "            rowdf.loc[replaceidx, ycols] = median_values.loc[rowdf.loc[replaceidx, \"time_index\"], ycols].to_numpy()\n",
    "        # normalize training/scoring data\n",
    "        rowdf = normdf(rowdf, modnorms)\n",
    "        startpos = period-1-offset\n",
    "        rowdf = rowdf.iloc[startpos:].append(rowdf.iloc[:startpos])  # [ANDY] why?\n",
    "        row = np.concatenate([rowdf[y].dropna() for y in ycols])\n",
    "        rows.append(row)\n",
    "\n",
    "    collens = set(len(r) for r in rows)\n",
    "    if len(collens)!=1:\n",
    "        logging.error(f\"detected row lengths: {collens}\")\n",
    "        raise MisalignedColumnsError(\"unable to create input data because dimensions don't match\")\n",
    "\n",
    "    numcols = collens.pop()\n",
    "\n",
    "    return np.concatenate(rows).reshape(( -1, numcols ))"
   ]
  },
  {
   "cell_type": "code",
   "execution_count": 23,
   "id": "matched-links",
   "metadata": {},
   "outputs": [],
   "source": [
    "dat = generate_model_input(df, ycols, times, period, modnorms)"
   ]
  },
  {
   "cell_type": "markdown",
   "id": "environmental-reset",
   "metadata": {},
   "source": [
    "## Training the model\n",
    "\n",
    "I am assuming the person who reads this will be more familiar with this part than I am, so I am not going to say much here. It is a just a basic autoencoder."
   ]
  },
  {
   "cell_type": "code",
   "execution_count": 24,
   "id": "romance-conservative",
   "metadata": {},
   "outputs": [],
   "source": [
    "def train_model(data, weight_filename):\n",
    "    timelimit = 5400 # 1.5 hours\n",
    "    starttime = time.time()\n",
    "\n",
    "    not_overtime = lambda t: t-starttime<timelimit\n",
    "\n",
    "    logend_cb = LogEndCallback()\n",
    "    n_inputs = data.shape[1]\n",
    "\n",
    "    # we record 30 errors for averaging. if average of 30 errors is not decreasing,\n",
    "    # we stop training\n",
    "    ave_step = 30\n",
    "    past_err_store = np.array([0.0 for i in range(ave_step)])\n",
    "    nextpos = logend_cb.runs % ave_step\n",
    "    prev_average_err = None\n",
    "\n",
    "    model = construct_ae_model(n_inputs)\n",
    "    model = learn_ae_model(model, data, logend_cb)\n",
    "    \n",
    "    test_error = np.sum(np.square(data - model.predict(data)))\n",
    "    sumsquare = np.sum(np.square(data))\n",
    "\n",
    "    while (test_error/sumsquare>0.001) and not_overtime(time.time()):  # [ANDY] why 0.001? not consistent with the scale factor used in defining early stoppping baseline\n",
    "        nextpos = logend_cb.runs % ave_step\n",
    "        model = learn_ae_model(model, data, logend_cb)\n",
    "        \n",
    "        test_error = np.sum(np.square(data - model.predict(data)))\n",
    "        if logend_cb.runs % 10 == 0:\n",
    "            logging.info(f\"runs = {logend_cb.runs}, sumsquare = {sumsquare}, test_error = {test_error} for {weight_filename}.\")\n",
    "\n",
    "        past_err_store[nextpos] = test_error\n",
    "        if nextpos == ave_step-1:\n",
    "            average_err = past_err_store.mean()\n",
    "            if prev_average_err is not None and average_err>=prev_average_err: \n",
    "                logging.info(f\"stopping because previous average error {prev_average_err} is smaller than current average error {average_err}\")\n",
    "                break\n",
    "            if prev_average_err is not None:\n",
    "                logging.info(f\"training {weight_filename} errs: {past_err_store}\\naverage of old errors: {prev_average_err}. average of new errors: {average_err}\")\n",
    "            prev_average_err = average_err\n",
    "\n",
    "    logging.info(\"saving {}\".format(weight_filename))\n",
    "    model.save_weights(weight_filename)\n",
    "    K.clear_session()\n",
    "\n",
    "class LogEndCallback(Callback):\n",
    "    def __init__(self):\n",
    "        self.runs = 0\n",
    "\n",
    "    def on_train_end(self, logs=None):\n",
    "        self.runs += 1\n",
    "        \n",
    "class EarlyStoppingByLossVal(Callback):\n",
    "    def __init__(self, monitor='val_loss', value=0.00001, verbose=0):\n",
    "        super(Callback, self).__init__()\n",
    "        self.monitor = monitor\n",
    "        self.value = value\n",
    "        self.verbose = verbose\n",
    "\n",
    "    def on_epoch_end(self, epoch, logs={}):\n",
    "        current = logs.get(self.monitor)\n",
    "        if current is None:\n",
    "            warnings.warn(\"Early stopping requires %s available!\" % self.monitor, RuntimeWarning)\n",
    "\n",
    "        if current < self.value:\n",
    "            if self.verbose > 0:\n",
    "                logging.debug(\"Epoch %05d: early stopping THR\" % epoch)\n",
    "            self.model.stop_training = True\n",
    "\n",
    "def construct_ae_model(n_inputs):\n",
    "    n_units_1 = math.floor(n_inputs/2)#max(math.floor(n_inputs/4), 30)\n",
    "    n_units_2 = math.floor(n_units_1/2)#max(math.floor(n_units_1/4), 15)\n",
    "    # define model\n",
    "    ae_model = Sequential()\n",
    "    ae_model.add(Dense(n_units_1, activation='relu', input_shape=(n_inputs,)))\n",
    "    ae_model.add(Dense(n_units_2, activation='relu', input_shape=(n_units_1,)))\n",
    "    ae_model.add(Dense(n_units_1, activation='relu', input_shape=(n_units_2,)))\n",
    "    ae_model.add(Dense(n_inputs, activation='linear'))\n",
    "    ae_model.compile(optimizer='adam', loss='mse', metrics=['mse'])\n",
    "    \n",
    "    return ae_model\n",
    "\n",
    "def learn_ae_model(ae_model, data, logend_cb):\n",
    "    batch_size = 32\n",
    "    #mean_norm = np.mean(np.square(data.values.reshape(data.shape[0], -1)))\n",
    "    mean_norm = np.mean(np.square(data))\n",
    "    baseline = mean_norm/10000.0\n",
    "    logging.debug('baseline=' + str(baseline))\n",
    "    \n",
    "    # fit model\n",
    "    loss_cb = EarlyStoppingByLossVal(monitor='val_loss', value=baseline)\n",
    "    ae_model.fit(data, data, validation_data=(data, data), epochs=200, callbacks=[loss_cb, logend_cb], batch_size=batch_size, shuffle=True, verbose=0)\n",
    "    \n",
    "    return ae_model"
   ]
  },
  {
   "cell_type": "code",
   "execution_count": 25,
   "id": "welsh-train",
   "metadata": {},
   "outputs": [
    {
     "name": "stdout",
     "output_type": "stream",
     "text": [
      "WARNING:tensorflow:From /usr/local/lib/python3.7/site-packages/keras/backend/tensorflow_backend.py:66: The name tf.get_default_graph is deprecated. Please use tf.compat.v1.get_default_graph instead.\n",
      "\n",
      "WARNING:tensorflow:From /usr/local/lib/python3.7/site-packages/keras/backend/tensorflow_backend.py:541: The name tf.placeholder is deprecated. Please use tf.compat.v1.placeholder instead.\n",
      "\n",
      "WARNING:tensorflow:From /usr/local/lib/python3.7/site-packages/keras/backend/tensorflow_backend.py:4432: The name tf.random_uniform is deprecated. Please use tf.random.uniform instead.\n",
      "\n",
      "WARNING:tensorflow:From /usr/local/lib/python3.7/site-packages/keras/optimizers.py:793: The name tf.train.Optimizer is deprecated. Please use tf.compat.v1.train.Optimizer instead.\n",
      "\n",
      "WARNING:tensorflow:From /usr/local/lib/python3.7/site-packages/keras/backend/tensorflow_backend.py:1033: The name tf.assign_add is deprecated. Please use tf.compat.v1.assign_add instead.\n",
      "\n"
     ]
    },
    {
     "name": "stderr",
     "output_type": "stream",
     "text": [
      "WARNING:tensorflow:From /usr/local/lib/python3.7/site-packages/keras/backend/tensorflow_backend.py:1033: The name tf.assign_add is deprecated. Please use tf.compat.v1.assign_add instead.\n",
      "\n"
     ]
    },
    {
     "name": "stdout",
     "output_type": "stream",
     "text": [
      "WARNING:tensorflow:From /usr/local/lib/python3.7/site-packages/keras/backend/tensorflow_backend.py:1020: The name tf.assign is deprecated. Please use tf.compat.v1.assign instead.\n",
      "\n"
     ]
    },
    {
     "name": "stderr",
     "output_type": "stream",
     "text": [
      "WARNING:tensorflow:From /usr/local/lib/python3.7/site-packages/keras/backend/tensorflow_backend.py:1020: The name tf.assign is deprecated. Please use tf.compat.v1.assign instead.\n",
      "\n",
      "INFO:root:saving model-params.h5\n"
     ]
    }
   ],
   "source": [
    "train_model(dat, modfname)"
   ]
  },
  {
   "cell_type": "markdown",
   "id": "offshore-australia",
   "metadata": {},
   "source": [
    "## Ingest and preprocess data for scoring\n",
    "\n",
    "A lot of this is similar to preparing the training data, the main differences are that\n",
    "\n",
    "1. We do not remove outliers.\n",
    "2. We need to leftpad the data with the median_profiles so that we can generate scores for the first time point in the actual data.\n",
    "\n",
    "Note that some of the following cells overwrite existing variable names, so rerunning preceding cells will yield inconsistent results.\n",
    "\n",
    "To score other files, simply change the value of `scorefname` below."
   ]
  },
  {
   "cell_type": "code",
   "execution_count": 26,
   "id": "minor-whale",
   "metadata": {},
   "outputs": [],
   "source": [
    "def leftpad(df, ycols, minfreq, period, profile):\n",
    "    \"\"\"leftpads dataframe by period-1 points with median values for each column\"\"\"\n",
    "    df = df.copy()\n",
    "\n",
    "    firstindex = df['time_index'][0]\n",
    "    leftpad_index = [i%period for i in range(firstindex - (period - 1), firstindex)]\n",
    "    dat = {y:[profile.loc[i][y] for i in leftpad_index] for y in ycols}\n",
    "    dat['time_index'] = leftpad_index\n",
    "    leftdf = pd.DataFrame(\n",
    "        data = dat,\n",
    "        index = pd.date_range(end=df.index[0], periods=period, freq=minfreq, closed='left'))\n",
    "    df = leftdf.append(df)\n",
    "\n",
    "    return df"
   ]
  },
  {
   "cell_type": "code",
   "execution_count": 27,
   "id": "removable-bonus",
   "metadata": {},
   "outputs": [],
   "source": [
    "scorefname = fname # substitute to score different data\n",
    "df = ingest(scorefname, datecol, ycols)\n",
    "df, _, _ = ae_preproc(df, ycols)\n",
    "original_data = df.copy() # saved because we might need it later\n",
    "\n",
    "aligned, _, _ = align_data(original_data, colfreqs, minfreq, anchors, zeropoint)\n",
    "aligned['time_index'] = [((t-zeropoint)//minfreq)%period for t in aligned.index]\n",
    "df = leftpad(aligned, ycols, minfreq, period, median_profiles)\n",
    "df = fill_gaps(df, colfreqs, minfreq, period, median_profiles, zeropoint)\n",
    "test_seq = aligned.copy()\n",
    "nona = test_seq.dropna(how=\"all\")"
   ]
  },
  {
   "cell_type": "markdown",
   "id": "funky-baltimore",
   "metadata": {},
   "source": [
    "## Load model for scoring"
   ]
  },
  {
   "cell_type": "code",
   "execution_count": 28,
   "id": "polar-agenda",
   "metadata": {},
   "outputs": [],
   "source": [
    "model = construct_ae_model(modelmeta['input_size'])\n",
    "model.load_weights(modfname)"
   ]
  },
  {
   "cell_type": "markdown",
   "id": "operational-vermont",
   "metadata": {},
   "source": [
    "## Actual scoring\n",
    "\n",
    "Here we score the data in batches. Each batch is all the windows from one phase in the period."
   ]
  },
  {
   "cell_type": "code",
   "execution_count": 29,
   "id": "assisted-debut",
   "metadata": {},
   "outputs": [
    {
     "name": "stderr",
     "output_type": "stream",
     "text": [
      "INFO:root:finished scoring window 0\n",
      "INFO:root:finished scoring window 1\n",
      "INFO:root:finished scoring window 2\n",
      "INFO:root:finished scoring window 3\n",
      "INFO:root:finished scoring window 4\n",
      "INFO:root:finished scoring window 5\n",
      "INFO:root:finished scoring window 6\n",
      "INFO:root:finished scoring window 7\n",
      "INFO:root:finished scoring window 8\n",
      "INFO:root:finished scoring window 9\n",
      "INFO:root:finished scoring window 10\n",
      "INFO:root:finished scoring window 11\n",
      "INFO:root:finished scoring window 12\n",
      "INFO:root:finished scoring window 13\n",
      "INFO:root:finished scoring window 14\n",
      "INFO:root:finished scoring window 15\n",
      "INFO:root:finished scoring window 16\n",
      "INFO:root:finished scoring window 17\n",
      "INFO:root:finished scoring window 18\n",
      "INFO:root:finished scoring window 19\n",
      "INFO:root:finished scoring window 20\n",
      "INFO:root:finished scoring window 21\n",
      "INFO:root:finished scoring window 22\n",
      "INFO:root:finished scoring window 23\n",
      "INFO:root:finished scoring window 24\n",
      "INFO:root:finished scoring window 25\n",
      "INFO:root:finished scoring window 26\n",
      "INFO:root:finished scoring window 27\n",
      "INFO:root:finished scoring window 28\n",
      "INFO:root:finished scoring window 29\n",
      "INFO:root:finished scoring window 30\n",
      "INFO:root:finished scoring window 31\n",
      "INFO:root:finished scoring window 32\n",
      "INFO:root:finished scoring window 33\n",
      "INFO:root:finished scoring window 34\n",
      "INFO:root:finished scoring window 35\n",
      "INFO:root:finished scoring window 36\n",
      "INFO:root:finished scoring window 37\n",
      "INFO:root:finished scoring window 38\n",
      "INFO:root:finished scoring window 39\n",
      "INFO:root:finished scoring window 40\n",
      "INFO:root:finished scoring window 41\n",
      "INFO:root:finished scoring window 42\n",
      "INFO:root:finished scoring window 43\n",
      "INFO:root:finished scoring window 44\n",
      "INFO:root:finished scoring window 45\n",
      "INFO:root:finished scoring window 46\n",
      "INFO:root:finished scoring window 47\n"
     ]
    },
    {
     "data": {
      "text/plain": [
       "<matplotlib.axes._subplots.AxesSubplot at 0x7f48c5bd5a50>"
      ]
     },
     "execution_count": 29,
     "metadata": {},
     "output_type": "execute_result"
    },
    {
     "data": {
      "image/png": "[encoded data removed]",
      "text/plain": [
       "<Figure size 1152x576 with 1 Axes>"
      ]
     },
     "metadata": {
      "needs_background": "light"
     },
     "output_type": "display_data"
    }
   ],
   "source": [
    "for t in time_index:\n",
    "    times = nona[nona['time_index']==t].index\n",
    "    signals = generate_model_input(df, ycols, times, period, modnorms, offset=t, median_values=median_profiles)\n",
    "    preds = model.predict(signals.reshape([signals.shape[0], -1]))\n",
    "    errors = np.sum(np.square(signals-preds), axis=1)\n",
    "    test_seq.loc[times, 'score'] = errors\n",
    "    logging.info(f\"finished scoring window {t}\")\n",
    "\n",
    "K.clear_session()\n",
    "\n",
    "test_seq[['score']].plot(figsize=[16,8])"
   ]
  },
  {
   "cell_type": "markdown",
   "id": "pleased-drill",
   "metadata": {},
   "source": [
    "## Zoomed in views\n",
    "\n",
    "This has nothing to do with modelling, really. In actual deployment, we allow the users to pick a point _t_ in time and look at the actual data and the values reconstructed by the autoencoder so that they can decide whether or not it was an anomaly. There are two parts to this.\n",
    "\n",
    "1. Run the model on the window of 1 period ending at _t_ to generate the outputs. This is mostly the same process as in scoring.\n",
    "2. Reconstruct the autoencoder output (basically a vector) into the columns. This is the reverse process of `generate_model_input()`.\n",
    "\n",
    "To generate views for different csvs and times, just change `zoomfname` and `ts` below."
   ]
  },
  {
   "cell_type": "code",
   "execution_count": 30,
   "id": "bacterial-trout",
   "metadata": {},
   "outputs": [],
   "source": [
    "def denormdf(normed, modnorms):\n",
    "    df = normed.copy()\n",
    "    for y, ( ymin, ymax ) in modnorms.items():\n",
    "        mmdiff = ymax - ymin\n",
    "        df[y] = df[y]*mmdiff + ymin\n",
    "    return df\n",
    "\n",
    "def unpack_pred_row(df, ycols, t, period, preds, offset):\n",
    "    \"\"\"\n",
    "unpacks the predicted values numpy array into their respective columns\n",
    "\n",
    "these values are placed in their proper rows in df as \"{y}_pred\"\n",
    "    \"\"\"\n",
    "    idx = df.index.get_loc(t)+1\n",
    "    rowdf = df.iloc[idx-period:idx].copy()\n",
    "    original = rowdf.copy()\n",
    "    startidx = 0\n",
    "    for y in ycols:\n",
    "        ynona = rowdf[[y]].dropna()\n",
    "        ylen = len(ynona)\n",
    "        ypreds = preds[startidx:startidx+ylen]\n",
    "        rowdf.loc[ynona.index, f'{y}_preds'] = ypreds\n",
    "        startidx = startidx + ylen\n",
    "    startpos = 1+offset\n",
    "    rowdf = rowdf.iloc[startpos:].append(rowdf.iloc[:startpos])\n",
    "    rowdf = rowdf.reset_index(drop=True).set_index(original.index)\n",
    "    for y in ycols:\n",
    "        rowdf[y] = original[y]\n",
    "    return rowdf"
   ]
  },
  {
   "cell_type": "code",
   "execution_count": 31,
   "id": "dynamic-choir",
   "metadata": {},
   "outputs": [],
   "source": [
    "zoomfname = fname\n",
    "ts = \"2019-10-28T15:30\"\n",
    "\n",
    "\n",
    "df = ingest(zoomfname, datecol, ycols)\n",
    "df, _, _ = ae_preproc(df, ycols)\n",
    "original_data = df.copy() # saved because we might need it later\n",
    "\n",
    "\n",
    "aligned, _, _ = align_data(original_data, colfreqs, minfreq, anchors, zeropoint)\n",
    "aligned['time_index'] = [((t-zeropoint)//minfreq)%period for t in aligned.index]\n",
    "df = leftpad(aligned, ycols, minfreq, period, median_profiles)\n",
    "df = fill_gaps(df, colfreqs, minfreq, period, median_profiles, zeropoint)\n",
    "\n",
    "\n",
    "model = construct_ae_model(modelmeta['input_size'])\n",
    "model.load_weights(modfname)"
   ]
  },
  {
   "cell_type": "code",
   "execution_count": 32,
   "id": "leading-authority",
   "metadata": {},
   "outputs": [],
   "source": [
    "idx = pd.Timestamp(ts)\n",
    "modt = time_index[-1]\n",
    "t = df.loc[idx, 'time_index']\n",
    "\n",
    "prednorms = {f\"{y}_preds\": modnorms[y] for y in modnorms}\n",
    "vals = generate_model_input(df, ycols, [idx], period, modnorms, offset=t, median_values=median_profiles)\n",
    "preds = model.predict(vals)\n",
    "rowdf = unpack_pred_row(df, ycols, idx, period, preds[0], t)\n",
    "# denormalize data\n",
    "rowdf = denormdf(rowdf, prednorms)\n",
    "K.clear_session()"
   ]
  },
  {
   "cell_type": "code",
   "execution_count": 33,
   "id": "harmful-modeling",
   "metadata": {},
   "outputs": [
    {
     "data": {
      "image/png": "[encoded data removed]",
      "text/plain": [
       "<Figure size 1152x576 with 1 Axes>"
      ]
     },
     "metadata": {
      "needs_background": "light"
     },
     "output_type": "display_data"
    }
   ],
   "source": [
    "for y in ycols:\n",
    "    rowdf[[y, f\"{y}_preds\"]].plot(figsize=[16,8])"
   ]
  },
  {
   "cell_type": "code",
   "execution_count": null,
   "id": "antique-mounting",
   "metadata": {},
   "outputs": [],
   "source": []
  }
 ],
 "metadata": {
  "kernelspec": {
   "display_name": "Python 3",
   "language": "python",
   "name": "python3"
  },
  "language_info": {
   "codemirror_mode": {
    "name": "ipython",
    "version": 3
   },
   "file_extension": ".py",
   "mimetype": "text/x-python",
   "name": "python",
   "nbconvert_exporter": "python",
   "pygments_lexer": "ipython3",
   "version": "3.7.4"
  }
 },
 "nbformat": 4,
 "nbformat_minor": 5
}
