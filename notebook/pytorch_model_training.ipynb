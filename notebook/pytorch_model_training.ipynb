{
 "cells": [
  {
   "cell_type": "markdown",
   "id": "58acdebd",
   "metadata": {},
   "source": [
    "## Training Autoencoder model using PyTorch ##"
   ]
  },
  {
   "cell_type": "code",
   "execution_count": 1,
   "id": "e82dd4f2",
   "metadata": {
    "tags": []
   },
   "outputs": [],
   "source": [
    "import time\n",
    "import random\n",
    "import math\n",
    "import logging\n",
    "import numpy as np\n",
    "import pandas as pd\n",
    "\n",
    "import torch\n",
    "from torch import nn, optim\n",
    "from torch.utils.data import DataLoader, Dataset\n",
    "from torch.autograd import Variable\n",
    "from torchvision import transforms, datasets, models\n",
    "from torch.utils.tensorboard import SummaryWriter\n",
    "from torch.utils.data.dataset import random_split"
   ]
  },
  {
   "cell_type": "markdown",
   "id": "11c3387e",
   "metadata": {},
   "source": [
    "### Data pre-processing pipeline ###"
   ]
  },
  {
   "cell_type": "code",
   "execution_count": 2,
   "id": "d9947316",
   "metadata": {},
   "outputs": [],
   "source": [
    "fname = \"data/gt-weekly.zip\"\n",
    "dscol = 'time'\n",
    "ycols = ['i1','i2','i3','i4','i5','i6','i7','i8','i9','i10']"
   ]
  },
  {
   "cell_type": "code",
   "execution_count": 3,
   "id": "75fe0116",
   "metadata": {},
   "outputs": [
    {
     "name": "stderr",
     "output_type": "stream",
     "text": [
      "Using TensorFlow backend.\n",
      "/Users/preh0405/opt/anaconda3/envs/chrono/lib/python3.7/site-packages/tensorflow/python/framework/dtypes.py:516: FutureWarning: Passing (type, 1) or '1type' as a synonym of type is deprecated; in a future version of numpy, it will be understood as (type, (1,)) / '(1,)type'.\n",
      "  _np_qint8 = np.dtype([(\"qint8\", np.int8, 1)])\n",
      "/Users/preh0405/opt/anaconda3/envs/chrono/lib/python3.7/site-packages/tensorflow/python/framework/dtypes.py:517: FutureWarning: Passing (type, 1) or '1type' as a synonym of type is deprecated; in a future version of numpy, it will be understood as (type, (1,)) / '(1,)type'.\n",
      "  _np_quint8 = np.dtype([(\"quint8\", np.uint8, 1)])\n",
      "/Users/preh0405/opt/anaconda3/envs/chrono/lib/python3.7/site-packages/tensorflow/python/framework/dtypes.py:518: FutureWarning: Passing (type, 1) or '1type' as a synonym of type is deprecated; in a future version of numpy, it will be understood as (type, (1,)) / '(1,)type'.\n",
      "  _np_qint16 = np.dtype([(\"qint16\", np.int16, 1)])\n",
      "/Users/preh0405/opt/anaconda3/envs/chrono/lib/python3.7/site-packages/tensorflow/python/framework/dtypes.py:519: FutureWarning: Passing (type, 1) or '1type' as a synonym of type is deprecated; in a future version of numpy, it will be understood as (type, (1,)) / '(1,)type'.\n",
      "  _np_quint16 = np.dtype([(\"quint16\", np.uint16, 1)])\n",
      "/Users/preh0405/opt/anaconda3/envs/chrono/lib/python3.7/site-packages/tensorflow/python/framework/dtypes.py:520: FutureWarning: Passing (type, 1) or '1type' as a synonym of type is deprecated; in a future version of numpy, it will be understood as (type, (1,)) / '(1,)type'.\n",
      "  _np_qint32 = np.dtype([(\"qint32\", np.int32, 1)])\n",
      "/Users/preh0405/opt/anaconda3/envs/chrono/lib/python3.7/site-packages/tensorflow/python/framework/dtypes.py:525: FutureWarning: Passing (type, 1) or '1type' as a synonym of type is deprecated; in a future version of numpy, it will be understood as (type, (1,)) / '(1,)type'.\n",
      "  np_resource = np.dtype([(\"resource\", np.ubyte, 1)])\n"
     ]
    },
    {
     "name": "stdout",
     "output_type": "stream",
     "text": [
      "/Users/preh0405/Desktop/chrono+/notebook\n"
     ]
    },
    {
     "data": {
      "application/vnd.jupyter.widget-view+json": {
       "model_id": "d39732d1a81d493e959a615f30bb69c1",
       "version_major": 2,
       "version_minor": 0
      },
      "text/plain": [
       "Finding frequency:   0%|          | 0/2 [00:00<?, ?it/s]"
      ]
     },
     "metadata": {},
     "output_type": "display_data"
    },
    {
     "name": "stdout",
     "output_type": "stream",
     "text": [
      "(25200, 10)\n",
      "(10080, 10)\n",
      "dict_keys(['ycols', 'dscol', 'weekdays', 'weekends', 'orient'])\n",
      "dict_keys(['minfreq', 'colfreqs'])\n",
      "dict_keys(['minfreq', 'colfreqs'])\n"
     ]
    },
    {
     "data": {
      "application/vnd.jupyter.widget-view+json": {
       "model_id": "9bcbac85c8044e60a6e61742e1b01702",
       "version_major": 2,
       "version_minor": 0
      },
      "text/plain": [
       "Detecting Period:   0%|          | 0/2 [00:00<?, ?it/s]"
      ]
     },
     "metadata": {},
     "output_type": "display_data"
    },
    {
     "name": "stderr",
     "output_type": "stream",
     "text": [
      "/Users/preh0405/opt/anaconda3/envs/chrono/lib/python3.7/site-packages/statsmodels/tsa/stattools.py:541: FutureWarning: fft=True will become the default in a future version of statsmodels. To suppress this warning, explicitly set fft=False.\n",
      "  warnings.warn(msg, FutureWarning)\n"
     ]
    },
    {
     "name": "stdout",
     "output_type": "stream",
     "text": [
      "(25200, 10)\n",
      "(10080, 10)\n",
      "dict_keys(['ycols', 'dscol', 'weekdays', 'weekends', 'orient'])\n",
      "dict_keys(['minfreq', 'colfreqs', 'period'])\n",
      "dict_keys(['minfreq', 'colfreqs', 'period'])\n"
     ]
    },
    {
     "data": {
      "application/vnd.jupyter.widget-view+json": {
       "model_id": "6aee8710ae1c4a0ab7eaeea32be74681",
       "version_major": 2,
       "version_minor": 0
      },
      "text/plain": [
       "Aligning data:   0%|          | 0/2 [00:00<?, ?it/s]"
      ]
     },
     "metadata": {},
     "output_type": "display_data"
    },
    {
     "name": "stdout",
     "output_type": "stream",
     "text": [
      "(35279, 10)\n",
      "(31679, 10)\n",
      "dict_keys(['ycols', 'dscol', 'weekdays', 'weekends', 'orient'])\n",
      "dict_keys(['minfreq', 'colfreqs', 'period', 'anchors', 'zeropoint'])\n",
      "dict_keys(['minfreq', 'colfreqs', 'period', 'anchors', 'zeropoint'])\n"
     ]
    },
    {
     "data": {
      "application/vnd.jupyter.widget-view+json": {
       "model_id": "cd7d1bc1431442898505aeadd430c4bd",
       "version_major": 2,
       "version_minor": 0
      },
      "text/plain": [
       "Dropping Extrema:   0%|          | 0/2 [00:00<?, ?it/s]"
      ]
     },
     "metadata": {},
     "output_type": "display_data"
    },
    {
     "name": "stdout",
     "output_type": "stream",
     "text": [
      "(35279, 10)\n",
      "(31679, 10)\n",
      "dict_keys(['ycols', 'dscol', 'weekdays', 'weekends', 'orient'])\n",
      "dict_keys(['minfreq', 'colfreqs', 'period', 'anchors', 'zeropoint'])\n",
      "dict_keys(['minfreq', 'colfreqs', 'period', 'anchors', 'zeropoint'])\n"
     ]
    },
    {
     "data": {
      "application/vnd.jupyter.widget-view+json": {
       "model_id": "a55cf18fd5ab469e9efffde8c63ea0f7",
       "version_major": 2,
       "version_minor": 0
      },
      "text/plain": [
       "Normalising:   0%|          | 0/2 [00:00<?, ?it/s]"
      ]
     },
     "metadata": {},
     "output_type": "display_data"
    },
    {
     "name": "stdout",
     "output_type": "stream",
     "text": [
      "(35279, 11)\n",
      "(31679, 11)\n",
      "dict_keys(['ycols', 'dscol', 'weekdays', 'weekends', 'orient'])\n",
      "dict_keys(['minfreq', 'colfreqs', 'period', 'anchors', 'zeropoint', 'modnorms'])\n",
      "dict_keys(['minfreq', 'colfreqs', 'period', 'anchors', 'zeropoint', 'modnorms'])\n"
     ]
    },
    {
     "data": {
      "application/vnd.jupyter.widget-view+json": {
       "model_id": "bc63ae98dc5e46deae71c511ec4a13d7",
       "version_major": 2,
       "version_minor": 0
      },
      "text/plain": [
       "Filling gap:   0%|          | 0/2 [00:00<?, ?it/s]"
      ]
     },
     "metadata": {},
     "output_type": "display_data"
    },
    {
     "name": "stdout",
     "output_type": "stream",
     "text": [
      "ok10\n",
      "ok20\n",
      "ok11\n",
      "ok21\n",
      "(35279, 11)\n",
      "(31679, 11)\n",
      "dict_keys(['ycols', 'dscol', 'weekdays', 'weekends', 'orient'])\n",
      "dict_keys(['minfreq', 'colfreqs', 'period', 'anchors', 'zeropoint', 'modnorms', 'profile', 'time_index'])\n",
      "dict_keys(['minfreq', 'colfreqs', 'period', 'anchors', 'zeropoint', 'modnorms', 'profile', 'time_index'])\n",
      "(35279, 11)\n",
      "(31679, 11)\n",
      "dict_keys(['ycols', 'dscol', 'weekdays', 'weekends', 'orient'])\n",
      "dict_keys(['minfreq', 'colfreqs', 'period', 'anchors', 'zeropoint', 'modnorms', 'profile', 'time_index'])\n",
      "dict_keys(['minfreq', 'colfreqs', 'period', 'anchors', 'zeropoint', 'modnorms', 'profile', 'time_index'])\n"
     ]
    },
    {
     "data": {
      "application/vnd.jupyter.widget-view+json": {
       "model_id": "5896c1a0f6a143189ede366cb15d0256",
       "version_major": 2,
       "version_minor": 0
      },
      "text/plain": [
       "Generating Input:   0%|          | 0/2 [00:00<?, ?it/s]"
      ]
     },
     "metadata": {},
     "output_type": "display_data"
    }
   ],
   "source": [
    "from preprocessing.preprocessor import LoadData, FindFrequency, PeriodDetect, AlignData, DropExtrema, Normalizer, FillGap, GenerateInput\n",
    "from pipeline import Pipeline\n",
    "\n",
    "test_task_list = [\n",
    "    LoadData(fname, dscol, ycols),\n",
    "    FindFrequency(),\n",
    "    PeriodDetect(),\n",
    "    AlignData(),\n",
    "    DropExtrema(),\n",
    "    Normalizer(),\n",
    "    FillGap(),\n",
    "    GenerateInput()\n",
    "]\n",
    "test_pipeline = Pipeline()\n",
    "dats, params = test_pipeline.transform(test_task_list)\n",
    "dat_weekdays = dats[0]\n",
    "dat_weekends = dats[1]"
   ]
  },
  {
   "cell_type": "code",
   "execution_count": 4,
   "id": "00808487",
   "metadata": {},
   "outputs": [],
   "source": [
    "#AE structure\n",
    "class AutoEncoder(nn.Module):\n",
    "    def __init__(self, first_layer, layer_1, layer_2):\n",
    "        super(AutoEncoder, self).__init__()\n",
    "\n",
    "        self.encoder = nn.Sequential(\n",
    "            nn.Linear(first_layer, layer_1),\n",
    "            nn.ReLU(),\n",
    "            \n",
    "            nn.Linear(layer_1,layer_2),\n",
    "            nn.ReLU()\n",
    "        )\n",
    "        self.decoder = nn.Sequential(\n",
    "            nn.Linear(layer_2, layer_1),\n",
    "            nn.ReLU(),\n",
    "            \n",
    "            nn.Linear(layer_1, first_layer)            \n",
    "        )\n",
    "\n",
    "    def forward(self, x):\n",
    "        \n",
    "        x_encoder = self.encoder(x)\n",
    "        x_decoder = self.decoder(x_encoder)\n",
    "\n",
    "        return x_encoder,x_decoder\n",
    "    \n",
    "#custom dataset\n",
    "class ChronosDataset(Dataset):\n",
    "    def __init__(self,dat):\n",
    "        self.dat = dat\n",
    "        \n",
    "    def __len__(self):\n",
    "        return len(self.dat)\n",
    "    \n",
    "    def __getitem__(self,idx):\n",
    "        return self.dat[idx]\n",
    "\n",
    "#Trainning function\n",
    "def _fit(ae, train_loader, val_loader, epochs, batch_size, tolerence, optimizer, lr, scheduler, loss_f, writer):\n",
    "    best_loss = 0.0\n",
    "    #patience_level = 0\n",
    "#     timelimit = 600 # 10 mins maximum for each tolerence level\n",
    "#     starttime = time.time()\n",
    "\n",
    "#     not_overtime = lambda t: t-starttime<timelimit\n",
    " \n",
    "#     epoch = 0\n",
    "#     while not_overtime(time.time()):\n",
    "    for epoch in range(epochs):\n",
    "        average_loss = 0.0\n",
    "        for batchidx, x in enumerate(train_loader):\n",
    "            x = Variable(x.float())\n",
    "            _x_encoded, _x_decoded = ae(x.float())\n",
    "            loss = loss_f(_x_decoded,x)\n",
    "            writer.add_scalar(f'loss/loss_{tolerence}_{epochs}_{lr}',loss, epoch * batch_size + batchidx)\n",
    "            average_loss += loss.item()\n",
    "            optimizer.zero_grad()\n",
    "            loss.backward()\n",
    "            optimizer.step()\n",
    "        average_loss = average_loss / batch_size\n",
    "        \n",
    "        #Validation\n",
    "        with torch.no_grad():\n",
    "            current_loss = 0.0\n",
    "            for batchidx, x in enumerate(val_loader):\n",
    "                ae.eval()\n",
    "                _x_encoded, _x_decoded = ae(x.float())\n",
    "                val_loss = loss_f(_x_decoded,x)\n",
    "                current_loss += val_loss.item()\n",
    "                writer.add_scalar(f'val_loss/val_loss_{tolerence}_{epochs}_{lr}',val_loss, epoch * batch_size + batchidx)\n",
    "            current_loss = current_loss / batch_size\n",
    "#             if epoch == 0:\n",
    "#                 best_loss = current_loss        \n",
    "#             elif current_loss < best_loss:\n",
    "#                 patience_level = 0\n",
    "#                 best_model = ae\n",
    "#                 best_loss = current_loss\n",
    "#             else:\n",
    "#                 patience_level += 1\n",
    "        \n",
    "        if epoch % 10000 == 0:\n",
    "            print(f'epoch number:{epoch} train_loss: {average_loss} val_loss: {current_loss}')\n",
    "        scheduler.step(average_loss)\n",
    "         \n",
    "        # Early Stopping: Measure how much greater is current validation loss to best validation loss so far\n",
    "        # (in percentage), if greater than tolerence than stop.\n",
    "        # method comes from Early Stopping – But When? by Lutz Prechelt\n",
    "        if epoch == 0:\n",
    "            best_loss = current_loss \n",
    "        elif epoch > 0:\n",
    "            generalization_loss = 100 * ((current_loss / best_loss) - 1)\n",
    "            if generalization_loss > tolerence:\n",
    "                logging.info(f\"Early stopping is triggered because {generalization_loss}, current best loss: {best_loss}\")\n",
    "                break\n",
    "            \n",
    "        if current_loss < best_loss:\n",
    "            best_loss = current_loss\n",
    "        \n",
    "        #commented because following code is used for another method of early stopping\n",
    "#         if patience_level >= tolerence:\n",
    "#             logging.info(f\"Early stopping is triggered because {patience_level}, current best loss: {best_loss}\")\n",
    "#             break\n",
    "            \n",
    "        #epoch += 1\n",
    "#     torch.save({'epoch': epoch, 'state_dict': best_model.state_dict(), 'best_loss': best_loss,\n",
    "#                             'optimizer': optimizer.state_dict()},\n",
    "#                            f'temperary_model/temp_model_{tolerence}.pth.tar') \n",
    "    logging.info(f\"Training finished, epoch runned: {epoch}, current best loss: {best_loss}\")\n",
    "    return ae, best_loss, epoch\n",
    "\n",
    "# def load_checkpoint(model, checkpoint_PATH, optimizer):\n",
    "#     if checkpoint != None:\n",
    "#         model_CKPT = torch.load(checkpoint_PATH)\n",
    "#         model.load_state_dict(model_CKPT['state_dict'])\n",
    "#         print('loading checkpoint!')\n",
    "#         optimizer.load_state_dict(model_CKPT['optimizer'])\n",
    "#     return model, optimizer"
   ]
  },
  {
   "cell_type": "code",
   "execution_count": 5,
   "id": "b448991d",
   "metadata": {},
   "outputs": [],
   "source": [
    "def train_model(dat, batch_size, lr, epochs, tolerence, filename):\n",
    "    from tqdm.notebook import trange, tqdm\n",
    "    #trainning process\n",
    "\n",
    "    #prepare data\n",
    "    train_len = int(len(dat) * 0.8)\n",
    "    val_len = len(dat) - train_len\n",
    "    train_dat, val_dat = random_split(dat, [train_len, val_len])\n",
    "    writer = SummaryWriter()\n",
    "    train_loader = DataLoader(ChronosDataset(train_dat), batch_size, True)\n",
    "    val_loader = DataLoader(ChronosDataset(val_dat), batch_size, True)\n",
    "    first_layer = dat.shape[1]\n",
    "    layer_1 = max(math.floor(first_layer/4),30) #max(math.floor(n_inputs/4), 30)\n",
    "    layer_2 = max(math.floor(layer_1/4),15) #max(math.floor(n_units_1/4), 15)\n",
    "    ae = AutoEncoder(first_layer, layer_1, layer_2)\n",
    "    optimizer = torch.optim.Adam(ae.parameters(), lr=lr)\n",
    "    scheduler = torch.optim.lr_scheduler.ReduceLROnPlateau(optimizer,factor=0.5, patience=125, verbose=True)\n",
    "    loss_f = nn.MSELoss()\n",
    "\n",
    "    ae, best_loss, epoch = _fit(ae, train_loader, val_loader, epochs, batch_size, tolerence, optimizer, lr, scheduler, loss_f, writer)\n",
    "    \n",
    "    try:\n",
    "        torch.save(ae,filename)\n",
    "    except:\n",
    "        raise ValueError(f'Could not save ae model into {filename}.')\n",
    "\n",
    "    return ae"
   ]
  },
  {
   "cell_type": "code",
   "execution_count": 6,
   "id": "b3220a72",
   "metadata": {},
   "outputs": [
    {
     "name": "stdout",
     "output_type": "stream",
     "text": [
      "epoch number:0 train_loss: 0.029261596500873566 val_loss: 0.014529283294718653\n",
      "epoch number:0 train_loss: 0.0326013769954443 val_loss: 0.016146266503290783\n"
     ]
    }
   ],
   "source": [
    "filename = f\"saved_models/pytorch_model_weekdays\"\n",
    "ae_weekdays = train_model(dat_weekdays, 32, 1e-05, 1000, 4, filename)\n",
    "filename = f\"saved_models/pytorch_model_weekends\"\n",
    "ae_weekends = train_model(dat_weekends, 32, 1e-05, 1000, 4, filename)"
   ]
  },
  {
   "cell_type": "code",
   "execution_count": 7,
   "id": "d3ba8463",
   "metadata": {},
   "outputs": [
    {
     "name": "stdout",
     "output_type": "stream",
     "text": [
      "dict_keys(['minfreq', 'colfreqs', 'period', 'anchors', 'zeropoint', 'modnorms', 'profile', 'time_index'])\n"
     ]
    }
   ],
   "source": [
    "print(params['weekdays'].keys())"
   ]
  },
  {
   "cell_type": "markdown",
   "id": "ee05bdfb",
   "metadata": {},
   "source": [
    "### Test on AE model ###"
   ]
  },
  {
   "cell_type": "code",
   "execution_count": 8,
   "id": "8f07d842",
   "metadata": {},
   "outputs": [],
   "source": [
    "def leftpad(df, ycols, minfreq, period, profile):\n",
    "    \"\"\"leftpads dataframe by period-1 points with median values for each column\"\"\"\n",
    "    df = df.copy()\n",
    "\n",
    "    firstindex = df['time_index'][0]\n",
    "    leftpad_index = [i%period for i in range(firstindex - (period - 1), firstindex)]\n",
    "    dat = {y:[profile.loc[i][y] for i in leftpad_index] for y in ycols}\n",
    "    dat['time_index'] = leftpad_index\n",
    "    leftdf = pd.DataFrame(\n",
    "        data = dat,\n",
    "        index = pd.date_range(end=df.index[0], periods=period, freq=minfreq, closed='left'))\n",
    "    df = leftdf.append(df)\n",
    "\n",
    "    return df"
   ]
  },
  {
   "cell_type": "code",
   "execution_count": 9,
   "id": "5effee22",
   "metadata": {},
   "outputs": [
    {
     "data": {
      "application/vnd.jupyter.widget-view+json": {
       "model_id": "8217f8312f584a4c86d8e90f4b9feeee",
       "version_major": 2,
       "version_minor": 0
      },
      "text/plain": [
       "Finding frequency:   0%|          | 0/2 [00:00<?, ?it/s]"
      ]
     },
     "metadata": {},
     "output_type": "display_data"
    },
    {
     "name": "stdout",
     "output_type": "stream",
     "text": [
      "(3600, 10)\n",
      "(1440, 10)\n",
      "dict_keys(['ycols', 'dscol', 'weekdays', 'weekends', 'orient'])\n",
      "dict_keys(['minfreq', 'colfreqs', 'period', 'anchors', 'zeropoint', 'modnorms', 'profile', 'time_index'])\n",
      "dict_keys(['minfreq', 'colfreqs', 'period', 'anchors', 'zeropoint', 'modnorms', 'profile', 'time_index'])\n"
     ]
    },
    {
     "data": {
      "application/vnd.jupyter.widget-view+json": {
       "model_id": "0b2a9ebe2ecd4d16b0351f208d9f217f",
       "version_major": 2,
       "version_minor": 0
      },
      "text/plain": [
       "Aligning data:   0%|          | 0/2 [00:00<?, ?it/s]"
      ]
     },
     "metadata": {},
     "output_type": "display_data"
    },
    {
     "name": "stdout",
     "output_type": "stream",
     "text": [
      "(5039, 10)\n",
      "(1439, 10)\n",
      "dict_keys(['ycols', 'dscol', 'weekdays', 'weekends', 'orient'])\n",
      "dict_keys(['minfreq', 'colfreqs', 'period', 'anchors', 'zeropoint', 'modnorms', 'profile', 'time_index'])\n",
      "dict_keys(['minfreq', 'colfreqs', 'period', 'anchors', 'zeropoint', 'modnorms', 'profile', 'time_index'])\n"
     ]
    },
    {
     "data": {
      "application/vnd.jupyter.widget-view+json": {
       "model_id": "87712af1a4f14ef080056d275501760f",
       "version_major": 2,
       "version_minor": 0
      },
      "text/plain": [
       "Normalising:   0%|          | 0/2 [00:00<?, ?it/s]"
      ]
     },
     "metadata": {},
     "output_type": "display_data"
    },
    {
     "name": "stdout",
     "output_type": "stream",
     "text": [
      "(5039, 11)\n",
      "(1439, 11)\n",
      "dict_keys(['ycols', 'dscol', 'weekdays', 'weekends', 'orient'])\n",
      "dict_keys(['minfreq', 'colfreqs', 'period', 'anchors', 'zeropoint', 'modnorms', 'profile', 'time_index'])\n",
      "dict_keys(['minfreq', 'colfreqs', 'period', 'anchors', 'zeropoint', 'modnorms', 'profile', 'time_index'])\n"
     ]
    },
    {
     "data": {
      "application/vnd.jupyter.widget-view+json": {
       "model_id": "1305ad0a147240a8966b0e69366a1fb3",
       "version_major": 2,
       "version_minor": 0
      },
      "text/plain": [
       "  0%|          | 0/2 [00:00<?, ?it/s]"
      ]
     },
     "metadata": {},
     "output_type": "display_data"
    },
    {
     "name": "stdout",
     "output_type": "stream",
     "text": [
      "(5758, 11)\n",
      "(2158, 11)\n",
      "dict_keys(['ycols', 'dscol', 'weekdays', 'weekends', 'orient'])\n",
      "dict_keys(['minfreq', 'colfreqs', 'period', 'anchors', 'zeropoint', 'modnorms', 'profile', 'time_index'])\n",
      "dict_keys(['minfreq', 'colfreqs', 'period', 'anchors', 'zeropoint', 'modnorms', 'profile', 'time_index'])\n"
     ]
    },
    {
     "data": {
      "application/vnd.jupyter.widget-view+json": {
       "model_id": "000f5227aafd484095594e086770c987",
       "version_major": 2,
       "version_minor": 0
      },
      "text/plain": [
       "Filling gap:   0%|          | 0/2 [00:00<?, ?it/s]"
      ]
     },
     "metadata": {},
     "output_type": "display_data"
    },
    {
     "name": "stdout",
     "output_type": "stream",
     "text": [
      "ok10\n",
      "ok20\n",
      "ok11\n",
      "ok21\n",
      "(5758, 11)\n",
      "(2158, 11)\n",
      "dict_keys(['ycols', 'dscol', 'weekdays', 'weekends', 'orient'])\n",
      "dict_keys(['minfreq', 'colfreqs', 'period', 'anchors', 'zeropoint', 'modnorms', 'profile', 'time_index'])\n",
      "dict_keys(['minfreq', 'colfreqs', 'period', 'anchors', 'zeropoint', 'modnorms', 'profile', 'time_index'])\n"
     ]
    }
   ],
   "source": [
    "from preprocessing.preprocessor import LeftPad\n",
    "testinput1_list = [\n",
    "    LoadData('data/210129-210204_weekly.csv', dscol, ycols, params),\n",
    "    FindFrequency(),\n",
    "    AlignData(),\n",
    "    Normalizer(),\n",
    "    LeftPad(),\n",
    "    FillGap(),\n",
    "] \n",
    "testinput1_pipeline = Pipeline()\n",
    "dfs1_test, test1_params = testinput1_pipeline.transform(testinput1_list)\n",
    "df_test_weekdays = dfs1_test[0]\n",
    "df_test_weekends = dfs1_test[1]"
   ]
  },
  {
   "cell_type": "code",
   "execution_count": 10,
   "id": "8468e2ec",
   "metadata": {},
   "outputs": [
    {
     "data": {
      "application/vnd.jupyter.widget-view+json": {
       "model_id": "ed2b9b8e49f041c8bcbbb1a217091133",
       "version_major": 2,
       "version_minor": 0
      },
      "text/plain": [
       "Finding frequency:   0%|          | 0/2 [00:00<?, ?it/s]"
      ]
     },
     "metadata": {},
     "output_type": "display_data"
    },
    {
     "name": "stdout",
     "output_type": "stream",
     "text": [
      "(3600, 10)\n",
      "(1440, 10)\n",
      "dict_keys(['ycols', 'dscol', 'weekdays', 'weekends', 'orient'])\n",
      "dict_keys(['minfreq', 'colfreqs', 'period', 'anchors', 'zeropoint', 'modnorms', 'profile', 'time_index'])\n",
      "dict_keys(['minfreq', 'colfreqs', 'period', 'anchors', 'zeropoint', 'modnorms', 'profile', 'time_index'])\n"
     ]
    },
    {
     "data": {
      "application/vnd.jupyter.widget-view+json": {
       "model_id": "1041011cb434435cbd6d888c00825a5b",
       "version_major": 2,
       "version_minor": 0
      },
      "text/plain": [
       "Aligning data:   0%|          | 0/2 [00:00<?, ?it/s]"
      ]
     },
     "metadata": {},
     "output_type": "display_data"
    },
    {
     "name": "stdout",
     "output_type": "stream",
     "text": [
      "(5039, 10)\n",
      "(1439, 10)\n",
      "dict_keys(['ycols', 'dscol', 'weekdays', 'weekends', 'orient'])\n",
      "dict_keys(['minfreq', 'colfreqs', 'period', 'anchors', 'zeropoint', 'modnorms', 'profile', 'time_index'])\n",
      "dict_keys(['minfreq', 'colfreqs', 'period', 'anchors', 'zeropoint', 'modnorms', 'profile', 'time_index'])\n"
     ]
    },
    {
     "data": {
      "application/vnd.jupyter.widget-view+json": {
       "model_id": "ad2f5d3e95a84b8685a2ea58e6a8cc91",
       "version_major": 2,
       "version_minor": 0
      },
      "text/plain": [
       "Normalising:   0%|          | 0/2 [00:00<?, ?it/s]"
      ]
     },
     "metadata": {},
     "output_type": "display_data"
    }
   ],
   "source": [
    "testinput2_list = [\n",
    "    LoadData('data/210129-210204_weekly.csv', dscol, ycols, params),\n",
    "    FindFrequency(),\n",
    "    AlignData(),\n",
    "    Normalizer(),\n",
    "] \n",
    "testinput2_pipeline = Pipeline()\n",
    "dfs2_test, test2_params = testinput2_pipeline.transform(testinput2_list)\n",
    "test_seq_weekdays = dfs2_test[0]\n",
    "test_seq_weekends = dfs2_test[1]\n",
    "nona_weekdays = test_seq_weekdays.dropna(how=\"all\")\n",
    "nona_weekends = test_seq_weekends.dropna(how=\"all\")\n",
    "time_index_weekdays = params['weekdays']['time_index']\n",
    "time_index_weekends = params['weekends']['time_index']"
   ]
  },
  {
   "cell_type": "code",
   "execution_count": 11,
   "id": "0213329f",
   "metadata": {},
   "outputs": [
    {
     "name": "stdout",
     "output_type": "stream",
     "text": [
      "2021-02-05 00:00:00\n"
     ]
    }
   ],
   "source": [
    "print(params['weekdays']['zeropoint'])"
   ]
  },
  {
   "cell_type": "code",
   "execution_count": 12,
   "id": "ea272673",
   "metadata": {},
   "outputs": [],
   "source": [
    "# scorefname = 'data/210129-210204_weekly.csv' # substitute to score different data\n",
    "# df_test_weekdays, df_test_weekends = ingest(scorefname, dscol, ycols)\n",
    "\n",
    "# df_test_weekdays, _, _ = ae_preproc(df_test_weekdays, ycols)\n",
    "# original_data = df_test_weekdays.copy() # saved because we might need it later\n",
    "\n",
    "# aligned_weekdays, _, _ = align_data(original_data, colfreqs_weekdays, minfreq_weekdays, anchors_weekdays, zeropoint_weekdays)\n",
    "# aligned_weekdays['time_index'] = [((t-zeropoint_weekdays)//minfreq_weekdays)%period_weekdays for t in aligned_weekdays.index]\n",
    "# df_test_weekdays = leftpad(aligned_weekdays, ycols, minfreq_weekdays, period_weekdays, median_profiles_weekdays)\n",
    "# df_test_weekdays = fill_gaps(df_test_weekdays, colfreqs_weekdays, minfreq_weekdays, period_weekdays, median_profiles_weekdays, zeropoint_weekdays)\n",
    "# test_seq_weekdays = aligned_weekdays.copy()\n",
    "# nona_weekdays = test_seq_weekdays.dropna(how=\"all\")\n",
    "\n",
    "# df_test_weekends, _, _ = ae_preproc(df_test_weekends, ycols)\n",
    "# original_data_weekends = df_test_weekends.copy() # saved because we might need it later\n",
    "\n",
    "# aligned_weekends, _, _ = align_data(original_data_weekends, colfreqs_weekends, minfreq_weekends, anchors_weekends, zeropoint_weekends)\n",
    "# aligned_weekends['time_index'] = [((t-zeropoint_weekends)//minfreq_weekends)%period_weekends for t in aligned_weekends.index]\n",
    "# df_test_weekends = leftpad(aligned_weekends, ycols, minfreq_weekends, period_weekends, median_profiles_weekends)\n",
    "# df_test_weekends = fill_gaps(df_test_weekends, colfreqs_weekends, minfreq_weekends, period_weekends, median_profiles_weekends, zeropoint_weekends)\n",
    "# test_seq_weekends = aligned_weekends.copy()\n",
    "# nona_weekends = test_seq_weekends.dropna(how=\"all\")"
   ]
  },
  {
   "cell_type": "code",
   "execution_count": 13,
   "id": "92280bc6",
   "metadata": {},
   "outputs": [],
   "source": [
    "def normdf(df, modnorms):\n",
    "    normed = df.copy()\n",
    "    for y, ( ymin, ymax ) in modnorms.items():\n",
    "        mmdiff = ymax - ymin\n",
    "        normed[y] = (normed[y]-ymin)/mmdiff\n",
    "    return normed\n",
    "\n",
    "def generate_model_input(df, ycols, times, period, modnorms, offset=None, median_values=None):\n",
    "    \"\"\"\n",
    "generate model input for windows ending at timestamps in the times arguments\n",
    "\n",
    "Assumptions:\n",
    "    1. times all have the same time index relative to period\n",
    "    2. sampling intervals for each column are regular\n",
    "    \"\"\"\n",
    "    offset = period-1 if offset is None else offset\n",
    "    window_size = 10\n",
    "    rows = []\n",
    "    for t in times:\n",
    "        idx = df.index.get_loc(t)+1\n",
    "        rowdf = df.iloc[idx-period:idx].copy()\n",
    "        if median_values is not None and window_size<period:\n",
    "            replaceidx = rowdf.iloc[:len(rowdf)-window_size].index\n",
    "            rowdf.loc[replaceidx, ycols] = median_values.loc[rowdf.loc[replaceidx, \"time_index\"], ycols].to_numpy()\n",
    "        # normalize training/scoring data\n",
    "        rowdf = normdf(rowdf, modnorms)\n",
    "        startpos = period-1-offset\n",
    "        rowdf = rowdf.iloc[startpos:].append(rowdf.iloc[:startpos])  # [ANDY] why?\n",
    "        row = np.concatenate([rowdf[y].dropna() for y in ycols])\n",
    "        rows.append(row)\n",
    "\n",
    "    collens = set(len(r) for r in rows)\n",
    "    if len(collens)!=1:\n",
    "        logging.error(f\"detected row lengths: {collens}\")\n",
    "        raise MisalignedColumnsError(\"unable to create input data because dimensions don't match\")\n",
    "\n",
    "    numcols = collens.pop()\n",
    "\n",
    "    return np.concatenate(rows).reshape(( -1, numcols ))"
   ]
  },
  {
   "cell_type": "code",
   "execution_count": 14,
   "id": "3e66171a",
   "metadata": {},
   "outputs": [
    {
     "data": {
      "text/plain": [
       "<matplotlib.axes._subplots.AxesSubplot at 0x7ff7c3089d10>"
      ]
     },
     "execution_count": 14,
     "metadata": {},
     "output_type": "execute_result"
    },
    {
     "data": {
      "image/png": "[encoded data removed]",
      "text/plain": [
       "<Figure size 1152x576 with 1 Axes>"
      ]
     },
     "metadata": {
      "needs_background": "light"
     },
     "output_type": "display_data"
    }
   ],
   "source": [
    "\n",
    "for t in time_index_weekdays:\n",
    "    times = nona_weekdays[nona_weekdays['time_index']==t].index\n",
    "    signals = generate_model_input(df_test_weekdays, ycols, times, params['weekdays']['period'], params['weekdays']['modnorms'], offset=t, median_values=params['weekdays']['profile'])\n",
    "    _signals = signals.reshape([signals.shape[0], -1])\n",
    "\n",
    "    _signals = torch.from_numpy(signals)\n",
    "    signals = Variable(_signals.float())\n",
    "    code,preds = ae_weekdays(signals)\n",
    "    errors = np.sum(np.square((signals-preds).detach().numpy()), axis=1)\n",
    "    test_seq_weekdays.loc[times, 'score'] = errors\n",
    "    #logging.info(f\"finished scoring window {t}\")\n",
    "\n",
    "#K.clear_session()\n",
    "\n",
    "test_seq_weekdays[['score']].plot(figsize=[16,8])"
   ]
  },
  {
   "cell_type": "code",
   "execution_count": 15,
   "id": "ab0b02a8",
   "metadata": {},
   "outputs": [
    {
     "data": {
      "text/plain": [
       "<matplotlib.axes._subplots.AxesSubplot at 0x7ff7c39664d0>"
      ]
     },
     "execution_count": 15,
     "metadata": {},
     "output_type": "execute_result"
    },
    {
     "data": {
      "image/png": "[encoded data removed]",
      "text/plain": [
       "<Figure size 1152x576 with 1 Axes>"
      ]
     },
     "metadata": {
      "needs_background": "light"
     },
     "output_type": "display_data"
    }
   ],
   "source": [
    "for t in time_index_weekends:\n",
    "    times = nona_weekends[nona_weekends['time_index']==t].index\n",
    "    signals = generate_model_input(df_test_weekends, ycols, times, params['weekends']['period'], params['weekends']['modnorms'], offset=t, median_values=params['weekends']['profile'])\n",
    "    _signals = signals.reshape([signals.shape[0], -1])\n",
    "\n",
    "    _signals = torch.from_numpy(signals)\n",
    "    signals = Variable(_signals.float())\n",
    "    code,preds = ae_weekends(signals)\n",
    "    errors = np.sum(np.square((signals-preds).detach().numpy()), axis=1)\n",
    "    test_seq_weekends.loc[times, 'score'] = errors\n",
    "    #logging.info(f\"finished scoring window {t}\")\n",
    "\n",
    "#K.clear_session()\n",
    "\n",
    "test_seq_weekends[['score']].plot(figsize=[16,8])"
   ]
  },
  {
   "cell_type": "code",
   "execution_count": 3,
   "id": "81f92536",
   "metadata": {},
   "outputs": [
    {
     "name": "stderr",
     "output_type": "stream",
     "text": [
      "Using TensorFlow backend.\n",
      "/Users/preh0405/opt/anaconda3/envs/chrono/lib/python3.7/site-packages/tensorflow/python/framework/dtypes.py:516: FutureWarning: Passing (type, 1) or '1type' as a synonym of type is deprecated; in a future version of numpy, it will be understood as (type, (1,)) / '(1,)type'.\n",
      "  _np_qint8 = np.dtype([(\"qint8\", np.int8, 1)])\n",
      "/Users/preh0405/opt/anaconda3/envs/chrono/lib/python3.7/site-packages/tensorflow/python/framework/dtypes.py:517: FutureWarning: Passing (type, 1) or '1type' as a synonym of type is deprecated; in a future version of numpy, it will be understood as (type, (1,)) / '(1,)type'.\n",
      "  _np_quint8 = np.dtype([(\"quint8\", np.uint8, 1)])\n",
      "/Users/preh0405/opt/anaconda3/envs/chrono/lib/python3.7/site-packages/tensorflow/python/framework/dtypes.py:518: FutureWarning: Passing (type, 1) or '1type' as a synonym of type is deprecated; in a future version of numpy, it will be understood as (type, (1,)) / '(1,)type'.\n",
      "  _np_qint16 = np.dtype([(\"qint16\", np.int16, 1)])\n",
      "/Users/preh0405/opt/anaconda3/envs/chrono/lib/python3.7/site-packages/tensorflow/python/framework/dtypes.py:519: FutureWarning: Passing (type, 1) or '1type' as a synonym of type is deprecated; in a future version of numpy, it will be understood as (type, (1,)) / '(1,)type'.\n",
      "  _np_quint16 = np.dtype([(\"quint16\", np.uint16, 1)])\n",
      "/Users/preh0405/opt/anaconda3/envs/chrono/lib/python3.7/site-packages/tensorflow/python/framework/dtypes.py:520: FutureWarning: Passing (type, 1) or '1type' as a synonym of type is deprecated; in a future version of numpy, it will be understood as (type, (1,)) / '(1,)type'.\n",
      "  _np_qint32 = np.dtype([(\"qint32\", np.int32, 1)])\n",
      "/Users/preh0405/opt/anaconda3/envs/chrono/lib/python3.7/site-packages/tensorflow/python/framework/dtypes.py:525: FutureWarning: Passing (type, 1) or '1type' as a synonym of type is deprecated; in a future version of numpy, it will be understood as (type, (1,)) / '(1,)type'.\n",
      "  np_resource = np.dtype([(\"resource\", np.ubyte, 1)])\n"
     ]
    },
    {
     "name": "stdout",
     "output_type": "stream",
     "text": [
      "/Users/preh0405/Desktop/chrono+/notebook\n"
     ]
    },
    {
     "data": {
      "application/vnd.jupyter.widget-view+json": {
       "model_id": "8084e05834774031bc096d8645c2245d",
       "version_major": 2,
       "version_minor": 0
      },
      "text/plain": [
       "Finding frequency:   0%|          | 0/2 [00:00<?, ?it/s]"
      ]
     },
     "metadata": {},
     "output_type": "display_data"
    },
    {
     "name": "stdout",
     "output_type": "stream",
     "text": [
      "(25200, 10)\n",
      "(10080, 10)\n",
      "dict_keys(['ycols', 'dscol', 'weekdays', 'weekends', 'orient'])\n",
      "dict_keys(['minfreq', 'colfreqs'])\n",
      "dict_keys(['minfreq', 'colfreqs'])\n"
     ]
    },
    {
     "data": {
      "application/vnd.jupyter.widget-view+json": {
       "model_id": "6fbb544013624e989a8f10a17cefed18",
       "version_major": 2,
       "version_minor": 0
      },
      "text/plain": [
       "Detecting Period:   0%|          | 0/2 [00:00<?, ?it/s]"
      ]
     },
     "metadata": {},
     "output_type": "display_data"
    },
    {
     "name": "stderr",
     "output_type": "stream",
     "text": [
      "/Users/preh0405/opt/anaconda3/envs/chrono/lib/python3.7/site-packages/statsmodels/tsa/stattools.py:541: FutureWarning: fft=True will become the default in a future version of statsmodels. To suppress this warning, explicitly set fft=False.\n",
      "  warnings.warn(msg, FutureWarning)\n"
     ]
    },
    {
     "name": "stdout",
     "output_type": "stream",
     "text": [
      "(25200, 10)\n",
      "(10080, 10)\n",
      "dict_keys(['ycols', 'dscol', 'weekdays', 'weekends', 'orient'])\n",
      "dict_keys(['minfreq', 'colfreqs', 'period'])\n",
      "dict_keys(['minfreq', 'colfreqs', 'period'])\n"
     ]
    },
    {
     "data": {
      "application/vnd.jupyter.widget-view+json": {
       "model_id": "514c198edf924e8a9ddc210104189218",
       "version_major": 2,
       "version_minor": 0
      },
      "text/plain": [
       "Aligning data:   0%|          | 0/2 [00:00<?, ?it/s]"
      ]
     },
     "metadata": {},
     "output_type": "display_data"
    },
    {
     "name": "stdout",
     "output_type": "stream",
     "text": [
      "(35279, 10)\n",
      "(31679, 10)\n",
      "dict_keys(['ycols', 'dscol', 'weekdays', 'weekends', 'orient'])\n",
      "dict_keys(['minfreq', 'colfreqs', 'period', 'anchors', 'zeropoint'])\n",
      "dict_keys(['minfreq', 'colfreqs', 'period', 'anchors', 'zeropoint'])\n"
     ]
    },
    {
     "data": {
      "application/vnd.jupyter.widget-view+json": {
       "model_id": "86b47fb57070418d8e988c9ee6606f25",
       "version_major": 2,
       "version_minor": 0
      },
      "text/plain": [
       "Dropping Extrema:   0%|          | 0/2 [00:00<?, ?it/s]"
      ]
     },
     "metadata": {},
     "output_type": "display_data"
    },
    {
     "name": "stdout",
     "output_type": "stream",
     "text": [
      "(35279, 10)\n",
      "(31679, 10)\n",
      "dict_keys(['ycols', 'dscol', 'weekdays', 'weekends', 'orient'])\n",
      "dict_keys(['minfreq', 'colfreqs', 'period', 'anchors', 'zeropoint'])\n",
      "dict_keys(['minfreq', 'colfreqs', 'period', 'anchors', 'zeropoint'])\n"
     ]
    },
    {
     "data": {
      "application/vnd.jupyter.widget-view+json": {
       "model_id": "a8ea7330264c4b84999283a9243ff48f",
       "version_major": 2,
       "version_minor": 0
      },
      "text/plain": [
       "Normalising:   0%|          | 0/2 [00:00<?, ?it/s]"
      ]
     },
     "metadata": {},
     "output_type": "display_data"
    },
    {
     "name": "stdout",
     "output_type": "stream",
     "text": [
      "(35279, 11)\n",
      "(31679, 11)\n",
      "dict_keys(['ycols', 'dscol', 'weekdays', 'weekends', 'orient'])\n",
      "dict_keys(['minfreq', 'colfreqs', 'period', 'anchors', 'zeropoint', 'modnorms'])\n",
      "dict_keys(['minfreq', 'colfreqs', 'period', 'anchors', 'zeropoint', 'modnorms'])\n"
     ]
    },
    {
     "data": {
      "application/vnd.jupyter.widget-view+json": {
       "model_id": "bacc7bd2f0c7419b96eba34ee0d69765",
       "version_major": 2,
       "version_minor": 0
      },
      "text/plain": [
       "Filling gap:   0%|          | 0/2 [00:00<?, ?it/s]"
      ]
     },
     "metadata": {},
     "output_type": "display_data"
    },
    {
     "name": "stdout",
     "output_type": "stream",
     "text": [
      "ok10\n",
      "ok20\n",
      "ok11\n",
      "ok21\n",
      "(35279, 11)\n",
      "(31679, 11)\n",
      "dict_keys(['ycols', 'dscol', 'weekdays', 'weekends', 'orient'])\n",
      "dict_keys(['minfreq', 'colfreqs', 'period', 'anchors', 'zeropoint', 'modnorms', 'profile', 'time_index'])\n",
      "dict_keys(['minfreq', 'colfreqs', 'period', 'anchors', 'zeropoint', 'modnorms', 'profile', 'time_index'])\n",
      "(35279, 11)\n",
      "(31679, 11)\n",
      "dict_keys(['ycols', 'dscol', 'weekdays', 'weekends', 'orient'])\n",
      "dict_keys(['minfreq', 'colfreqs', 'period', 'anchors', 'zeropoint', 'modnorms', 'profile', 'time_index'])\n",
      "dict_keys(['minfreq', 'colfreqs', 'period', 'anchors', 'zeropoint', 'modnorms', 'profile', 'time_index'])\n"
     ]
    },
    {
     "data": {
      "application/vnd.jupyter.widget-view+json": {
       "model_id": "d4d8768290a14db1b033b2bc82c2dca1",
       "version_major": 2,
       "version_minor": 0
      },
      "text/plain": [
       "Generating Input:   0%|          | 0/2 [00:00<?, ?it/s]"
      ]
     },
     "metadata": {},
     "output_type": "display_data"
    },
    {
     "name": "stdout",
     "output_type": "stream",
     "text": [
      "epoch number:0 train_loss: 0.022769822739064693 val_loss: 0.007507673080661405\n",
      "epoch number:0 train_loss: 0.02695130743086338 val_loss: 0.010862880702886029\n"
     ]
    },
    {
     "data": {
      "application/vnd.jupyter.widget-view+json": {
       "model_id": "4d3e0a10f8344a6982d96828c38c041b",
       "version_major": 2,
       "version_minor": 0
      },
      "text/plain": [
       "Finding frequency:   0%|          | 0/2 [00:00<?, ?it/s]"
      ]
     },
     "metadata": {},
     "output_type": "display_data"
    },
    {
     "name": "stdout",
     "output_type": "stream",
     "text": [
      "(3600, 10)\n",
      "(1440, 10)\n",
      "dict_keys(['ycols', 'dscol', 'weekdays', 'weekends', 'orient'])\n",
      "dict_keys(['minfreq', 'colfreqs', 'period', 'anchors', 'zeropoint', 'modnorms', 'profile', 'time_index'])\n",
      "dict_keys(['minfreq', 'colfreqs', 'period', 'anchors', 'zeropoint', 'modnorms', 'profile', 'time_index'])\n"
     ]
    },
    {
     "data": {
      "application/vnd.jupyter.widget-view+json": {
       "model_id": "7311dec2e20043729b8822e169beeefc",
       "version_major": 2,
       "version_minor": 0
      },
      "text/plain": [
       "Aligning data:   0%|          | 0/2 [00:00<?, ?it/s]"
      ]
     },
     "metadata": {},
     "output_type": "display_data"
    },
    {
     "name": "stdout",
     "output_type": "stream",
     "text": [
      "(5039, 10)\n",
      "(1439, 10)\n",
      "dict_keys(['ycols', 'dscol', 'weekdays', 'weekends', 'orient'])\n",
      "dict_keys(['minfreq', 'colfreqs', 'period', 'anchors', 'zeropoint', 'modnorms', 'profile', 'time_index'])\n",
      "dict_keys(['minfreq', 'colfreqs', 'period', 'anchors', 'zeropoint', 'modnorms', 'profile', 'time_index'])\n"
     ]
    },
    {
     "data": {
      "application/vnd.jupyter.widget-view+json": {
       "model_id": "278f5ef45c1d403893c2f33a4f344b89",
       "version_major": 2,
       "version_minor": 0
      },
      "text/plain": [
       "Normalising:   0%|          | 0/2 [00:00<?, ?it/s]"
      ]
     },
     "metadata": {},
     "output_type": "display_data"
    },
    {
     "name": "stdout",
     "output_type": "stream",
     "text": [
      "(5039, 11)\n",
      "(1439, 11)\n",
      "dict_keys(['ycols', 'dscol', 'weekdays', 'weekends', 'orient'])\n",
      "dict_keys(['minfreq', 'colfreqs', 'period', 'anchors', 'zeropoint', 'modnorms', 'profile', 'time_index'])\n",
      "dict_keys(['minfreq', 'colfreqs', 'period', 'anchors', 'zeropoint', 'modnorms', 'profile', 'time_index'])\n"
     ]
    },
    {
     "data": {
      "application/vnd.jupyter.widget-view+json": {
       "model_id": "e47e7cf196254164a59aa9134b9c9db3",
       "version_major": 2,
       "version_minor": 0
      },
      "text/plain": [
       "  0%|          | 0/2 [00:00<?, ?it/s]"
      ]
     },
     "metadata": {},
     "output_type": "display_data"
    },
    {
     "name": "stdout",
     "output_type": "stream",
     "text": [
      "(5758, 11)\n",
      "(2158, 11)\n",
      "dict_keys(['ycols', 'dscol', 'weekdays', 'weekends', 'orient'])\n",
      "dict_keys(['minfreq', 'colfreqs', 'period', 'anchors', 'zeropoint', 'modnorms', 'profile', 'time_index'])\n",
      "dict_keys(['minfreq', 'colfreqs', 'period', 'anchors', 'zeropoint', 'modnorms', 'profile', 'time_index'])\n"
     ]
    },
    {
     "data": {
      "application/vnd.jupyter.widget-view+json": {
       "model_id": "6ea861b0259244a895486868c586e358",
       "version_major": 2,
       "version_minor": 0
      },
      "text/plain": [
       "Filling gap:   0%|          | 0/2 [00:00<?, ?it/s]"
      ]
     },
     "metadata": {},
     "output_type": "display_data"
    },
    {
     "name": "stdout",
     "output_type": "stream",
     "text": [
      "ok10\n",
      "ok20\n",
      "ok11\n",
      "ok21\n",
      "(5758, 11)\n",
      "(2158, 11)\n",
      "dict_keys(['ycols', 'dscol', 'weekdays', 'weekends', 'orient'])\n",
      "dict_keys(['minfreq', 'colfreqs', 'period', 'anchors', 'zeropoint', 'modnorms', 'profile', 'time_index'])\n",
      "dict_keys(['minfreq', 'colfreqs', 'period', 'anchors', 'zeropoint', 'modnorms', 'profile', 'time_index'])\n"
     ]
    },
    {
     "data": {
      "application/vnd.jupyter.widget-view+json": {
       "model_id": "fd30d46a7d274eae91b8836695378a03",
       "version_major": 2,
       "version_minor": 0
      },
      "text/plain": [
       "Finding frequency:   0%|          | 0/2 [00:00<?, ?it/s]"
      ]
     },
     "metadata": {},
     "output_type": "display_data"
    },
    {
     "name": "stdout",
     "output_type": "stream",
     "text": [
      "(3600, 10)\n",
      "(1440, 10)\n",
      "dict_keys(['ycols', 'dscol', 'weekdays', 'weekends', 'orient'])\n",
      "dict_keys(['minfreq', 'colfreqs', 'period', 'anchors', 'zeropoint', 'modnorms', 'profile', 'time_index'])\n",
      "dict_keys(['minfreq', 'colfreqs', 'period', 'anchors', 'zeropoint', 'modnorms', 'profile', 'time_index'])\n"
     ]
    },
    {
     "data": {
      "application/vnd.jupyter.widget-view+json": {
       "model_id": "a6ca2b5b1ae84d7fa9cd1e932651ded7",
       "version_major": 2,
       "version_minor": 0
      },
      "text/plain": [
       "Aligning data:   0%|          | 0/2 [00:00<?, ?it/s]"
      ]
     },
     "metadata": {},
     "output_type": "display_data"
    },
    {
     "name": "stdout",
     "output_type": "stream",
     "text": [
      "(5039, 10)\n",
      "(1439, 10)\n",
      "dict_keys(['ycols', 'dscol', 'weekdays', 'weekends', 'orient'])\n",
      "dict_keys(['minfreq', 'colfreqs', 'period', 'anchors', 'zeropoint', 'modnorms', 'profile', 'time_index'])\n",
      "dict_keys(['minfreq', 'colfreqs', 'period', 'anchors', 'zeropoint', 'modnorms', 'profile', 'time_index'])\n"
     ]
    },
    {
     "data": {
      "application/vnd.jupyter.widget-view+json": {
       "model_id": "09a94b6e4fe142c2b846c71471f7b7a7",
       "version_major": 2,
       "version_minor": 0
      },
      "text/plain": [
       "Normalising:   0%|          | 0/2 [00:00<?, ?it/s]"
      ]
     },
     "metadata": {},
     "output_type": "display_data"
    }
   ],
   "source": [
    "from modeling.pytorch_ae import TrainPytorchAE\n",
    "from preprocessing.preprocessor import LeftPad\n",
    "from preprocessing.preprocessor import LoadData, FindFrequency, PeriodDetect, AlignData, DropExtrema, Normalizer, FillGap, GenerateInput\n",
    "from pipeline import Pipeline\n",
    "\n",
    "training_list = [\n",
    "    LoadData(fname, dscol, ycols),\n",
    "    FindFrequency(),\n",
    "    PeriodDetect(),\n",
    "    AlignData(),\n",
    "    DropExtrema(),\n",
    "    Normalizer(),\n",
    "    FillGap(),\n",
    "    GenerateInput(),\n",
    "    TrainPytorchAE()\n",
    "]\n",
    "training_pipeline = Pipeline()\n",
    "ae_list, params_t = training_pipeline.fit_transform(training_list)\n",
    "test_seq_2 = training_pipeline.prediction('data/210129-210204_weekly.csv', ae_list, params_t)"
   ]
  },
  {
   "cell_type": "code",
   "execution_count": 4,
   "id": "75ed67ac",
   "metadata": {},
   "outputs": [
    {
     "data": {
      "text/plain": [
       "<matplotlib.axes._subplots.AxesSubplot at 0x7f9cad790110>"
      ]
     },
     "execution_count": 4,
     "metadata": {},
     "output_type": "execute_result"
    },
    {
     "data": {
      "image/png": "[encoded data removed]",
      "text/plain": [
       "<Figure size 1152x576 with 1 Axes>"
      ]
     },
     "metadata": {
      "needs_background": "light"
     },
     "output_type": "display_data"
    }
   ],
   "source": [
    "test_seq_2[0][['score']].plot(figsize=[16,8])"
   ]
  },
  {
   "cell_type": "code",
   "execution_count": 5,
   "id": "288c6045",
   "metadata": {},
   "outputs": [
    {
     "data": {
      "text/plain": [
       "<matplotlib.axes._subplots.AxesSubplot at 0x7f9cadd935d0>"
      ]
     },
     "execution_count": 5,
     "metadata": {},
     "output_type": "execute_result"
    },
    {
     "data": {
      "image/png": "[encoded data removed]",
      "text/plain": [
       "<Figure size 1152x576 with 1 Axes>"
      ]
     },
     "metadata": {
      "needs_background": "light"
     },
     "output_type": "display_data"
    }
   ],
   "source": [
    "test_seq_2[1][['score']].plot(figsize=[16,8])"
   ]
  },
  {
   "cell_type": "code",
   "execution_count": 6,
   "id": "f136d13e",
   "metadata": {},
   "outputs": [],
   "source": [
    "params = params_t"
   ]
  },
  {
   "cell_type": "markdown",
   "id": "a44ecec3",
   "metadata": {},
   "source": [
    "### Test on AE model ###"
   ]
  },
  {
   "cell_type": "code",
   "execution_count": 7,
   "id": "b3bc6a9c",
   "metadata": {},
   "outputs": [],
   "source": [
    "def leftpad(df, ycols, minfreq, period, profile):\n",
    "    \"\"\"leftpads dataframe by period-1 points with median values for each column\"\"\"\n",
    "    df = df.copy()\n",
    "\n",
    "    firstindex = df['time_index'][0]\n",
    "    leftpad_index = [i%period for i in range(firstindex - (period - 1), firstindex)]\n",
    "    dat = {y:[profile.loc[i][y] for i in leftpad_index] for y in ycols}\n",
    "    dat['time_index'] = leftpad_index\n",
    "    leftdf = pd.DataFrame(\n",
    "        data = dat,\n",
    "        index = pd.date_range(end=df.index[0], periods=period, freq=minfreq, closed='left'))\n",
    "    df = leftdf.append(df)\n",
    "\n",
    "    return df"
   ]
  },
  {
   "cell_type": "code",
   "execution_count": 8,
   "id": "263b3db6",
   "metadata": {},
   "outputs": [
    {
     "data": {
      "application/vnd.jupyter.widget-view+json": {
       "model_id": "8f0e813d8f8242d9a59d4d1f779bf363",
       "version_major": 2,
       "version_minor": 0
      },
      "text/plain": [
       "Finding frequency:   0%|          | 0/2 [00:00<?, ?it/s]"
      ]
     },
     "metadata": {},
     "output_type": "display_data"
    },
    {
     "name": "stdout",
     "output_type": "stream",
     "text": [
      "(3600, 10)\n",
      "(1440, 10)\n",
      "dict_keys(['ycols', 'dscol', 'weekdays', 'weekends', 'orient'])\n",
      "dict_keys(['minfreq', 'colfreqs', 'period', 'anchors', 'zeropoint', 'modnorms', 'profile', 'time_index'])\n",
      "dict_keys(['minfreq', 'colfreqs', 'period', 'anchors', 'zeropoint', 'modnorms', 'profile', 'time_index'])\n"
     ]
    },
    {
     "data": {
      "application/vnd.jupyter.widget-view+json": {
       "model_id": "93238d3b8e6e4290a40a8a8d3f0a3fc4",
       "version_major": 2,
       "version_minor": 0
      },
      "text/plain": [
       "Aligning data:   0%|          | 0/2 [00:00<?, ?it/s]"
      ]
     },
     "metadata": {},
     "output_type": "display_data"
    },
    {
     "name": "stdout",
     "output_type": "stream",
     "text": [
      "(5039, 10)\n",
      "(1439, 10)\n",
      "dict_keys(['ycols', 'dscol', 'weekdays', 'weekends', 'orient'])\n",
      "dict_keys(['minfreq', 'colfreqs', 'period', 'anchors', 'zeropoint', 'modnorms', 'profile', 'time_index'])\n",
      "dict_keys(['minfreq', 'colfreqs', 'period', 'anchors', 'zeropoint', 'modnorms', 'profile', 'time_index'])\n"
     ]
    },
    {
     "data": {
      "application/vnd.jupyter.widget-view+json": {
       "model_id": "7868b182b6614f2189f62906b283b590",
       "version_major": 2,
       "version_minor": 0
      },
      "text/plain": [
       "Normalising:   0%|          | 0/2 [00:00<?, ?it/s]"
      ]
     },
     "metadata": {},
     "output_type": "display_data"
    },
    {
     "name": "stdout",
     "output_type": "stream",
     "text": [
      "(5039, 11)\n",
      "(1439, 11)\n",
      "dict_keys(['ycols', 'dscol', 'weekdays', 'weekends', 'orient'])\n",
      "dict_keys(['minfreq', 'colfreqs', 'period', 'anchors', 'zeropoint', 'modnorms', 'profile', 'time_index'])\n",
      "dict_keys(['minfreq', 'colfreqs', 'period', 'anchors', 'zeropoint', 'modnorms', 'profile', 'time_index'])\n"
     ]
    },
    {
     "data": {
      "application/vnd.jupyter.widget-view+json": {
       "model_id": "6111c50d0c7e41f58ed3f7ac71978474",
       "version_major": 2,
       "version_minor": 0
      },
      "text/plain": [
       "  0%|          | 0/2 [00:00<?, ?it/s]"
      ]
     },
     "metadata": {},
     "output_type": "display_data"
    },
    {
     "name": "stdout",
     "output_type": "stream",
     "text": [
      "(5758, 11)\n",
      "(2158, 11)\n",
      "dict_keys(['ycols', 'dscol', 'weekdays', 'weekends', 'orient'])\n",
      "dict_keys(['minfreq', 'colfreqs', 'period', 'anchors', 'zeropoint', 'modnorms', 'profile', 'time_index'])\n",
      "dict_keys(['minfreq', 'colfreqs', 'period', 'anchors', 'zeropoint', 'modnorms', 'profile', 'time_index'])\n"
     ]
    },
    {
     "data": {
      "application/vnd.jupyter.widget-view+json": {
       "model_id": "a56d63c8c042466e878e611d5a50acc3",
       "version_major": 2,
       "version_minor": 0
      },
      "text/plain": [
       "Filling gap:   0%|          | 0/2 [00:00<?, ?it/s]"
      ]
     },
     "metadata": {},
     "output_type": "display_data"
    },
    {
     "name": "stdout",
     "output_type": "stream",
     "text": [
      "ok10\n",
      "ok20\n",
      "ok11\n",
      "ok21\n",
      "(5758, 11)\n",
      "(2158, 11)\n",
      "dict_keys(['ycols', 'dscol', 'weekdays', 'weekends', 'orient'])\n",
      "dict_keys(['minfreq', 'colfreqs', 'period', 'anchors', 'zeropoint', 'modnorms', 'profile', 'time_index'])\n",
      "dict_keys(['minfreq', 'colfreqs', 'period', 'anchors', 'zeropoint', 'modnorms', 'profile', 'time_index'])\n"
     ]
    }
   ],
   "source": [
    "from preprocessing.preprocessor import LeftPad\n",
    "testinput1_list = [\n",
    "    LoadData('data/210129-210204_weekly.csv', dscol, ycols, params),\n",
    "    FindFrequency(),\n",
    "    AlignData(),\n",
    "    Normalizer(),\n",
    "    LeftPad(),\n",
    "    FillGap(),\n",
    "] \n",
    "testinput1_pipeline = Pipeline()\n",
    "dfs1_test, test1_params = testinput1_pipeline.transform(testinput1_list)\n",
    "df_test_weekdays = dfs1_test[0]\n",
    "df_test_weekends = dfs1_test[1]"
   ]
  },
  {
   "cell_type": "code",
   "execution_count": 9,
   "id": "8f5251a0",
   "metadata": {},
   "outputs": [
    {
     "data": {
      "application/vnd.jupyter.widget-view+json": {
       "model_id": "64bacac75d014965b44118dbeb5126e2",
       "version_major": 2,
       "version_minor": 0
      },
      "text/plain": [
       "Finding frequency:   0%|          | 0/2 [00:00<?, ?it/s]"
      ]
     },
     "metadata": {},
     "output_type": "display_data"
    },
    {
     "name": "stdout",
     "output_type": "stream",
     "text": [
      "(3600, 10)\n",
      "(1440, 10)\n",
      "dict_keys(['ycols', 'dscol', 'weekdays', 'weekends', 'orient'])\n",
      "dict_keys(['minfreq', 'colfreqs', 'period', 'anchors', 'zeropoint', 'modnorms', 'profile', 'time_index'])\n",
      "dict_keys(['minfreq', 'colfreqs', 'period', 'anchors', 'zeropoint', 'modnorms', 'profile', 'time_index'])\n"
     ]
    },
    {
     "data": {
      "application/vnd.jupyter.widget-view+json": {
       "model_id": "4b5e5bea850a4399bfd7c4341a1cd10f",
       "version_major": 2,
       "version_minor": 0
      },
      "text/plain": [
       "Aligning data:   0%|          | 0/2 [00:00<?, ?it/s]"
      ]
     },
     "metadata": {},
     "output_type": "display_data"
    },
    {
     "name": "stdout",
     "output_type": "stream",
     "text": [
      "(5039, 10)\n",
      "(1439, 10)\n",
      "dict_keys(['ycols', 'dscol', 'weekdays', 'weekends', 'orient'])\n",
      "dict_keys(['minfreq', 'colfreqs', 'period', 'anchors', 'zeropoint', 'modnorms', 'profile', 'time_index'])\n",
      "dict_keys(['minfreq', 'colfreqs', 'period', 'anchors', 'zeropoint', 'modnorms', 'profile', 'time_index'])\n"
     ]
    },
    {
     "data": {
      "application/vnd.jupyter.widget-view+json": {
       "model_id": "c4b90ce9cfb24adf95d742f96f198a7d",
       "version_major": 2,
       "version_minor": 0
      },
      "text/plain": [
       "Normalising:   0%|          | 0/2 [00:00<?, ?it/s]"
      ]
     },
     "metadata": {},
     "output_type": "display_data"
    }
   ],
   "source": [
    "testinput2_list = [\n",
    "    LoadData('data/210129-210204_weekly.csv', dscol, ycols, params),\n",
    "    FindFrequency(),\n",
    "    AlignData(),\n",
    "    Normalizer(),\n",
    "] \n",
    "testinput2_pipeline = Pipeline()\n",
    "dfs2_test, test2_params = testinput2_pipeline.transform(testinput2_list)\n",
    "test_seq_weekdays = dfs2_test[0]\n",
    "test_seq_weekends = dfs2_test[1]\n",
    "nona_weekdays = test_seq_weekdays.dropna(how=\"all\")\n",
    "nona_weekends = test_seq_weekends.dropna(how=\"all\")\n",
    "time_index_weekdays = params['weekdays']['time_index']\n",
    "time_index_weekends = params['weekends']['time_index']"
   ]
  },
  {
   "cell_type": "code",
   "execution_count": 10,
   "id": "48ee4db4",
   "metadata": {},
   "outputs": [
    {
     "name": "stdout",
     "output_type": "stream",
     "text": [
      "2021-02-05 00:00:00\n"
     ]
    }
   ],
   "source": [
    "print(params['weekdays']['zeropoint'])"
   ]
  },
  {
   "cell_type": "code",
   "execution_count": 11,
   "id": "e4c3765c",
   "metadata": {},
   "outputs": [],
   "source": [
    "# scorefname = 'data/210129-210204_weekly.csv' # substitute to score different data\n",
    "# df_test_weekdays, df_test_weekends = ingest(scorefname, dscol, ycols)\n",
    "\n",
    "# df_test_weekdays, _, _ = ae_preproc(df_test_weekdays, ycols)\n",
    "# original_data = df_test_weekdays.copy() # saved because we might need it later\n",
    "\n",
    "# aligned_weekdays, _, _ = align_data(original_data, colfreqs_weekdays, minfreq_weekdays, anchors_weekdays, zeropoint_weekdays)\n",
    "# aligned_weekdays['time_index'] = [((t-zeropoint_weekdays)//minfreq_weekdays)%period_weekdays for t in aligned_weekdays.index]\n",
    "# df_test_weekdays = leftpad(aligned_weekdays, ycols, minfreq_weekdays, period_weekdays, median_profiles_weekdays)\n",
    "# df_test_weekdays = fill_gaps(df_test_weekdays, colfreqs_weekdays, minfreq_weekdays, period_weekdays, median_profiles_weekdays, zeropoint_weekdays)\n",
    "# test_seq_weekdays = aligned_weekdays.copy()\n",
    "# nona_weekdays = test_seq_weekdays.dropna(how=\"all\")\n",
    "\n",
    "# df_test_weekends, _, _ = ae_preproc(df_test_weekends, ycols)\n",
    "# original_data_weekends = df_test_weekends.copy() # saved because we might need it later\n",
    "\n",
    "# aligned_weekends, _, _ = align_data(original_data_weekends, colfreqs_weekends, minfreq_weekends, anchors_weekends, zeropoint_weekends)\n",
    "# aligned_weekends['time_index'] = [((t-zeropoint_weekends)//minfreq_weekends)%period_weekends for t in aligned_weekends.index]\n",
    "# df_test_weekends = leftpad(aligned_weekends, ycols, minfreq_weekends, period_weekends, median_profiles_weekends)\n",
    "# df_test_weekends = fill_gaps(df_test_weekends, colfreqs_weekends, minfreq_weekends, period_weekends, median_profiles_weekends, zeropoint_weekends)\n",
    "# test_seq_weekends = aligned_weekends.copy()\n",
    "# nona_weekends = test_seq_weekends.dropna(how=\"all\")"
   ]
  },
  {
   "cell_type": "code",
   "execution_count": 12,
   "id": "fbb5e44d",
   "metadata": {},
   "outputs": [],
   "source": [
    "def normdf(df, modnorms):\n",
    "    normed = df.copy()\n",
    "    for y, ( ymin, ymax ) in modnorms.items():\n",
    "        mmdiff = ymax - ymin\n",
    "        normed[y] = (normed[y]-ymin)/mmdiff\n",
    "    return normed\n",
    "\n",
    "def generate_model_input(df, ycols, times, period, modnorms, offset=None, median_values=None):\n",
    "    \"\"\"\n",
    "generate model input for windows ending at timestamps in the times arguments\n",
    "\n",
    "Assumptions:\n",
    "    1. times all have the same time index relative to period\n",
    "    2. sampling intervals for each column are regular\n",
    "    \"\"\"\n",
    "    offset = period-1 if offset is None else offset\n",
    "    window_size = 10\n",
    "    rows = []\n",
    "    for t in times:\n",
    "        idx = df.index.get_loc(t)+1\n",
    "        rowdf = df.iloc[idx-period:idx].copy()\n",
    "        if median_values is not None and window_size<period:\n",
    "            replaceidx = rowdf.iloc[:len(rowdf)-window_size].index\n",
    "            rowdf.loc[replaceidx, ycols] = median_values.loc[rowdf.loc[replaceidx, \"time_index\"], ycols].to_numpy()\n",
    "        # normalize training/scoring data\n",
    "        rowdf = normdf(rowdf, modnorms)\n",
    "        startpos = period-1-offset\n",
    "        rowdf = rowdf.iloc[startpos:].append(rowdf.iloc[:startpos])  # [ANDY] why?\n",
    "        row = np.concatenate([rowdf[y].dropna() for y in ycols])\n",
    "        rows.append(row)\n",
    "\n",
    "    collens = set(len(r) for r in rows)\n",
    "    if len(collens)!=1:\n",
    "        logging.error(f\"detected row lengths: {collens}\")\n",
    "        raise MisalignedColumnsError(\"unable to create input data because dimensions don't match\")\n",
    "\n",
    "    numcols = collens.pop()\n",
    "\n",
    "    return np.concatenate(rows).reshape(( -1, numcols ))"
   ]
  },
  {
   "cell_type": "code",
   "execution_count": 13,
   "id": "07ab291e",
   "metadata": {},
   "outputs": [
    {
     "data": {
      "text/plain": [
       "<matplotlib.axes._subplots.AxesSubplot at 0x7f9cae268350>"
      ]
     },
     "execution_count": 13,
     "metadata": {},
     "output_type": "execute_result"
    },
    {
     "data": {
      "image/png": "[encoded data removed]",
      "text/plain": [
       "<Figure size 1152x576 with 1 Axes>"
      ]
     },
     "metadata": {
      "needs_background": "light"
     },
     "output_type": "display_data"
    }
   ],
   "source": [
    "\n",
    "for t in time_index_weekdays:\n",
    "    times = nona_weekdays[nona_weekdays['time_index']==t].index\n",
    "    signals = generate_model_input(df_test_weekdays, ycols, times, params['weekdays']['period'], params['weekdays']['modnorms'], offset=t, median_values=params['weekdays']['profile'])\n",
    "    _signals = signals.reshape([signals.shape[0], -1])\n",
    "\n",
    "    _signals = torch.from_numpy(signals)\n",
    "    signals = Variable(_signals.float())\n",
    "    code,preds = ae_list[0](signals)\n",
    "    errors = np.sum(np.square((signals-preds).detach().numpy()), axis=1)\n",
    "    test_seq_weekdays.loc[times, 'score'] = errors\n",
    "    #logging.info(f\"finished scoring window {t}\")\n",
    "\n",
    "#K.clear_session()\n",
    "\n",
    "test_seq_weekdays[['score']].plot(figsize=[16,8])"
   ]
  },
  {
   "cell_type": "code",
   "execution_count": 14,
   "id": "6b9d7c60",
   "metadata": {},
   "outputs": [
    {
     "data": {
      "text/plain": [
       "<matplotlib.axes._subplots.AxesSubplot at 0x7f9cae28a550>"
      ]
     },
     "execution_count": 14,
     "metadata": {},
     "output_type": "execute_result"
    },
    {
     "data": {
      "image/png": "[encoded data removed]",
      "text/plain": [
       "<Figure size 1152x576 with 1 Axes>"
      ]
     },
     "metadata": {
      "needs_background": "light"
     },
     "output_type": "display_data"
    }
   ],
   "source": [
    "for t in time_index_weekends:\n",
    "    times = nona_weekends[nona_weekends['time_index']==t].index\n",
    "    signals = generate_model_input(df_test_weekends, ycols, times, params['weekends']['period'], params['weekends']['modnorms'], offset=t, median_values=params['weekends']['profile'])\n",
    "    _signals = signals.reshape([signals.shape[0], -1])\n",
    "\n",
    "    _signals = torch.from_numpy(signals)\n",
    "    signals = Variable(_signals.float())\n",
    "    code,preds = ae_list[1](signals)\n",
    "    errors = np.sum(np.square((signals-preds).detach().numpy()), axis=1)\n",
    "    test_seq_weekends.loc[times, 'score'] = errors\n",
    "    #logging.info(f\"finished scoring window {t}\")\n",
    "\n",
    "#K.clear_session()\n",
    "\n",
    "test_seq_weekends[['score']].plot(figsize=[16,8])"
   ]
  },
  {
   "cell_type": "code",
   "execution_count": null,
   "id": "a3ac50fc",
   "metadata": {},
   "outputs": [],
   "source": []
  }
 ],
 "metadata": {
  "kernelspec": {
   "display_name": "Python 3",
   "language": "python",
   "name": "python3"
  },
  "language_info": {
   "codemirror_mode": {
    "name": "ipython",
    "version": 3
   },
   "file_extension": ".py",
   "mimetype": "text/x-python",
   "name": "python",
   "nbconvert_exporter": "python",
   "pygments_lexer": "ipython3",
   "version": "3.7.4"
  }
 },
 "nbformat": 4,
 "nbformat_minor": 5
}
