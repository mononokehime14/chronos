{
 "cells": [
  {
   "cell_type": "markdown",
   "id": "0201f718",
   "metadata": {},
   "source": [
    "## Training PyTorch Autoencoder model ##\n",
    "This notebook uses pipeline to train PyTorch AE model and test it on test dataset."
   ]
  },
  {
   "cell_type": "code",
   "execution_count": 1,
   "id": "44163da6",
   "metadata": {
    "tags": []
   },
   "outputs": [],
   "source": [
    "import time\n",
    "import random\n",
    "import math\n",
    "import logging\n",
    "import numpy as np\n",
    "import pandas as pd\n",
    "import os\n",
    "\n",
    "import torch\n",
    "from torch import nn, optim\n",
    "from torch.utils.data import DataLoader, Dataset\n",
    "from torch.autograd import Variable\n",
    "from torchvision import transforms, datasets, models\n",
    "from torch.utils.tensorboard import SummaryWriter\n",
    "from torch.utils.data.dataset import random_split"
   ]
  },
  {
   "cell_type": "code",
   "execution_count": 2,
   "id": "8348b2ff",
   "metadata": {},
   "outputs": [
    {
     "name": "stdout",
     "output_type": "stream",
     "text": [
      "/Users/preh0405/Desktop/chronos+/notebook\n"
     ]
    }
   ],
   "source": [
    "print(os.getcwd())\n",
    "fname = \"data/gt-weekly.zip\"\n",
    "dscol = 'time'\n",
    "ycols = ['i1','i2','i3','i4','i5','i6','i7','i8','i9','i10']"
   ]
  },
  {
   "cell_type": "markdown",
   "id": "638a918d",
   "metadata": {},
   "source": [
    "## Pipeline of training"
   ]
  },
  {
   "cell_type": "code",
   "execution_count": 3,
   "id": "8fd40818",
   "metadata": {},
   "outputs": [
    {
     "name": "stderr",
     "output_type": "stream",
     "text": [
      "Using TensorFlow backend.\n",
      "/Users/preh0405/opt/anaconda3/envs/chrono/lib/python3.7/site-packages/tensorflow/python/framework/dtypes.py:516: FutureWarning: Passing (type, 1) or '1type' as a synonym of type is deprecated; in a future version of numpy, it will be understood as (type, (1,)) / '(1,)type'.\n",
      "  _np_qint8 = np.dtype([(\"qint8\", np.int8, 1)])\n",
      "/Users/preh0405/opt/anaconda3/envs/chrono/lib/python3.7/site-packages/tensorflow/python/framework/dtypes.py:517: FutureWarning: Passing (type, 1) or '1type' as a synonym of type is deprecated; in a future version of numpy, it will be understood as (type, (1,)) / '(1,)type'.\n",
      "  _np_quint8 = np.dtype([(\"quint8\", np.uint8, 1)])\n",
      "/Users/preh0405/opt/anaconda3/envs/chrono/lib/python3.7/site-packages/tensorflow/python/framework/dtypes.py:518: FutureWarning: Passing (type, 1) or '1type' as a synonym of type is deprecated; in a future version of numpy, it will be understood as (type, (1,)) / '(1,)type'.\n",
      "  _np_qint16 = np.dtype([(\"qint16\", np.int16, 1)])\n",
      "/Users/preh0405/opt/anaconda3/envs/chrono/lib/python3.7/site-packages/tensorflow/python/framework/dtypes.py:519: FutureWarning: Passing (type, 1) or '1type' as a synonym of type is deprecated; in a future version of numpy, it will be understood as (type, (1,)) / '(1,)type'.\n",
      "  _np_quint16 = np.dtype([(\"quint16\", np.uint16, 1)])\n",
      "/Users/preh0405/opt/anaconda3/envs/chrono/lib/python3.7/site-packages/tensorflow/python/framework/dtypes.py:520: FutureWarning: Passing (type, 1) or '1type' as a synonym of type is deprecated; in a future version of numpy, it will be understood as (type, (1,)) / '(1,)type'.\n",
      "  _np_qint32 = np.dtype([(\"qint32\", np.int32, 1)])\n",
      "/Users/preh0405/opt/anaconda3/envs/chrono/lib/python3.7/site-packages/tensorflow/python/framework/dtypes.py:525: FutureWarning: Passing (type, 1) or '1type' as a synonym of type is deprecated; in a future version of numpy, it will be understood as (type, (1,)) / '(1,)type'.\n",
      "  np_resource = np.dtype([(\"resource\", np.ubyte, 1)])\n"
     ]
    },
    {
     "name": "stdout",
     "output_type": "stream",
     "text": [
      "/Users/preh0405/Desktop/chronos+/notebook\n"
     ]
    },
    {
     "data": {
      "application/vnd.jupyter.widget-view+json": {
       "model_id": "a37a84f3df234ec38d9ddb7acf73235c",
       "version_major": 2,
       "version_minor": 0
      },
      "text/plain": [
       "Finding frequency:   0%|          | 0/2 [00:00<?, ?it/s]"
      ]
     },
     "metadata": {},
     "output_type": "display_data"
    },
    {
     "data": {
      "application/vnd.jupyter.widget-view+json": {
       "model_id": "6c15dbc3e9af42ad808cb50ce9dd5569",
       "version_major": 2,
       "version_minor": 0
      },
      "text/plain": [
       "Detecting Period:   0%|          | 0/2 [00:00<?, ?it/s]"
      ]
     },
     "metadata": {},
     "output_type": "display_data"
    },
    {
     "name": "stderr",
     "output_type": "stream",
     "text": [
      "/Users/preh0405/opt/anaconda3/envs/chrono/lib/python3.7/site-packages/statsmodels/tsa/stattools.py:541: FutureWarning: fft=True will become the default in a future version of statsmodels. To suppress this warning, explicitly set fft=False.\n",
      "  warnings.warn(msg, FutureWarning)\n"
     ]
    },
    {
     "data": {
      "application/vnd.jupyter.widget-view+json": {
       "model_id": "2bb0d42bb66545919f0da437511c968a",
       "version_major": 2,
       "version_minor": 0
      },
      "text/plain": [
       "Aligning data:   0%|          | 0/2 [00:00<?, ?it/s]"
      ]
     },
     "metadata": {},
     "output_type": "display_data"
    },
    {
     "name": "stdout",
     "output_type": "stream",
     "text": [
      "(35279, 10)\n",
      "(31679, 10)\n",
      "dict_keys(['ycols', 'dscol', 'orient', 'weekdays', 'weekends'])\n",
      "dict_keys(['minfreq', 'colfreqs', 'period', 'anchors', 'zeropoint'])\n",
      "dict_keys(['minfreq', 'colfreqs', 'period', 'anchors', 'zeropoint'])\n"
     ]
    },
    {
     "data": {
      "application/vnd.jupyter.widget-view+json": {
       "model_id": "040cef14260b47c0b7eb821befbe2abf",
       "version_major": 2,
       "version_minor": 0
      },
      "text/plain": [
       "Dropping Extrema:   0%|          | 0/2 [00:00<?, ?it/s]"
      ]
     },
     "metadata": {},
     "output_type": "display_data"
    },
    {
     "data": {
      "application/vnd.jupyter.widget-view+json": {
       "model_id": "26c20a0025f047198b36d7b04f160a99",
       "version_major": 2,
       "version_minor": 0
      },
      "text/plain": [
       "Normalising:   0%|          | 0/2 [00:00<?, ?it/s]"
      ]
     },
     "metadata": {},
     "output_type": "display_data"
    },
    {
     "data": {
      "application/vnd.jupyter.widget-view+json": {
       "model_id": "dbf4c3efb57148d5a9e04e2df0ee33e1",
       "version_major": 2,
       "version_minor": 0
      },
      "text/plain": [
       "Filling gap:   0%|          | 0/2 [00:00<?, ?it/s]"
      ]
     },
     "metadata": {},
     "output_type": "display_data"
    },
    {
     "name": "stdout",
     "output_type": "stream",
     "text": [
      "ok10\n",
      "ok20\n",
      "ok11\n",
      "ok21\n",
      "(35279, 11)\n",
      "(31679, 11)\n",
      "dict_keys(['ycols', 'dscol', 'orient', 'weekdays', 'weekends'])\n",
      "dict_keys(['minfreq', 'colfreqs', 'period', 'anchors', 'zeropoint', 'modnorms', 'profile', 'time_index'])\n",
      "dict_keys(['minfreq', 'colfreqs', 'period', 'anchors', 'zeropoint', 'modnorms', 'profile', 'time_index'])\n"
     ]
    },
    {
     "data": {
      "application/vnd.jupyter.widget-view+json": {
       "model_id": "1d4ac3cb06b940c1ac1fcda24296364e",
       "version_major": 2,
       "version_minor": 0
      },
      "text/plain": [
       "Generating Input:   0%|          | 0/2 [00:00<?, ?it/s]"
      ]
     },
     "metadata": {},
     "output_type": "display_data"
    },
    {
     "name": "stdout",
     "output_type": "stream",
     "text": [
      "(48, 7200)\n",
      "(43, 7200)\n",
      "dict_keys(['ycols', 'dscol', 'orient', 'weekdays', 'weekends'])\n",
      "dict_keys(['minfreq', 'colfreqs', 'period', 'anchors', 'zeropoint', 'modnorms', 'profile', 'time_index'])\n",
      "dict_keys(['minfreq', 'colfreqs', 'period', 'anchors', 'zeropoint', 'modnorms', 'profile', 'time_index'])\n",
      "720\n",
      "epoch number:0 train_loss: 0.029712624847888947 val_loss: 0.014311168269162617\n",
      "epoch number:0 train_loss: 0.032452795654535294 val_loss: 0.01609770514051012\n",
      "720\n"
     ]
    }
   ],
   "source": [
    "from modeling.pytorch_ae import TrainPytorchAE\n",
    "from preprocessing.preprocessor import LeftPad\n",
    "from preprocessing.preprocessor import LoadData, FindFrequency, PeriodDetect, AlignData, DropExtrema, Normalizer, FillGap, GenerateInput\n",
    "from pipeline import Pipeline\n",
    "\n",
    "training_list = [\n",
    "    LoadData(fname, dscol, ycols),\n",
    "    FindFrequency(),\n",
    "    PeriodDetect(),\n",
    "    AlignData(),\n",
    "    DropExtrema(),\n",
    "    Normalizer(),\n",
    "    FillGap(),\n",
    "    GenerateInput(),\n",
    "    TrainPytorchAE(batch_size=32, lr=1e-05, epochs=1000, tolerence=4)\n",
    "]\n",
    "training_pipeline = Pipeline()\n",
    "training_pipeline.fit_transform(training_list)"
   ]
  },
  {
   "cell_type": "markdown",
   "id": "bce13d36",
   "metadata": {},
   "source": [
    "## Testing using pipeline ##"
   ]
  },
  {
   "cell_type": "code",
   "execution_count": 4,
   "id": "478cfe3b",
   "metadata": {},
   "outputs": [
    {
     "name": "stdout",
     "output_type": "stream",
     "text": [
      "成功移植\n"
     ]
    },
    {
     "data": {
      "application/vnd.jupyter.widget-view+json": {
       "model_id": "60a0f09743634d0f8b13841515a1e3f0",
       "version_major": 2,
       "version_minor": 0
      },
      "text/plain": [
       "Finding frequency:   0%|          | 0/2 [00:00<?, ?it/s]"
      ]
     },
     "metadata": {},
     "output_type": "display_data"
    },
    {
     "data": {
      "application/vnd.jupyter.widget-view+json": {
       "model_id": "7e30a9c214924cff8d7736bcfa41a9cd",
       "version_major": 2,
       "version_minor": 0
      },
      "text/plain": [
       "Aligning data:   0%|          | 0/2 [00:00<?, ?it/s]"
      ]
     },
     "metadata": {},
     "output_type": "display_data"
    },
    {
     "name": "stdout",
     "output_type": "stream",
     "text": [
      "(5039, 10)\n",
      "(1439, 10)\n",
      "dict_keys(['ycols', 'dscol', 'orient', 'weekdays', 'weekends'])\n",
      "dict_keys(['minfreq', 'colfreqs', 'period', 'anchors', 'zeropoint', 'modnorms', 'profile', 'time_index'])\n",
      "dict_keys(['minfreq', 'colfreqs', 'period', 'anchors', 'zeropoint', 'modnorms', 'profile', 'time_index'])\n"
     ]
    },
    {
     "data": {
      "application/vnd.jupyter.widget-view+json": {
       "model_id": "917e8840473540d09f0636d23ad96797",
       "version_major": 2,
       "version_minor": 0
      },
      "text/plain": [
       "Normalising:   0%|          | 0/2 [00:00<?, ?it/s]"
      ]
     },
     "metadata": {},
     "output_type": "display_data"
    },
    {
     "data": {
      "application/vnd.jupyter.widget-view+json": {
       "model_id": "1fdc4fdc6c87426b9487167626ea93c6",
       "version_major": 2,
       "version_minor": 0
      },
      "text/plain": [
       "  0%|          | 0/2 [00:00<?, ?it/s]"
      ]
     },
     "metadata": {},
     "output_type": "display_data"
    },
    {
     "data": {
      "application/vnd.jupyter.widget-view+json": {
       "model_id": "b002e3bcf344490b9303e6d9d04fdc0e",
       "version_major": 2,
       "version_minor": 0
      },
      "text/plain": [
       "Filling gap:   0%|          | 0/2 [00:00<?, ?it/s]"
      ]
     },
     "metadata": {},
     "output_type": "display_data"
    },
    {
     "name": "stdout",
     "output_type": "stream",
     "text": [
      "ok10\n",
      "ok20\n",
      "ok11\n",
      "ok21\n",
      "(5758, 11)\n",
      "(2158, 11)\n",
      "dict_keys(['ycols', 'dscol', 'orient', 'weekdays', 'weekends'])\n",
      "dict_keys(['minfreq', 'colfreqs', 'period', 'anchors', 'zeropoint', 'modnorms', 'profile', 'time_index'])\n",
      "dict_keys(['minfreq', 'colfreqs', 'period', 'anchors', 'zeropoint', 'modnorms', 'profile', 'time_index'])\n",
      "成功移植\n"
     ]
    },
    {
     "data": {
      "application/vnd.jupyter.widget-view+json": {
       "model_id": "201e99aceb9b415e8a854bd4d8ea7f8d",
       "version_major": 2,
       "version_minor": 0
      },
      "text/plain": [
       "Finding frequency:   0%|          | 0/2 [00:00<?, ?it/s]"
      ]
     },
     "metadata": {},
     "output_type": "display_data"
    },
    {
     "data": {
      "application/vnd.jupyter.widget-view+json": {
       "model_id": "e2fff8f6118f468796c2c952fab48887",
       "version_major": 2,
       "version_minor": 0
      },
      "text/plain": [
       "Aligning data:   0%|          | 0/2 [00:00<?, ?it/s]"
      ]
     },
     "metadata": {},
     "output_type": "display_data"
    },
    {
     "name": "stdout",
     "output_type": "stream",
     "text": [
      "(5039, 10)\n",
      "(1439, 10)\n",
      "dict_keys(['ycols', 'dscol', 'orient', 'weekdays', 'weekends'])\n",
      "dict_keys(['minfreq', 'colfreqs', 'period', 'anchors', 'zeropoint', 'modnorms', 'profile', 'time_index'])\n",
      "dict_keys(['minfreq', 'colfreqs', 'period', 'anchors', 'zeropoint', 'modnorms', 'profile', 'time_index'])\n"
     ]
    },
    {
     "data": {
      "application/vnd.jupyter.widget-view+json": {
       "model_id": "750d55da34d445dc8a8e82967958eb3a",
       "version_major": 2,
       "version_minor": 0
      },
      "text/plain": [
       "Normalising:   0%|          | 0/2 [00:00<?, ?it/s]"
      ]
     },
     "metadata": {},
     "output_type": "display_data"
    }
   ],
   "source": [
    "test_seq_2 = training_pipeline.prediction('data/210129-210204_weekly.csv')"
   ]
  },
  {
   "cell_type": "code",
   "execution_count": 5,
   "id": "caff0cc7",
   "metadata": {},
   "outputs": [
    {
     "data": {
      "text/plain": [
       "<matplotlib.axes._subplots.AxesSubplot at 0x7fa3eed59950>"
      ]
     },
     "execution_count": 5,
     "metadata": {},
     "output_type": "execute_result"
    },
    {
     "data": {
      "image/png": "[encoded data removed]",
      "text/plain": [
       "<Figure size 1152x576 with 1 Axes>"
      ]
     },
     "metadata": {
      "needs_background": "light"
     },
     "output_type": "display_data"
    }
   ],
   "source": [
    "test_seq_2[0][['score']].plot(figsize=[16,8])"
   ]
  },
  {
   "cell_type": "code",
   "execution_count": 6,
   "id": "ee4760b3",
   "metadata": {},
   "outputs": [
    {
     "data": {
      "text/plain": [
       "<matplotlib.axes._subplots.AxesSubplot at 0x7fa3ef1e1210>"
      ]
     },
     "execution_count": 6,
     "metadata": {},
     "output_type": "execute_result"
    },
    {
     "data": {
      "image/png": "[encoded data removed]",
      "text/plain": [
       "<Figure size 1152x576 with 1 Axes>"
      ]
     },
     "metadata": {
      "needs_background": "light"
     },
     "output_type": "display_data"
    }
   ],
   "source": [
    "test_seq_2[1][['score']].plot(figsize=[16,8])"
   ]
  }
 ],
 "metadata": {
  "kernelspec": {
   "display_name": "Python 3",
   "language": "python",
   "name": "python3"
  },
  "language_info": {
   "codemirror_mode": {
    "name": "ipython",
    "version": 3
   },
   "file_extension": ".py",
   "mimetype": "text/x-python",
   "name": "python",
   "nbconvert_exporter": "python",
   "pygments_lexer": "ipython3",
   "version": "3.7.4"
  }
 },
 "nbformat": 4,
 "nbformat_minor": 5
}
