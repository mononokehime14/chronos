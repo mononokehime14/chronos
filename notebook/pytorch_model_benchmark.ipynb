{
 "cells": [
  {
   "cell_type": "markdown",
   "id": "9516b7a9",
   "metadata": {
    "tags": []
   },
   "source": [
    "## Benchmark ##\n",
    "\n",
    "Ensure long enough epochs, to test perfomrnace of various hyperparameters\n",
    "\n",
    "* batchidx\n",
    "* epochs\n",
    "* learning rate\n",
    "\n",
    "No early stopping rules in benchmark testing because we want enough epochs to see the performance trends."
   ]
  },
  {
   "cell_type": "code",
   "execution_count": 1,
   "id": "17aadfb3",
   "metadata": {
    "tags": []
   },
   "outputs": [],
   "source": [
    "import time\n",
    "import random\n",
    "import pandas as pd\n",
    "import numpy as np\n",
    "import math\n",
    "import logging\n",
    "\n",
    "import torch\n",
    "from torch import nn, optim\n",
    "from torch.utils.data import DataLoader, Dataset\n",
    "from torch.autograd import Variable\n",
    "from torchvision import transforms, datasets, models\n",
    "from torch.utils.tensorboard import SummaryWriter\n",
    "from torch.utils.data.dataset import random_split\n"
   ]
  },
  {
   "cell_type": "markdown",
   "id": "384e5309",
   "metadata": {},
   "source": [
    "## Define Hyperparameter settings ##"
   ]
  },
  {
   "cell_type": "code",
   "execution_count": 2,
   "id": "e903098d",
   "metadata": {},
   "outputs": [],
   "source": [
    "epochs_list = [10, 100]\n",
    "lr_list = [0.01, 0.001]\n",
    "batchsize_list = [32]"
   ]
  },
  {
   "cell_type": "code",
   "execution_count": 3,
   "id": "6fe52d56",
   "metadata": {},
   "outputs": [],
   "source": [
    "fname = \"data/gt-weekly.zip\"\n",
    "dscol = 'time'\n",
    "ycols = ['i1','i2','i3','i4','i5','i6','i7','i8','i9','i10']"
   ]
  },
  {
   "cell_type": "markdown",
   "id": "4cfd91c3",
   "metadata": {},
   "source": [
    "## Pipeline for benchmark testing ##"
   ]
  },
  {
   "cell_type": "code",
   "execution_count": 4,
   "id": "40b6dcb6",
   "metadata": {},
   "outputs": [
    {
     "name": "stderr",
     "output_type": "stream",
     "text": [
      "Using TensorFlow backend.\n",
      "/Users/preh0405/opt/anaconda3/envs/chrono/lib/python3.7/site-packages/tensorflow/python/framework/dtypes.py:516: FutureWarning: Passing (type, 1) or '1type' as a synonym of type is deprecated; in a future version of numpy, it will be understood as (type, (1,)) / '(1,)type'.\n",
      "  _np_qint8 = np.dtype([(\"qint8\", np.int8, 1)])\n",
      "/Users/preh0405/opt/anaconda3/envs/chrono/lib/python3.7/site-packages/tensorflow/python/framework/dtypes.py:517: FutureWarning: Passing (type, 1) or '1type' as a synonym of type is deprecated; in a future version of numpy, it will be understood as (type, (1,)) / '(1,)type'.\n",
      "  _np_quint8 = np.dtype([(\"quint8\", np.uint8, 1)])\n",
      "/Users/preh0405/opt/anaconda3/envs/chrono/lib/python3.7/site-packages/tensorflow/python/framework/dtypes.py:518: FutureWarning: Passing (type, 1) or '1type' as a synonym of type is deprecated; in a future version of numpy, it will be understood as (type, (1,)) / '(1,)type'.\n",
      "  _np_qint16 = np.dtype([(\"qint16\", np.int16, 1)])\n",
      "/Users/preh0405/opt/anaconda3/envs/chrono/lib/python3.7/site-packages/tensorflow/python/framework/dtypes.py:519: FutureWarning: Passing (type, 1) or '1type' as a synonym of type is deprecated; in a future version of numpy, it will be understood as (type, (1,)) / '(1,)type'.\n",
      "  _np_quint16 = np.dtype([(\"quint16\", np.uint16, 1)])\n",
      "/Users/preh0405/opt/anaconda3/envs/chrono/lib/python3.7/site-packages/tensorflow/python/framework/dtypes.py:520: FutureWarning: Passing (type, 1) or '1type' as a synonym of type is deprecated; in a future version of numpy, it will be understood as (type, (1,)) / '(1,)type'.\n",
      "  _np_qint32 = np.dtype([(\"qint32\", np.int32, 1)])\n",
      "/Users/preh0405/opt/anaconda3/envs/chrono/lib/python3.7/site-packages/tensorflow/python/framework/dtypes.py:525: FutureWarning: Passing (type, 1) or '1type' as a synonym of type is deprecated; in a future version of numpy, it will be understood as (type, (1,)) / '(1,)type'.\n",
      "  np_resource = np.dtype([(\"resource\", np.ubyte, 1)])\n"
     ]
    },
    {
     "name": "stdout",
     "output_type": "stream",
     "text": [
      "/Users/preh0405/Desktop/chronos+/notebook\n",
      "/Users/preh0405/Desktop/chronos+/notebook\n"
     ]
    },
    {
     "data": {
      "application/vnd.jupyter.widget-view+json": {
       "model_id": "a07395cdb7594af7b68a187c57a0c740",
       "version_major": 2,
       "version_minor": 0
      },
      "text/plain": [
       "Finding frequency:   0%|          | 0/2 [00:00<?, ?it/s]"
      ]
     },
     "metadata": {},
     "output_type": "display_data"
    },
    {
     "data": {
      "application/vnd.jupyter.widget-view+json": {
       "model_id": "9ec5aa6966684edfa516c24f7d9d18d9",
       "version_major": 2,
       "version_minor": 0
      },
      "text/plain": [
       "Detecting Period:   0%|          | 0/2 [00:00<?, ?it/s]"
      ]
     },
     "metadata": {},
     "output_type": "display_data"
    },
    {
     "name": "stderr",
     "output_type": "stream",
     "text": [
      "/Users/preh0405/opt/anaconda3/envs/chrono/lib/python3.7/site-packages/statsmodels/tsa/stattools.py:541: FutureWarning: fft=True will become the default in a future version of statsmodels. To suppress this warning, explicitly set fft=False.\n",
      "  warnings.warn(msg, FutureWarning)\n"
     ]
    },
    {
     "data": {
      "application/vnd.jupyter.widget-view+json": {
       "model_id": "02d3c31d62ad4671b29ff4058ff1571b",
       "version_major": 2,
       "version_minor": 0
      },
      "text/plain": [
       "Aligning data:   0%|          | 0/2 [00:00<?, ?it/s]"
      ]
     },
     "metadata": {},
     "output_type": "display_data"
    },
    {
     "name": "stdout",
     "output_type": "stream",
     "text": [
      "(35279, 10)\n",
      "(31679, 10)\n",
      "dict_keys(['ycols', 'dscol', 'orient', 'weekdays', 'weekends'])\n",
      "dict_keys(['minfreq', 'colfreqs', 'period', 'anchors', 'zeropoint'])\n",
      "dict_keys(['minfreq', 'colfreqs', 'period', 'anchors', 'zeropoint'])\n"
     ]
    },
    {
     "data": {
      "application/vnd.jupyter.widget-view+json": {
       "model_id": "fab2ab834d27409d82137b8fe1f42d72",
       "version_major": 2,
       "version_minor": 0
      },
      "text/plain": [
       "Dropping Extrema:   0%|          | 0/2 [00:00<?, ?it/s]"
      ]
     },
     "metadata": {},
     "output_type": "display_data"
    },
    {
     "data": {
      "application/vnd.jupyter.widget-view+json": {
       "model_id": "e5e27086d1a4413198d3c789155e3754",
       "version_major": 2,
       "version_minor": 0
      },
      "text/plain": [
       "Normalising:   0%|          | 0/2 [00:00<?, ?it/s]"
      ]
     },
     "metadata": {},
     "output_type": "display_data"
    },
    {
     "data": {
      "application/vnd.jupyter.widget-view+json": {
       "model_id": "c77532ad7fb945ef932e89e2c4dafd42",
       "version_major": 2,
       "version_minor": 0
      },
      "text/plain": [
       "Filling gap:   0%|          | 0/2 [00:00<?, ?it/s]"
      ]
     },
     "metadata": {},
     "output_type": "display_data"
    },
    {
     "name": "stdout",
     "output_type": "stream",
     "text": [
      "ok10\n",
      "ok20\n",
      "ok11\n",
      "ok21\n",
      "(35279, 11)\n",
      "(31679, 11)\n",
      "dict_keys(['ycols', 'dscol', 'orient', 'weekdays', 'weekends'])\n",
      "dict_keys(['minfreq', 'colfreqs', 'period', 'anchors', 'zeropoint', 'modnorms', 'profile', 'time_index'])\n",
      "dict_keys(['minfreq', 'colfreqs', 'period', 'anchors', 'zeropoint', 'modnorms', 'profile', 'time_index'])\n"
     ]
    },
    {
     "data": {
      "application/vnd.jupyter.widget-view+json": {
       "model_id": "45d8788910eb4e01b827e48de83e9051",
       "version_major": 2,
       "version_minor": 0
      },
      "text/plain": [
       "Generating Input:   0%|          | 0/2 [00:00<?, ?it/s]"
      ]
     },
     "metadata": {},
     "output_type": "display_data"
    },
    {
     "name": "stdout",
     "output_type": "stream",
     "text": [
      "(48, 7200)\n",
      "(43, 7200)\n",
      "dict_keys(['ycols', 'dscol', 'orient', 'weekdays', 'weekends'])\n",
      "dict_keys(['minfreq', 'colfreqs', 'period', 'anchors', 'zeropoint', 'modnorms', 'profile', 'time_index'])\n",
      "dict_keys(['minfreq', 'colfreqs', 'period', 'anchors', 'zeropoint', 'modnorms', 'profile', 'time_index'])\n"
     ]
    },
    {
     "data": {
      "application/vnd.jupyter.widget-view+json": {
       "model_id": "e52740bfca8a4bf6b1cb83b65c1b64b9",
       "version_major": 2,
       "version_minor": 0
      },
      "text/plain": [
       "  0%|          | 0/1 [00:00<?, ?it/s]"
      ]
     },
     "metadata": {},
     "output_type": "display_data"
    },
    {
     "data": {
      "application/vnd.jupyter.widget-view+json": {
       "model_id": "4d56fd2765324f0494e60d5ad0391ee9",
       "version_major": 2,
       "version_minor": 0
      },
      "text/plain": [
       "  0%|          | 0/2 [00:00<?, ?it/s]"
      ]
     },
     "metadata": {},
     "output_type": "display_data"
    },
    {
     "data": {
      "application/vnd.jupyter.widget-view+json": {
       "model_id": "1d9a52bdd0ca4a209a278026a9256bb1",
       "version_major": 2,
       "version_minor": 0
      },
      "text/plain": [
       "  0%|          | 0/2 [00:00<?, ?it/s]"
      ]
     },
     "metadata": {},
     "output_type": "display_data"
    },
    {
     "name": "stdout",
     "output_type": "stream",
     "text": [
      "epoch number:0 train_loss: 40332.6474916907 val_loss: 16.928953517558394\n",
      "epoch number:0 train_loss: 40909.596743721515 val_loss: 26.7432607573985\n"
     ]
    },
    {
     "data": {
      "application/vnd.jupyter.widget-view+json": {
       "model_id": "6c9167cb3ce04ee58f0d51a73ed55ec2",
       "version_major": 2,
       "version_minor": 0
      },
      "text/plain": [
       "  0%|          | 0/2 [00:00<?, ?it/s]"
      ]
     },
     "metadata": {},
     "output_type": "display_data"
    },
    {
     "name": "stdout",
     "output_type": "stream",
     "text": [
      "epoch number:0 train_loss: 0.023890315555036068 val_loss: 0.009157444830005154\n",
      "epoch number:0 train_loss: 0.024072835221886635 val_loss: 0.008795743633410492\n"
     ]
    },
    {
     "data": {
      "application/vnd.jupyter.widget-view+json": {
       "model_id": "466e1c0e29ca4436b4d0fa2ede1fbfa2",
       "version_major": 2,
       "version_minor": 0
      },
      "text/plain": [
       "  0%|          | 0/1 [00:00<?, ?it/s]"
      ]
     },
     "metadata": {},
     "output_type": "display_data"
    },
    {
     "data": {
      "application/vnd.jupyter.widget-view+json": {
       "model_id": "e5dc8ccc26ad4657b8083b358c461439",
       "version_major": 2,
       "version_minor": 0
      },
      "text/plain": [
       "  0%|          | 0/2 [00:00<?, ?it/s]"
      ]
     },
     "metadata": {},
     "output_type": "display_data"
    },
    {
     "data": {
      "application/vnd.jupyter.widget-view+json": {
       "model_id": "93acf8b09f374d1ba1d5bc58403f8532",
       "version_major": 2,
       "version_minor": 0
      },
      "text/plain": [
       "  0%|          | 0/2 [00:00<?, ?it/s]"
      ]
     },
     "metadata": {},
     "output_type": "display_data"
    },
    {
     "name": "stdout",
     "output_type": "stream",
     "text": [
      "epoch number:0 train_loss: 37719.34827241115 val_loss: 15.599558796172317\n",
      "epoch number:0 train_loss: 24969.63346242346 val_loss: 37.91146965582897\n"
     ]
    },
    {
     "data": {
      "application/vnd.jupyter.widget-view+json": {
       "model_id": "ee6f517a30a94f83a92b7c359bb4d235",
       "version_major": 2,
       "version_minor": 0
      },
      "text/plain": [
       "  0%|          | 0/2 [00:00<?, ?it/s]"
      ]
     },
     "metadata": {},
     "output_type": "display_data"
    },
    {
     "name": "stdout",
     "output_type": "stream",
     "text": [
      "epoch number:0 train_loss: 0.029474372044205666 val_loss: 0.010876627230510699\n",
      "epoch number:0 train_loss: 0.027598939836025238 val_loss: 0.010896427384322772\n"
     ]
    }
   ],
   "source": [
    "from preprocessing.preprocessor import LoadData, FindFrequency, PeriodDetect, AlignData, DropExtrema, Normalizer, FillGap, GenerateInput\n",
    "from modeling.pytorch_ae_benchmark import Benchmark\n",
    "from pipeline import Pipeline\n",
    "\n",
    "benchmark_list = [\n",
    "    LoadData(fname, dscol, ycols),\n",
    "    FindFrequency(),\n",
    "    PeriodDetect(),\n",
    "    AlignData(),\n",
    "    DropExtrema(),\n",
    "    Normalizer(),\n",
    "    FillGap(),\n",
    "    GenerateInput(),\n",
    "    Benchmark(epochs_list, lr_list, batchsize_list)\n",
    "]\n",
    "benchmark_pipeline = Pipeline()\n",
    "loss_memory, val_loss_memory = benchmark_pipeline.benchmark_transform(benchmark_list)"
   ]
  },
  {
   "cell_type": "code",
   "execution_count": 5,
   "id": "06d10e14",
   "metadata": {},
   "outputs": [
    {
     "data": {
      "text/plain": [
       "<matplotlib.axes._subplots.AxesSubplot at 0x7fe93ff43210>"
      ]
     },
     "execution_count": 5,
     "metadata": {},
     "output_type": "execute_result"
    },
    {
     "data": {
      "image/png": "[encoded data removed]",
      "text/plain": [
       "<Figure size 1152x576 with 1 Axes>"
      ]
     },
     "metadata": {
      "needs_background": "light"
     },
     "output_type": "display_data"
    }
   ],
   "source": [
    "#weekdays\n",
    "loss_memory[0].plot(figsize=[16,8])"
   ]
  },
  {
   "cell_type": "code",
   "execution_count": 6,
   "id": "3849caa6",
   "metadata": {},
   "outputs": [
    {
     "data": {
      "text/plain": [
       "<matplotlib.axes._subplots.AxesSubplot at 0x7fe93ccb6a50>"
      ]
     },
     "execution_count": 6,
     "metadata": {},
     "output_type": "execute_result"
    },
    {
     "data": {
      "image/png": "[encoded data removed]",
      "text/plain": [
       "<Figure size 1152x576 with 1 Axes>"
      ]
     },
     "metadata": {
      "needs_background": "light"
     },
     "output_type": "display_data"
    }
   ],
   "source": [
    "val_loss_memory[0].plot(figsize=[16,8])"
   ]
  },
  {
   "cell_type": "code",
   "execution_count": 7,
   "id": "122aa4c4",
   "metadata": {},
   "outputs": [
    {
     "data": {
      "text/plain": [
       "<matplotlib.axes._subplots.AxesSubplot at 0x7fe93cd9ea50>"
      ]
     },
     "execution_count": 7,
     "metadata": {},
     "output_type": "execute_result"
    },
    {
     "data": {
      "image/png": "[encoded data removed]",
      "text/plain": [
       "<Figure size 1152x576 with 1 Axes>"
      ]
     },
     "metadata": {
      "needs_background": "light"
     },
     "output_type": "display_data"
    }
   ],
   "source": [
    "#weekends\n",
    "loss_memory[1].plot(figsize=[16,8])"
   ]
  },
  {
   "cell_type": "code",
   "execution_count": 8,
   "id": "b8fc46b9",
   "metadata": {},
   "outputs": [
    {
     "data": {
      "text/plain": [
       "<matplotlib.axes._subplots.AxesSubplot at 0x7fe93ce33190>"
      ]
     },
     "execution_count": 8,
     "metadata": {},
     "output_type": "execute_result"
    },
    {
     "data": {
      "image/png": "[encoded data removed]",
      "text/plain": [
       "<Figure size 1152x576 with 1 Axes>"
      ]
     },
     "metadata": {
      "needs_background": "light"
     },
     "output_type": "display_data"
    }
   ],
   "source": [
    "val_loss_memory[1].plot(figsize=[16,8])"
   ]
  }
 ],
 "metadata": {
  "kernelspec": {
   "display_name": "Python 3",
   "language": "python",
   "name": "python3"
  },
  "language_info": {
   "codemirror_mode": {
    "name": "ipython",
    "version": 3
   },
   "file_extension": ".py",
   "mimetype": "text/x-python",
   "name": "python",
   "nbconvert_exporter": "python",
   "pygments_lexer": "ipython3",
   "version": "3.7.4"
  }
 },
 "nbformat": 4,
 "nbformat_minor": 5
}
