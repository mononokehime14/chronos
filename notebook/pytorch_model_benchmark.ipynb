{
 "cells": [
  {
   "cell_type": "markdown",
   "id": "e0518255",
   "metadata": {
    "tags": []
   },
   "source": [
    "## Benchmark ##\n",
    "\n",
    "Ensure long enough epochs, to test perfomrnace of various hyperparameters\n",
    "\n",
    "* batchidx\n",
    "* epochs\n",
    "* learning rate\n",
    "\n",
    "No early stopping rules in benchmark testing because we want enough epochs to see the performance trends."
   ]
  },
  {
   "cell_type": "code",
   "execution_count": 1,
   "id": "d30c83e0",
   "metadata": {
    "tags": []
   },
   "outputs": [],
   "source": [
    "import time\n",
    "import random\n",
    "import pandas as pd\n",
    "import numpy as np\n",
    "import math\n",
    "import logging\n",
    "\n",
    "import torch\n",
    "from torch import nn, optim\n",
    "from torch.utils.data import DataLoader, Dataset\n",
    "from torch.autograd import Variable\n",
    "from torchvision import transforms, datasets, models\n",
    "from torch.utils.tensorboard import SummaryWriter\n",
    "from torch.utils.data.dataset import random_split\n"
   ]
  },
  {
   "cell_type": "markdown",
   "id": "d9eed1b0",
   "metadata": {},
   "source": [
    "### Data pre-processing pipeline ###"
   ]
  },
  {
   "cell_type": "code",
   "execution_count": 2,
   "id": "04f538f7",
   "metadata": {},
   "outputs": [],
   "source": [
    "fname = \"data/gt-weekly.zip\"\n",
    "dscol = 'time'\n",
    "ycols = ['i1','i2','i3','i4','i5','i6','i7','i8','i9','i10']"
   ]
  },
  {
   "cell_type": "code",
   "execution_count": 3,
   "id": "de1f1f8f",
   "metadata": {},
   "outputs": [
    {
     "name": "stderr",
     "output_type": "stream",
     "text": [
      "Using TensorFlow backend.\n",
      "/Users/preh0405/opt/anaconda3/envs/chrono/lib/python3.7/site-packages/tensorflow/python/framework/dtypes.py:516: FutureWarning: Passing (type, 1) or '1type' as a synonym of type is deprecated; in a future version of numpy, it will be understood as (type, (1,)) / '(1,)type'.\n",
      "  _np_qint8 = np.dtype([(\"qint8\", np.int8, 1)])\n",
      "/Users/preh0405/opt/anaconda3/envs/chrono/lib/python3.7/site-packages/tensorflow/python/framework/dtypes.py:517: FutureWarning: Passing (type, 1) or '1type' as a synonym of type is deprecated; in a future version of numpy, it will be understood as (type, (1,)) / '(1,)type'.\n",
      "  _np_quint8 = np.dtype([(\"quint8\", np.uint8, 1)])\n",
      "/Users/preh0405/opt/anaconda3/envs/chrono/lib/python3.7/site-packages/tensorflow/python/framework/dtypes.py:518: FutureWarning: Passing (type, 1) or '1type' as a synonym of type is deprecated; in a future version of numpy, it will be understood as (type, (1,)) / '(1,)type'.\n",
      "  _np_qint16 = np.dtype([(\"qint16\", np.int16, 1)])\n",
      "/Users/preh0405/opt/anaconda3/envs/chrono/lib/python3.7/site-packages/tensorflow/python/framework/dtypes.py:519: FutureWarning: Passing (type, 1) or '1type' as a synonym of type is deprecated; in a future version of numpy, it will be understood as (type, (1,)) / '(1,)type'.\n",
      "  _np_quint16 = np.dtype([(\"quint16\", np.uint16, 1)])\n",
      "/Users/preh0405/opt/anaconda3/envs/chrono/lib/python3.7/site-packages/tensorflow/python/framework/dtypes.py:520: FutureWarning: Passing (type, 1) or '1type' as a synonym of type is deprecated; in a future version of numpy, it will be understood as (type, (1,)) / '(1,)type'.\n",
      "  _np_qint32 = np.dtype([(\"qint32\", np.int32, 1)])\n",
      "/Users/preh0405/opt/anaconda3/envs/chrono/lib/python3.7/site-packages/tensorflow/python/framework/dtypes.py:525: FutureWarning: Passing (type, 1) or '1type' as a synonym of type is deprecated; in a future version of numpy, it will be understood as (type, (1,)) / '(1,)type'.\n",
      "  np_resource = np.dtype([(\"resource\", np.ubyte, 1)])\n"
     ]
    },
    {
     "data": {
      "application/vnd.jupyter.widget-view+json": {
       "model_id": "3fea5fc3c5e64d0fbac0b80df53b8643",
       "version_major": 2,
       "version_minor": 0
      },
      "text/plain": [
       "Finding frequency:   0%|          | 0/2 [00:00<?, ?it/s]"
      ]
     },
     "metadata": {},
     "output_type": "display_data"
    },
    {
     "name": "stdout",
     "output_type": "stream",
     "text": [
      "(25200, 10)\n",
      "(10080, 10)\n",
      "dict_keys(['ycols', 'dscol', 'weekdays', 'weekends', 'orient'])\n",
      "dict_keys(['minfreq', 'colfreqs'])\n",
      "dict_keys(['minfreq', 'colfreqs'])\n"
     ]
    },
    {
     "data": {
      "application/vnd.jupyter.widget-view+json": {
       "model_id": "e9825508810d4b638bde4f3e6d68b294",
       "version_major": 2,
       "version_minor": 0
      },
      "text/plain": [
       "Detecting Period:   0%|          | 0/2 [00:00<?, ?it/s]"
      ]
     },
     "metadata": {},
     "output_type": "display_data"
    },
    {
     "name": "stderr",
     "output_type": "stream",
     "text": [
      "/Users/preh0405/opt/anaconda3/envs/chrono/lib/python3.7/site-packages/statsmodels/tsa/stattools.py:541: FutureWarning: fft=True will become the default in a future version of statsmodels. To suppress this warning, explicitly set fft=False.\n",
      "  warnings.warn(msg, FutureWarning)\n"
     ]
    },
    {
     "name": "stdout",
     "output_type": "stream",
     "text": [
      "(25200, 10)\n",
      "(10080, 10)\n",
      "dict_keys(['ycols', 'dscol', 'weekdays', 'weekends', 'orient'])\n",
      "dict_keys(['minfreq', 'colfreqs', 'period'])\n",
      "dict_keys(['minfreq', 'colfreqs', 'period'])\n"
     ]
    },
    {
     "data": {
      "application/vnd.jupyter.widget-view+json": {
       "model_id": "418b2a0b40f5430cbb442ed7f2204653",
       "version_major": 2,
       "version_minor": 0
      },
      "text/plain": [
       "Aligning data:   0%|          | 0/2 [00:00<?, ?it/s]"
      ]
     },
     "metadata": {},
     "output_type": "display_data"
    },
    {
     "name": "stdout",
     "output_type": "stream",
     "text": [
      "(35279, 10)\n",
      "(31679, 10)\n",
      "dict_keys(['ycols', 'dscol', 'weekdays', 'weekends', 'orient'])\n",
      "dict_keys(['minfreq', 'colfreqs', 'period', 'anchors', 'zeropoint'])\n",
      "dict_keys(['minfreq', 'colfreqs', 'period', 'anchors', 'zeropoint'])\n"
     ]
    },
    {
     "data": {
      "application/vnd.jupyter.widget-view+json": {
       "model_id": "101cfc3e7ff1492387a9ca293eb044a2",
       "version_major": 2,
       "version_minor": 0
      },
      "text/plain": [
       "Dropping Extrema:   0%|          | 0/2 [00:00<?, ?it/s]"
      ]
     },
     "metadata": {},
     "output_type": "display_data"
    },
    {
     "name": "stdout",
     "output_type": "stream",
     "text": [
      "(35279, 10)\n",
      "(31679, 10)\n",
      "dict_keys(['ycols', 'dscol', 'weekdays', 'weekends', 'orient'])\n",
      "dict_keys(['minfreq', 'colfreqs', 'period', 'anchors', 'zeropoint'])\n",
      "dict_keys(['minfreq', 'colfreqs', 'period', 'anchors', 'zeropoint'])\n"
     ]
    },
    {
     "data": {
      "application/vnd.jupyter.widget-view+json": {
       "model_id": "eec5c89553244547804762ba50610b85",
       "version_major": 2,
       "version_minor": 0
      },
      "text/plain": [
       "Normalising:   0%|          | 0/2 [00:00<?, ?it/s]"
      ]
     },
     "metadata": {},
     "output_type": "display_data"
    },
    {
     "name": "stdout",
     "output_type": "stream",
     "text": [
      "(35279, 11)\n",
      "(31679, 11)\n",
      "dict_keys(['ycols', 'dscol', 'weekdays', 'weekends', 'orient'])\n",
      "dict_keys(['minfreq', 'colfreqs', 'period', 'anchors', 'zeropoint', 'modnorms'])\n",
      "dict_keys(['minfreq', 'colfreqs', 'period', 'anchors', 'zeropoint', 'modnorms'])\n"
     ]
    },
    {
     "data": {
      "application/vnd.jupyter.widget-view+json": {
       "model_id": "b55294c1286449db8080bc6c12509c45",
       "version_major": 2,
       "version_minor": 0
      },
      "text/plain": [
       "Filling gap:   0%|          | 0/2 [00:00<?, ?it/s]"
      ]
     },
     "metadata": {},
     "output_type": "display_data"
    },
    {
     "name": "stdout",
     "output_type": "stream",
     "text": [
      "ok10\n",
      "ok20\n",
      "ok11\n",
      "ok21\n",
      "(35279, 11)\n",
      "(31679, 11)\n",
      "dict_keys(['ycols', 'dscol', 'weekdays', 'weekends', 'orient'])\n",
      "dict_keys(['minfreq', 'colfreqs', 'period', 'anchors', 'zeropoint', 'modnorms', 'profile', 'time_index'])\n",
      "dict_keys(['minfreq', 'colfreqs', 'period', 'anchors', 'zeropoint', 'modnorms', 'profile', 'time_index'])\n",
      "(35279, 11)\n",
      "(31679, 11)\n",
      "dict_keys(['ycols', 'dscol', 'weekdays', 'weekends', 'orient'])\n",
      "dict_keys(['minfreq', 'colfreqs', 'period', 'anchors', 'zeropoint', 'modnorms', 'profile', 'time_index'])\n",
      "dict_keys(['minfreq', 'colfreqs', 'period', 'anchors', 'zeropoint', 'modnorms', 'profile', 'time_index'])\n"
     ]
    },
    {
     "data": {
      "application/vnd.jupyter.widget-view+json": {
       "model_id": "11e6afd2c7ae44758c3d69a20a2e9daa",
       "version_major": 2,
       "version_minor": 0
      },
      "text/plain": [
       "Generating Input:   0%|          | 0/2 [00:00<?, ?it/s]"
      ]
     },
     "metadata": {},
     "output_type": "display_data"
    }
   ],
   "source": [
    "from preprocessing.preprocessor import LoadData, FindFrequency, PeriodDetect, AlignData, DropExtrema, Normalizer, FillGap, GenerateInput\n",
    "from pipeline import Pipeline\n",
    "\n",
    "test_task_list = [\n",
    "    LoadData(fname, dscol, ycols),\n",
    "    FindFrequency(),\n",
    "    PeriodDetect(),\n",
    "    AlignData(),\n",
    "    DropExtrema(),\n",
    "    Normalizer(),\n",
    "    FillGap(),\n",
    "    GenerateInput()\n",
    "]\n",
    "test_pipeline = Pipeline(test_task_list)\n",
    "dats, params = test_pipeline.transform()\n",
    "dat_weekdays = dats[0]\n",
    "dat_weekends = dats[1]"
   ]
  },
  {
   "cell_type": "code",
   "execution_count": 4,
   "id": "af9a1503",
   "metadata": {},
   "outputs": [],
   "source": [
    "#AE structure\n",
    "class AutoEncoder(nn.Module):\n",
    "    def __init__(self, first_layer, layer_1, layer_2):\n",
    "        super(AutoEncoder, self).__init__()\n",
    "\n",
    "        self.encoder = nn.Sequential(\n",
    "            nn.Linear(first_layer, layer_1),\n",
    "            nn.ReLU(),\n",
    "            \n",
    "            nn.Linear(layer_1,layer_2),\n",
    "            nn.ReLU()\n",
    "        )\n",
    "        self.decoder = nn.Sequential(\n",
    "            nn.Linear(layer_2, layer_1),\n",
    "            nn.ReLU(),\n",
    "            \n",
    "            nn.Linear(layer_1, first_layer)            \n",
    "        )\n",
    "\n",
    "    def forward(self, x):\n",
    "        \n",
    "        x_encoder = self.encoder(x)\n",
    "        x_decoder = self.decoder(x_encoder)\n",
    "\n",
    "        return x_encoder,x_decoder\n",
    "    \n",
    "#custom dataset\n",
    "class ChronosDataset(Dataset):\n",
    "    def __init__(self,dat):\n",
    "        self.dat = dat\n",
    "        \n",
    "    def __len__(self):\n",
    "        return len(self.dat)\n",
    "    \n",
    "    def __getitem__(self,idx):\n",
    "        return self.dat[idx]\n",
    "\n",
    "#Trainning function\n",
    "def _fit(ae, train_loader, val_loader, epochs, batch_size, optimizer, lr, scheduler, loss_f, writer):\n",
    "    val_loss_list = []\n",
    "    loss_list = []\n",
    "    \n",
    "    for epoch in range(epochs):\n",
    "        average_loss = 0.0\n",
    "        for batchidx, x in enumerate(train_loader):\n",
    "            x = Variable(x.float())\n",
    "            _x_encoded, _x_decoded = ae(x.float())\n",
    "            loss = loss_f(_x_decoded,x)\n",
    "            average_loss += loss.item()\n",
    "            optimizer.zero_grad()\n",
    "            loss.backward()\n",
    "            optimizer.step()\n",
    "        average_loss = average_loss / batch_size\n",
    "        loss_list.append(average_loss)\n",
    "        writer.add_scalar(f'loss/{batch_size}_{epochs}_{lr}',average_loss, epoch)\n",
    "        \n",
    "        #Validation\n",
    "        with torch.no_grad():\n",
    "            average_val_loss = 0.0\n",
    "            for batchidx, x in enumerate(val_loader):\n",
    "                ae.eval()\n",
    "                _x_encoded, _x_decoded = ae(x.float())\n",
    "                val_loss = loss_f(_x_decoded,x)\n",
    "                average_val_loss += val_loss.item()\n",
    "            average_val_loss = average_val_loss / batch_size\n",
    "            val_loss_list.append(average_val_loss)\n",
    "            writer.add_scalar(f'val_loss/{batch_size}_{epochs}_{lr}',average_val_loss, epoch)\n",
    "        \n",
    "        if epoch % 100 == 0:\n",
    "            print(f'epoch number:{epoch} train_loss: {average_loss} val_loss: {average_val_loss}')\n",
    "        scheduler.step(average_loss)\n",
    "         \n",
    "\n",
    "    logging.info(f\"Training finished, epoch runned: {epoch}\")\n",
    "    return loss_list, val_loss_list\n",
    "\n",
    "# def load_checkpoint(model, checkpoint_PATH, optimizer):\n",
    "#     if checkpoint != None:\n",
    "#         model_CKPT = torch.load(checkpoint_PATH)\n",
    "#         model.load_state_dict(model_CKPT['state_dict'])\n",
    "#         print('loading checkpoint!')\n",
    "#         optimizer.load_state_dict(model_CKPT['optimizer'])\n",
    "#     return model, optimizer"
   ]
  },
  {
   "cell_type": "code",
   "execution_count": 5,
   "id": "269a7c21",
   "metadata": {},
   "outputs": [],
   "source": [
    "def complement_memory_list(lst, max_size):\n",
    "    if len(lst) == max_size:\n",
    "        return lst\n",
    "    \n",
    "    nan_len = max_size - len(lst)\n",
    "    complement = [None] * nan_len\n",
    "    lst = lst + complement\n",
    "    return lst\n",
    "\n",
    "def model_benchmark(dat, epochs_list, lr_list, batchsize_list):\n",
    "    from tqdm.notebook import trange, tqdm\n",
    "\n",
    "    #prepare data\n",
    "    train_len = int(len(dat) * 0.8)\n",
    "    val_len = len(dat) - train_len\n",
    "    train_dat, val_dat = random_split(dat, [train_len, val_len])\n",
    "    writer = SummaryWriter()\n",
    "    first_layer = dat.shape[1]\n",
    "    layer_1 = max(math.floor(first_layer/4),30) #max(math.floor(n_inputs/4), 30)\n",
    "    layer_2 = max(math.floor(layer_1/4),15) #max(math.floor(n_units_1/4), 15)\n",
    "\n",
    "#     model_candidates = []\n",
    "#     loss_list = []\n",
    "#     hyperparameter_list = []\n",
    "#     file_order = 0\n",
    "    loss_memory = pd.DataFrame()\n",
    "    val_loss_memory = pd.DataFrame()\n",
    "    max_epoch = max(epochs_list)\n",
    "    \n",
    "    for batch_size in tqdm(batchsize_list):\n",
    "        for lr in tqdm(lr_list):\n",
    "            for epochs in tqdm(epochs_list):\n",
    "            #     tolerence_percentage = (i + 1) / 10.0\n",
    "            #     tolerence = EPOCHS * tolerence_percentage\n",
    "                train_loader = DataLoader(ChronosDataset(train_dat), batch_size, True)\n",
    "                val_loader = DataLoader(ChronosDataset(val_dat), batch_size, True)\n",
    "                ae = AutoEncoder(first_layer, layer_1, layer_2)\n",
    "                optimizer = torch.optim.Adam(ae.parameters(), lr=lr)\n",
    "                scheduler = torch.optim.lr_scheduler.ReduceLROnPlateau(optimizer,factor=0.5, patience=125, verbose=True)\n",
    "                loss_f = nn.MSELoss()\n",
    "\n",
    "                loss_list, val_loss_list = _fit(ae, train_loader, val_loader, epochs, batch_size, optimizer, lr, scheduler, loss_f, writer)\n",
    "                loss_list = complement_memory_list(loss_list,max_epoch)\n",
    "                val_loss_list = complement_memory_list(val_loss_list,max_epoch)\n",
    "                column_name = f'{batch_size}_{lr}_{epochs}'\n",
    "                loss_memory[column_name] = loss_list\n",
    "                val_loss_memory[column_name] = val_loss_list\n",
    "#                 filename = f\"temperary_model/temp_model_{file_order}\"\n",
    "\n",
    "#                 model_candidates.append(filename)\n",
    "#                 loss_list.append(best_loss)\n",
    "#                 hyperparameter_list.append((lr,epochs,tolerence))\n",
    "\n",
    "#                 try:\n",
    "#                     torch.save(best_ae,filename)\n",
    "#                 except Exception as e:\n",
    "#                     raise ValueError(e)\n",
    "\n",
    "#                 file_order += 1\n",
    "                                \n",
    "#     losses = np.array(loss_list)\n",
    "#     min_loss = losses.argmin()\n",
    "#     ae = torch.load(model_candidates[min_loss])\n",
    "#     ae.eval()\n",
    "\n",
    "#     print(loss_list[min_loss])\n",
    "#     print(hyperparameter_list[min_loss])\n",
    "#     print(ae.state_dict())\n",
    "    return loss_memory, val_loss_memory"
   ]
  },
  {
   "cell_type": "markdown",
   "id": "8d31abb1",
   "metadata": {},
   "source": [
    "## Define Hyperparameter settings ##"
   ]
  },
  {
   "cell_type": "code",
   "execution_count": 6,
   "id": "ae3e62f3",
   "metadata": {},
   "outputs": [],
   "source": [
    "epochs_list = [10, 100]\n",
    "lr_list = [0.01, 0.001]\n",
    "batchsize_list = [32]"
   ]
  },
  {
   "cell_type": "markdown",
   "id": "c1e48860",
   "metadata": {},
   "source": [
    "## For Weekday model ##"
   ]
  },
  {
   "cell_type": "code",
   "execution_count": 7,
   "id": "2b5526f3",
   "metadata": {},
   "outputs": [
    {
     "data": {
      "application/vnd.jupyter.widget-view+json": {
       "model_id": "006a97e071854d41b0c186ae31c4fb34",
       "version_major": 2,
       "version_minor": 0
      },
      "text/plain": [
       "  0%|          | 0/1 [00:00<?, ?it/s]"
      ]
     },
     "metadata": {},
     "output_type": "display_data"
    },
    {
     "data": {
      "application/vnd.jupyter.widget-view+json": {
       "model_id": "33db9588ef9745ee95e4f79f9f4b6024",
       "version_major": 2,
       "version_minor": 0
      },
      "text/plain": [
       "  0%|          | 0/2 [00:00<?, ?it/s]"
      ]
     },
     "metadata": {},
     "output_type": "display_data"
    },
    {
     "data": {
      "application/vnd.jupyter.widget-view+json": {
       "model_id": "6114d359d68e4ab5b248c51678405fd5",
       "version_major": 2,
       "version_minor": 0
      },
      "text/plain": [
       "  0%|          | 0/2 [00:00<?, ?it/s]"
      ]
     },
     "metadata": {},
     "output_type": "display_data"
    },
    {
     "name": "stdout",
     "output_type": "stream",
     "text": [
      "epoch number:0 train_loss: 36843.59282613732 val_loss: 17.903528895982365\n",
      "epoch number:0 train_loss: 36730.053791687824 val_loss: 14.13454683428766\n"
     ]
    },
    {
     "data": {
      "application/vnd.jupyter.widget-view+json": {
       "model_id": "df379e8047f94cefa7e0e0fe5fd88d28",
       "version_major": 2,
       "version_minor": 0
      },
      "text/plain": [
       "  0%|          | 0/2 [00:00<?, ?it/s]"
      ]
     },
     "metadata": {},
     "output_type": "display_data"
    },
    {
     "name": "stdout",
     "output_type": "stream",
     "text": [
      "epoch number:0 train_loss: 0.029352433048188686 val_loss: 0.010094933231980444\n",
      "epoch number:0 train_loss: 0.02609049342572689 val_loss: 0.00945256403327244\n"
     ]
    },
    {
     "data": {
      "text/plain": [
       "<matplotlib.axes._subplots.AxesSubplot at 0x7f9b7d568a50>"
      ]
     },
     "execution_count": 7,
     "metadata": {},
     "output_type": "execute_result"
    },
    {
     "data": {
      "image/png": "[encoded data removed]",
      "text/plain": [
       "<Figure size 1152x576 with 1 Axes>"
      ]
     },
     "metadata": {
      "needs_background": "light"
     },
     "output_type": "display_data"
    }
   ],
   "source": [
    "loss_memory, val_loss_memory = model_benchmark(dat_weekdays, epochs_list, lr_list, batchsize_list)\n",
    "loss_memory.plot(figsize=[16,8])"
   ]
  },
  {
   "cell_type": "code",
   "execution_count": 8,
   "id": "e9f489a2",
   "metadata": {},
   "outputs": [
    {
     "data": {
      "text/plain": [
       "<matplotlib.axes._subplots.AxesSubplot at 0x7f9b7d688190>"
      ]
     },
     "execution_count": 8,
     "metadata": {},
     "output_type": "execute_result"
    },
    {
     "data": {
      "image/png": "[encoded data removed]",
      "text/plain": [
       "<Figure size 432x288 with 1 Axes>"
      ]
     },
     "metadata": {
      "needs_background": "light"
     },
     "output_type": "display_data"
    }
   ],
   "source": [
    "val_loss_memory.plot()"
   ]
  },
  {
   "cell_type": "markdown",
   "id": "fd875236",
   "metadata": {},
   "source": [
    "## For Weekends model ##"
   ]
  },
  {
   "cell_type": "code",
   "execution_count": 9,
   "id": "d14952ed",
   "metadata": {},
   "outputs": [
    {
     "data": {
      "application/vnd.jupyter.widget-view+json": {
       "model_id": "3935945ec7d24588a3b47fade132ce8e",
       "version_major": 2,
       "version_minor": 0
      },
      "text/plain": [
       "  0%|          | 0/1 [00:00<?, ?it/s]"
      ]
     },
     "metadata": {},
     "output_type": "display_data"
    },
    {
     "data": {
      "application/vnd.jupyter.widget-view+json": {
       "model_id": "e14515c67d7a4120af3e8fb513195410",
       "version_major": 2,
       "version_minor": 0
      },
      "text/plain": [
       "  0%|          | 0/2 [00:00<?, ?it/s]"
      ]
     },
     "metadata": {},
     "output_type": "display_data"
    },
    {
     "data": {
      "application/vnd.jupyter.widget-view+json": {
       "model_id": "3497bc78cfea4fc6b3bcdd1282191614",
       "version_major": 2,
       "version_minor": 0
      },
      "text/plain": [
       "  0%|          | 0/2 [00:00<?, ?it/s]"
      ]
     },
     "metadata": {},
     "output_type": "display_data"
    },
    {
     "name": "stdout",
     "output_type": "stream",
     "text": [
      "epoch number:0 train_loss: 32947.20766720176 val_loss: 33.74215759101151\n",
      "epoch number:0 train_loss: 51909.34044301696 val_loss: 21.75057836386036\n"
     ]
    },
    {
     "data": {
      "application/vnd.jupyter.widget-view+json": {
       "model_id": "393f4d1e57374d5183a4f0c82f3f49c4",
       "version_major": 2,
       "version_minor": 0
      },
      "text/plain": [
       "  0%|          | 0/2 [00:00<?, ?it/s]"
      ]
     },
     "metadata": {},
     "output_type": "display_data"
    },
    {
     "name": "stdout",
     "output_type": "stream",
     "text": [
      "epoch number:0 train_loss: 0.02928251214325428 val_loss: 0.010884153311648648\n",
      "epoch number:0 train_loss: 0.02756863832473755 val_loss: 0.010763602924040354\n"
     ]
    },
    {
     "data": {
      "text/plain": [
       "<matplotlib.axes._subplots.AxesSubplot at 0x7f9b7d7e5b10>"
      ]
     },
     "execution_count": 9,
     "metadata": {},
     "output_type": "execute_result"
    },
    {
     "data": {
      "image/png": "[encoded data removed]",
      "text/plain": [
       "<Figure size 1152x576 with 1 Axes>"
      ]
     },
     "metadata": {
      "needs_background": "light"
     },
     "output_type": "display_data"
    }
   ],
   "source": [
    "loss_memory, val_loss_memory = model_benchmark(dat_weekends, epochs_list, lr_list, batchsize_list)\n",
    "loss_memory.plot(figsize=[16,8])"
   ]
  },
  {
   "cell_type": "code",
   "execution_count": 10,
   "id": "de40968f",
   "metadata": {},
   "outputs": [
    {
     "data": {
      "text/plain": [
       "<matplotlib.axes._subplots.AxesSubplot at 0x7f9b7d42b290>"
      ]
     },
     "execution_count": 10,
     "metadata": {},
     "output_type": "execute_result"
    },
    {
     "data": {
      "image/png": "[encoded data removed]",
      "text/plain": [
       "<Figure size 1152x576 with 1 Axes>"
      ]
     },
     "metadata": {
      "needs_background": "light"
     },
     "output_type": "display_data"
    }
   ],
   "source": [
    "val_loss_memory.plot(figsize=[16,8])"
   ]
  },
  {
   "cell_type": "code",
   "execution_count": 1,
   "id": "9a6e14d5",
   "metadata": {},
   "outputs": [],
   "source": [
    "fname = \"data/gt-weekly.zip\"\n",
    "dscol = 'time'\n",
    "ycols = ['i1','i2','i3','i4','i5','i6','i7','i8','i9','i10']"
   ]
  },
  {
   "cell_type": "code",
   "execution_count": 2,
   "id": "b55e1a18",
   "metadata": {},
   "outputs": [
    {
     "name": "stderr",
     "output_type": "stream",
     "text": [
      "Using TensorFlow backend.\n",
      "/Users/preh0405/opt/anaconda3/envs/chrono/lib/python3.7/site-packages/tensorflow/python/framework/dtypes.py:516: FutureWarning: Passing (type, 1) or '1type' as a synonym of type is deprecated; in a future version of numpy, it will be understood as (type, (1,)) / '(1,)type'.\n",
      "  _np_qint8 = np.dtype([(\"qint8\", np.int8, 1)])\n",
      "/Users/preh0405/opt/anaconda3/envs/chrono/lib/python3.7/site-packages/tensorflow/python/framework/dtypes.py:517: FutureWarning: Passing (type, 1) or '1type' as a synonym of type is deprecated; in a future version of numpy, it will be understood as (type, (1,)) / '(1,)type'.\n",
      "  _np_quint8 = np.dtype([(\"quint8\", np.uint8, 1)])\n",
      "/Users/preh0405/opt/anaconda3/envs/chrono/lib/python3.7/site-packages/tensorflow/python/framework/dtypes.py:518: FutureWarning: Passing (type, 1) or '1type' as a synonym of type is deprecated; in a future version of numpy, it will be understood as (type, (1,)) / '(1,)type'.\n",
      "  _np_qint16 = np.dtype([(\"qint16\", np.int16, 1)])\n",
      "/Users/preh0405/opt/anaconda3/envs/chrono/lib/python3.7/site-packages/tensorflow/python/framework/dtypes.py:519: FutureWarning: Passing (type, 1) or '1type' as a synonym of type is deprecated; in a future version of numpy, it will be understood as (type, (1,)) / '(1,)type'.\n",
      "  _np_quint16 = np.dtype([(\"quint16\", np.uint16, 1)])\n",
      "/Users/preh0405/opt/anaconda3/envs/chrono/lib/python3.7/site-packages/tensorflow/python/framework/dtypes.py:520: FutureWarning: Passing (type, 1) or '1type' as a synonym of type is deprecated; in a future version of numpy, it will be understood as (type, (1,)) / '(1,)type'.\n",
      "  _np_qint32 = np.dtype([(\"qint32\", np.int32, 1)])\n",
      "/Users/preh0405/opt/anaconda3/envs/chrono/lib/python3.7/site-packages/tensorflow/python/framework/dtypes.py:525: FutureWarning: Passing (type, 1) or '1type' as a synonym of type is deprecated; in a future version of numpy, it will be understood as (type, (1,)) / '(1,)type'.\n",
      "  np_resource = np.dtype([(\"resource\", np.ubyte, 1)])\n"
     ]
    },
    {
     "name": "stdout",
     "output_type": "stream",
     "text": [
      "/Users/preh0405/Desktop/chrono+/notebook\n"
     ]
    },
    {
     "data": {
      "application/vnd.jupyter.widget-view+json": {
       "model_id": "e234672de95348e5ad36de74c0b9bf8e",
       "version_major": 2,
       "version_minor": 0
      },
      "text/plain": [
       "Finding frequency:   0%|          | 0/2 [00:00<?, ?it/s]"
      ]
     },
     "metadata": {},
     "output_type": "display_data"
    },
    {
     "name": "stdout",
     "output_type": "stream",
     "text": [
      "(25200, 10)\n",
      "(10080, 10)\n",
      "dict_keys(['ycols', 'dscol', 'weekdays', 'weekends', 'orient'])\n",
      "dict_keys(['minfreq', 'colfreqs'])\n",
      "dict_keys(['minfreq', 'colfreqs'])\n"
     ]
    },
    {
     "data": {
      "application/vnd.jupyter.widget-view+json": {
       "model_id": "3424c58f108341169d4bb9baef289e46",
       "version_major": 2,
       "version_minor": 0
      },
      "text/plain": [
       "Detecting Period:   0%|          | 0/2 [00:00<?, ?it/s]"
      ]
     },
     "metadata": {},
     "output_type": "display_data"
    },
    {
     "name": "stderr",
     "output_type": "stream",
     "text": [
      "/Users/preh0405/opt/anaconda3/envs/chrono/lib/python3.7/site-packages/statsmodels/tsa/stattools.py:541: FutureWarning: fft=True will become the default in a future version of statsmodels. To suppress this warning, explicitly set fft=False.\n",
      "  warnings.warn(msg, FutureWarning)\n"
     ]
    },
    {
     "name": "stdout",
     "output_type": "stream",
     "text": [
      "(25200, 10)\n",
      "(10080, 10)\n",
      "dict_keys(['ycols', 'dscol', 'weekdays', 'weekends', 'orient'])\n",
      "dict_keys(['minfreq', 'colfreqs', 'period'])\n",
      "dict_keys(['minfreq', 'colfreqs', 'period'])\n"
     ]
    },
    {
     "data": {
      "application/vnd.jupyter.widget-view+json": {
       "model_id": "a159e193efd5486492e2b544f5be0ddd",
       "version_major": 2,
       "version_minor": 0
      },
      "text/plain": [
       "Aligning data:   0%|          | 0/2 [00:00<?, ?it/s]"
      ]
     },
     "metadata": {},
     "output_type": "display_data"
    },
    {
     "name": "stdout",
     "output_type": "stream",
     "text": [
      "(35279, 10)\n",
      "(31679, 10)\n",
      "dict_keys(['ycols', 'dscol', 'weekdays', 'weekends', 'orient'])\n",
      "dict_keys(['minfreq', 'colfreqs', 'period', 'anchors', 'zeropoint'])\n",
      "dict_keys(['minfreq', 'colfreqs', 'period', 'anchors', 'zeropoint'])\n"
     ]
    },
    {
     "data": {
      "application/vnd.jupyter.widget-view+json": {
       "model_id": "294e3e5113994f00944010834a3ce06c",
       "version_major": 2,
       "version_minor": 0
      },
      "text/plain": [
       "Dropping Extrema:   0%|          | 0/2 [00:00<?, ?it/s]"
      ]
     },
     "metadata": {},
     "output_type": "display_data"
    },
    {
     "name": "stdout",
     "output_type": "stream",
     "text": [
      "(35279, 10)\n",
      "(31679, 10)\n",
      "dict_keys(['ycols', 'dscol', 'weekdays', 'weekends', 'orient'])\n",
      "dict_keys(['minfreq', 'colfreqs', 'period', 'anchors', 'zeropoint'])\n",
      "dict_keys(['minfreq', 'colfreqs', 'period', 'anchors', 'zeropoint'])\n"
     ]
    },
    {
     "data": {
      "application/vnd.jupyter.widget-view+json": {
       "model_id": "8f3fff1464824aa4976f8f826be8369c",
       "version_major": 2,
       "version_minor": 0
      },
      "text/plain": [
       "Normalising:   0%|          | 0/2 [00:00<?, ?it/s]"
      ]
     },
     "metadata": {},
     "output_type": "display_data"
    },
    {
     "name": "stdout",
     "output_type": "stream",
     "text": [
      "(35279, 11)\n",
      "(31679, 11)\n",
      "dict_keys(['ycols', 'dscol', 'weekdays', 'weekends', 'orient'])\n",
      "dict_keys(['minfreq', 'colfreqs', 'period', 'anchors', 'zeropoint', 'modnorms'])\n",
      "dict_keys(['minfreq', 'colfreqs', 'period', 'anchors', 'zeropoint', 'modnorms'])\n"
     ]
    },
    {
     "data": {
      "application/vnd.jupyter.widget-view+json": {
       "model_id": "d921bec48deb4b78bb36a8f7a33149e2",
       "version_major": 2,
       "version_minor": 0
      },
      "text/plain": [
       "Filling gap:   0%|          | 0/2 [00:00<?, ?it/s]"
      ]
     },
     "metadata": {},
     "output_type": "display_data"
    },
    {
     "name": "stdout",
     "output_type": "stream",
     "text": [
      "ok10\n",
      "ok20\n",
      "ok11\n",
      "ok21\n",
      "(35279, 11)\n",
      "(31679, 11)\n",
      "dict_keys(['ycols', 'dscol', 'weekdays', 'weekends', 'orient'])\n",
      "dict_keys(['minfreq', 'colfreqs', 'period', 'anchors', 'zeropoint', 'modnorms', 'profile', 'time_index'])\n",
      "dict_keys(['minfreq', 'colfreqs', 'period', 'anchors', 'zeropoint', 'modnorms', 'profile', 'time_index'])\n",
      "(35279, 11)\n",
      "(31679, 11)\n",
      "dict_keys(['ycols', 'dscol', 'weekdays', 'weekends', 'orient'])\n",
      "dict_keys(['minfreq', 'colfreqs', 'period', 'anchors', 'zeropoint', 'modnorms', 'profile', 'time_index'])\n",
      "dict_keys(['minfreq', 'colfreqs', 'period', 'anchors', 'zeropoint', 'modnorms', 'profile', 'time_index'])\n"
     ]
    },
    {
     "data": {
      "application/vnd.jupyter.widget-view+json": {
       "model_id": "32012b1dabdb4880aea9223132723ac1",
       "version_major": 2,
       "version_minor": 0
      },
      "text/plain": [
       "Generating Input:   0%|          | 0/2 [00:00<?, ?it/s]"
      ]
     },
     "metadata": {},
     "output_type": "display_data"
    },
    {
     "data": {
      "application/vnd.jupyter.widget-view+json": {
       "model_id": "6bec0c75c84f452095b0e4c8ee6329cc",
       "version_major": 2,
       "version_minor": 0
      },
      "text/plain": [
       "  0%|          | 0/2 [00:00<?, ?it/s]"
      ]
     },
     "metadata": {},
     "output_type": "display_data"
    },
    {
     "data": {
      "application/vnd.jupyter.widget-view+json": {
       "model_id": "b5c6ec669af248cabb09089dc7db12c6",
       "version_major": 2,
       "version_minor": 0
      },
      "text/plain": [
       "  0%|          | 0/2 [00:00<?, ?it/s]"
      ]
     },
     "metadata": {},
     "output_type": "display_data"
    },
    {
     "data": {
      "application/vnd.jupyter.widget-view+json": {
       "model_id": "d80f8446dc9e4a789660fed1fc2b9efb",
       "version_major": 2,
       "version_minor": 0
      },
      "text/plain": [
       "  0%|          | 0/2 [00:00<?, ?it/s]"
      ]
     },
     "metadata": {},
     "output_type": "display_data"
    },
    {
     "name": "stdout",
     "output_type": "stream",
     "text": [
      "epoch number:0 train_loss: 62987.39349872867 val_loss: 0.49597728078178466\n",
      "epoch number:0 train_loss: 42505.93003256288 val_loss: 1.1338004380391462\n"
     ]
    },
    {
     "data": {
      "application/vnd.jupyter.widget-view+json": {
       "model_id": "35a2252ce90e4f4b9ee4c8bb5da65ff0",
       "version_major": 2,
       "version_minor": 0
      },
      "text/plain": [
       "  0%|          | 0/2 [00:00<?, ?it/s]"
      ]
     },
     "metadata": {},
     "output_type": "display_data"
    },
    {
     "name": "stdout",
     "output_type": "stream",
     "text": [
      "epoch number:0 train_loss: 0.06091630789968702 val_loss: 0.00821971908159953\n",
      "epoch number:0 train_loss: 0.05566460887591044 val_loss: 0.005763090786864203\n"
     ]
    },
    {
     "data": {
      "application/vnd.jupyter.widget-view+json": {
       "model_id": "efad2175964f4575807bf52350f24863",
       "version_major": 2,
       "version_minor": 0
      },
      "text/plain": [
       "  0%|          | 0/2 [00:00<?, ?it/s]"
      ]
     },
     "metadata": {},
     "output_type": "display_data"
    },
    {
     "data": {
      "application/vnd.jupyter.widget-view+json": {
       "model_id": "2d6dfc3637d9451ea0da65fc97c35f7c",
       "version_major": 2,
       "version_minor": 0
      },
      "text/plain": [
       "  0%|          | 0/2 [00:00<?, ?it/s]"
      ]
     },
     "metadata": {},
     "output_type": "display_data"
    },
    {
     "name": "stdout",
     "output_type": "stream",
     "text": [
      "epoch number:0 train_loss: 44361.6904278649 val_loss: 22.792758505428836\n",
      "epoch number:0 train_loss: 28462.16506157443 val_loss: 24.459942895113123\n"
     ]
    },
    {
     "data": {
      "application/vnd.jupyter.widget-view+json": {
       "model_id": "7f31349521f140e5afedc228d88f810e",
       "version_major": 2,
       "version_minor": 0
      },
      "text/plain": [
       "  0%|          | 0/2 [00:00<?, ?it/s]"
      ]
     },
     "metadata": {},
     "output_type": "display_data"
    },
    {
     "name": "stdout",
     "output_type": "stream",
     "text": [
      "epoch number:0 train_loss: 0.022918259724974632 val_loss: 0.00892356982074282\n",
      "epoch number:0 train_loss: 0.02481930609792471 val_loss: 0.009493205554009114\n"
     ]
    },
    {
     "data": {
      "application/vnd.jupyter.widget-view+json": {
       "model_id": "b51606d20ee046fa890570c9849f06eb",
       "version_major": 2,
       "version_minor": 0
      },
      "text/plain": [
       "  0%|          | 0/2 [00:00<?, ?it/s]"
      ]
     },
     "metadata": {},
     "output_type": "display_data"
    },
    {
     "data": {
      "application/vnd.jupyter.widget-view+json": {
       "model_id": "b589d690666b4ec4af976fcb089354a3",
       "version_major": 2,
       "version_minor": 0
      },
      "text/plain": [
       "  0%|          | 0/2 [00:00<?, ?it/s]"
      ]
     },
     "metadata": {},
     "output_type": "display_data"
    },
    {
     "data": {
      "application/vnd.jupyter.widget-view+json": {
       "model_id": "7320761fc85a4f1eaad27f1a5a20f2c8",
       "version_major": 2,
       "version_minor": 0
      },
      "text/plain": [
       "  0%|          | 0/2 [00:00<?, ?it/s]"
      ]
     },
     "metadata": {},
     "output_type": "display_data"
    },
    {
     "name": "stdout",
     "output_type": "stream",
     "text": [
      "epoch number:0 train_loss: 53747.28930960099 val_loss: 29.84418680391744\n",
      "epoch number:0 train_loss: 53409.81706309981 val_loss: 45.007471800864735\n"
     ]
    },
    {
     "data": {
      "application/vnd.jupyter.widget-view+json": {
       "model_id": "4970eca94efa425c9753c074a8a653c5",
       "version_major": 2,
       "version_minor": 0
      },
      "text/plain": [
       "  0%|          | 0/2 [00:00<?, ?it/s]"
      ]
     },
     "metadata": {},
     "output_type": "display_data"
    },
    {
     "name": "stdout",
     "output_type": "stream",
     "text": [
      "epoch number:0 train_loss: 0.05297853218184577 val_loss: 0.020350577720818577\n",
      "epoch number:0 train_loss: 0.04517741335762872 val_loss: 0.01711944465592355\n"
     ]
    },
    {
     "data": {
      "application/vnd.jupyter.widget-view+json": {
       "model_id": "d156b81402af471d830732b760c65342",
       "version_major": 2,
       "version_minor": 0
      },
      "text/plain": [
       "  0%|          | 0/2 [00:00<?, ?it/s]"
      ]
     },
     "metadata": {},
     "output_type": "display_data"
    },
    {
     "data": {
      "application/vnd.jupyter.widget-view+json": {
       "model_id": "64c760987f644a6abf6385a903244cf8",
       "version_major": 2,
       "version_minor": 0
      },
      "text/plain": [
       "  0%|          | 0/2 [00:00<?, ?it/s]"
      ]
     },
     "metadata": {},
     "output_type": "display_data"
    },
    {
     "name": "stdout",
     "output_type": "stream",
     "text": [
      "epoch number:0 train_loss: 33513.85216756724 val_loss: 21.898890944173427\n",
      "epoch number:0 train_loss: 37574.77012532763 val_loss: 20.138082625161257\n"
     ]
    },
    {
     "data": {
      "application/vnd.jupyter.widget-view+json": {
       "model_id": "8d28171a24434881ac73644a5f1757f0",
       "version_major": 2,
       "version_minor": 0
      },
      "text/plain": [
       "  0%|          | 0/2 [00:00<?, ?it/s]"
      ]
     },
     "metadata": {},
     "output_type": "display_data"
    },
    {
     "name": "stdout",
     "output_type": "stream",
     "text": [
      "epoch number:0 train_loss: 0.026730000972747803 val_loss: 0.010222124508251908\n",
      "epoch number:0 train_loss: 0.02584808971732855 val_loss: 0.010128381664412925\n"
     ]
    }
   ],
   "source": [
    "from preprocessing.preprocessor import LoadData, FindFrequency, PeriodDetect, AlignData, DropExtrema, Normalizer, FillGap, GenerateInput\n",
    "from modeling.pytorch_ae_benchmark import Benchmark\n",
    "from pipeline import Pipeline\n",
    "\n",
    "benchmark_list = [\n",
    "    LoadData(fname, dscol, ycols),\n",
    "    FindFrequency(),\n",
    "    PeriodDetect(),\n",
    "    AlignData(),\n",
    "    DropExtrema(),\n",
    "    Normalizer(),\n",
    "    FillGap(),\n",
    "    GenerateInput(),\n",
    "    Benchmark()\n",
    "]\n",
    "benchmark_pipeline = Pipeline(benchmark_list)\n",
    "loss_memory, val_loss_memory = benchmark_pipeline.benchmark_transform()"
   ]
  },
  {
   "cell_type": "code",
   "execution_count": 3,
   "id": "b257675d",
   "metadata": {},
   "outputs": [
    {
     "data": {
      "text/plain": [
       "<matplotlib.axes._subplots.AxesSubplot at 0x7fb223d48a50>"
      ]
     },
     "execution_count": 3,
     "metadata": {},
     "output_type": "execute_result"
    },
    {
     "data": {
      "image/png": "[encoded data removed]",
      "text/plain": [
       "<Figure size 1152x576 with 1 Axes>"
      ]
     },
     "metadata": {
      "needs_background": "light"
     },
     "output_type": "display_data"
    }
   ],
   "source": [
    "#weekdays\n",
    "loss_memory[0].plot(figsize=[16,8])"
   ]
  },
  {
   "cell_type": "code",
   "execution_count": 4,
   "id": "62daa955",
   "metadata": {},
   "outputs": [
    {
     "data": {
      "text/plain": [
       "<matplotlib.axes._subplots.AxesSubplot at 0x7fb223e81d10>"
      ]
     },
     "execution_count": 4,
     "metadata": {},
     "output_type": "execute_result"
    },
    {
     "data": {
      "image/png": "[encoded data removed]",
      "text/plain": [
       "<Figure size 1152x576 with 1 Axes>"
      ]
     },
     "metadata": {
      "needs_background": "light"
     },
     "output_type": "display_data"
    }
   ],
   "source": [
    "val_loss_memory[0].plot(figsize=[16,8])"
   ]
  },
  {
   "cell_type": "code",
   "execution_count": 5,
   "id": "948a9a0f",
   "metadata": {},
   "outputs": [
    {
     "data": {
      "text/plain": [
       "<matplotlib.axes._subplots.AxesSubplot at 0x7fb223fc4f10>"
      ]
     },
     "execution_count": 5,
     "metadata": {},
     "output_type": "execute_result"
    },
    {
     "data": {
      "image/png": "[encoded data removed]",
      "text/plain": [
       "<Figure size 1152x576 with 1 Axes>"
      ]
     },
     "metadata": {
      "needs_background": "light"
     },
     "output_type": "display_data"
    }
   ],
   "source": [
    "loss_memory[1].plot(figsize=[16,8])"
   ]
  },
  {
   "cell_type": "code",
   "execution_count": 6,
   "id": "ac4b9b97",
   "metadata": {},
   "outputs": [
    {
     "data": {
      "text/plain": [
       "<matplotlib.axes._subplots.AxesSubplot at 0x7fb224052e90>"
      ]
     },
     "execution_count": 6,
     "metadata": {},
     "output_type": "execute_result"
    },
    {
     "data": {
      "image/png": "[encoded data removed]",
      "text/plain": [
       "<Figure size 1152x576 with 1 Axes>"
      ]
     },
     "metadata": {
      "needs_background": "light"
     },
     "output_type": "display_data"
    }
   ],
   "source": [
    "val_loss_memory[1].plot(figsize=[16,8])"
   ]
  },
  {
   "cell_type": "code",
   "execution_count": null,
   "id": "1a3276c0",
   "metadata": {},
   "outputs": [],
   "source": []
  }
 ],
 "metadata": {
  "kernelspec": {
   "display_name": "Python 3",
   "language": "python",
   "name": "python3"
  },
  "language_info": {
   "codemirror_mode": {
    "name": "ipython",
    "version": 3
   },
   "file_extension": ".py",
   "mimetype": "text/x-python",
   "name": "python",
   "nbconvert_exporter": "python",
   "pygments_lexer": "ipython3",
   "version": "3.7.4"
  }
 },
 "nbformat": 4,
 "nbformat_minor": 5
}
